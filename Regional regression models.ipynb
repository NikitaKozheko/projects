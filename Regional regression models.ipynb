{
 "cells": [
  {
   "cell_type": "code",
   "execution_count": null,
   "metadata": {
    "colab": {
     "base_uri": "https://localhost:8080/",
     "height": 74
    },
    "id": "8X4puJiNPglY",
    "outputId": "fcbc66ef-176b-4b13-f8c9-461d422e2381"
   },
   "outputs": [
    {
     "data": {
      "text/html": [
       "\n",
       "     <input type=\"file\" id=\"files-527a1018-33f4-45d1-a4f0-d1a76bca7b54\" name=\"files[]\" multiple disabled\n",
       "        style=\"border:none\" />\n",
       "     <output id=\"result-527a1018-33f4-45d1-a4f0-d1a76bca7b54\">\n",
       "      Upload widget is only available when the cell has been executed in the\n",
       "      current browser session. Please rerun this cell to enable.\n",
       "      </output>\n",
       "      <script>// Copyright 2017 Google LLC\n",
       "//\n",
       "// Licensed under the Apache License, Version 2.0 (the \"License\");\n",
       "// you may not use this file except in compliance with the License.\n",
       "// You may obtain a copy of the License at\n",
       "//\n",
       "//      http://www.apache.org/licenses/LICENSE-2.0\n",
       "//\n",
       "// Unless required by applicable law or agreed to in writing, software\n",
       "// distributed under the License is distributed on an \"AS IS\" BASIS,\n",
       "// WITHOUT WARRANTIES OR CONDITIONS OF ANY KIND, either express or implied.\n",
       "// See the License for the specific language governing permissions and\n",
       "// limitations under the License.\n",
       "\n",
       "/**\n",
       " * @fileoverview Helpers for google.colab Python module.\n",
       " */\n",
       "(function(scope) {\n",
       "function span(text, styleAttributes = {}) {\n",
       "  const element = document.createElement('span');\n",
       "  element.textContent = text;\n",
       "  for (const key of Object.keys(styleAttributes)) {\n",
       "    element.style[key] = styleAttributes[key];\n",
       "  }\n",
       "  return element;\n",
       "}\n",
       "\n",
       "// Max number of bytes which will be uploaded at a time.\n",
       "const MAX_PAYLOAD_SIZE = 100 * 1024;\n",
       "\n",
       "function _uploadFiles(inputId, outputId) {\n",
       "  const steps = uploadFilesStep(inputId, outputId);\n",
       "  const outputElement = document.getElementById(outputId);\n",
       "  // Cache steps on the outputElement to make it available for the next call\n",
       "  // to uploadFilesContinue from Python.\n",
       "  outputElement.steps = steps;\n",
       "\n",
       "  return _uploadFilesContinue(outputId);\n",
       "}\n",
       "\n",
       "// This is roughly an async generator (not supported in the browser yet),\n",
       "// where there are multiple asynchronous steps and the Python side is going\n",
       "// to poll for completion of each step.\n",
       "// This uses a Promise to block the python side on completion of each step,\n",
       "// then passes the result of the previous step as the input to the next step.\n",
       "function _uploadFilesContinue(outputId) {\n",
       "  const outputElement = document.getElementById(outputId);\n",
       "  const steps = outputElement.steps;\n",
       "\n",
       "  const next = steps.next(outputElement.lastPromiseValue);\n",
       "  return Promise.resolve(next.value.promise).then((value) => {\n",
       "    // Cache the last promise value to make it available to the next\n",
       "    // step of the generator.\n",
       "    outputElement.lastPromiseValue = value;\n",
       "    return next.value.response;\n",
       "  });\n",
       "}\n",
       "\n",
       "/**\n",
       " * Generator function which is called between each async step of the upload\n",
       " * process.\n",
       " * @param {string} inputId Element ID of the input file picker element.\n",
       " * @param {string} outputId Element ID of the output display.\n",
       " * @return {!Iterable<!Object>} Iterable of next steps.\n",
       " */\n",
       "function* uploadFilesStep(inputId, outputId) {\n",
       "  const inputElement = document.getElementById(inputId);\n",
       "  inputElement.disabled = false;\n",
       "\n",
       "  const outputElement = document.getElementById(outputId);\n",
       "  outputElement.innerHTML = '';\n",
       "\n",
       "  const pickedPromise = new Promise((resolve) => {\n",
       "    inputElement.addEventListener('change', (e) => {\n",
       "      resolve(e.target.files);\n",
       "    });\n",
       "  });\n",
       "\n",
       "  const cancel = document.createElement('button');\n",
       "  inputElement.parentElement.appendChild(cancel);\n",
       "  cancel.textContent = 'Cancel upload';\n",
       "  const cancelPromise = new Promise((resolve) => {\n",
       "    cancel.onclick = () => {\n",
       "      resolve(null);\n",
       "    };\n",
       "  });\n",
       "\n",
       "  // Wait for the user to pick the files.\n",
       "  const files = yield {\n",
       "    promise: Promise.race([pickedPromise, cancelPromise]),\n",
       "    response: {\n",
       "      action: 'starting',\n",
       "    }\n",
       "  };\n",
       "\n",
       "  cancel.remove();\n",
       "\n",
       "  // Disable the input element since further picks are not allowed.\n",
       "  inputElement.disabled = true;\n",
       "\n",
       "  if (!files) {\n",
       "    return {\n",
       "      response: {\n",
       "        action: 'complete',\n",
       "      }\n",
       "    };\n",
       "  }\n",
       "\n",
       "  for (const file of files) {\n",
       "    const li = document.createElement('li');\n",
       "    li.append(span(file.name, {fontWeight: 'bold'}));\n",
       "    li.append(span(\n",
       "        `(${file.type || 'n/a'}) - ${file.size} bytes, ` +\n",
       "        `last modified: ${\n",
       "            file.lastModifiedDate ? file.lastModifiedDate.toLocaleDateString() :\n",
       "                                    'n/a'} - `));\n",
       "    const percent = span('0% done');\n",
       "    li.appendChild(percent);\n",
       "\n",
       "    outputElement.appendChild(li);\n",
       "\n",
       "    const fileDataPromise = new Promise((resolve) => {\n",
       "      const reader = new FileReader();\n",
       "      reader.onload = (e) => {\n",
       "        resolve(e.target.result);\n",
       "      };\n",
       "      reader.readAsArrayBuffer(file);\n",
       "    });\n",
       "    // Wait for the data to be ready.\n",
       "    let fileData = yield {\n",
       "      promise: fileDataPromise,\n",
       "      response: {\n",
       "        action: 'continue',\n",
       "      }\n",
       "    };\n",
       "\n",
       "    // Use a chunked sending to avoid message size limits. See b/62115660.\n",
       "    let position = 0;\n",
       "    do {\n",
       "      const length = Math.min(fileData.byteLength - position, MAX_PAYLOAD_SIZE);\n",
       "      const chunk = new Uint8Array(fileData, position, length);\n",
       "      position += length;\n",
       "\n",
       "      const base64 = btoa(String.fromCharCode.apply(null, chunk));\n",
       "      yield {\n",
       "        response: {\n",
       "          action: 'append',\n",
       "          file: file.name,\n",
       "          data: base64,\n",
       "        },\n",
       "      };\n",
       "\n",
       "      let percentDone = fileData.byteLength === 0 ?\n",
       "          100 :\n",
       "          Math.round((position / fileData.byteLength) * 100);\n",
       "      percent.textContent = `${percentDone}% done`;\n",
       "\n",
       "    } while (position < fileData.byteLength);\n",
       "  }\n",
       "\n",
       "  // All done.\n",
       "  yield {\n",
       "    response: {\n",
       "      action: 'complete',\n",
       "    }\n",
       "  };\n",
       "}\n",
       "\n",
       "scope.google = scope.google || {};\n",
       "scope.google.colab = scope.google.colab || {};\n",
       "scope.google.colab._files = {\n",
       "  _uploadFiles,\n",
       "  _uploadFilesContinue,\n",
       "};\n",
       "})(self);\n",
       "</script> "
      ],
      "text/plain": [
       "<IPython.core.display.HTML object>"
      ]
     },
     "metadata": {},
     "output_type": "display_data"
    },
    {
     "name": "stdout",
     "output_type": "stream",
     "text": [
      "Saving Homework_2022.xlsx to Homework_2022.xlsx\n"
     ]
    }
   ],
   "source": [
    "from google.colab import files\n",
    "upload = files.upload()"
   ]
  },
  {
   "cell_type": "code",
   "execution_count": null,
   "metadata": {
    "colab": {
     "base_uri": "https://localhost:8080/",
     "height": 206
    },
    "id": "t38fqTg1Xaek",
    "outputId": "52ca4669-6011-4b03-aa52-63cae47513f3"
   },
   "outputs": [
    {
     "data": {
      "text/html": [
       "\n",
       "  <div id=\"df-f72bf63d-c4b5-464f-bb4c-184dec0804bd\">\n",
       "    <div class=\"colab-df-container\">\n",
       "      <div>\n",
       "<style scoped>\n",
       "    .dataframe tbody tr th:only-of-type {\n",
       "        vertical-align: middle;\n",
       "    }\n",
       "\n",
       "    .dataframe tbody tr th {\n",
       "        vertical-align: top;\n",
       "    }\n",
       "\n",
       "    .dataframe thead th {\n",
       "        text-align: right;\n",
       "    }\n",
       "</style>\n",
       "<table border=\"1\" class=\"dataframe\">\n",
       "  <thead>\n",
       "    <tr style=\"text-align: right;\">\n",
       "      <th></th>\n",
       "      <th>idind</th>\n",
       "      <th>psu</th>\n",
       "      <th>status</th>\n",
       "      <th>age</th>\n",
       "      <th>male</th>\n",
       "      <th>industry</th>\n",
       "      <th>wage</th>\n",
       "      <th>public</th>\n",
       "      <th>internet</th>\n",
       "      <th>children</th>\n",
       "      <th>urban</th>\n",
       "      <th>educ</th>\n",
       "    </tr>\n",
       "  </thead>\n",
       "  <tbody>\n",
       "    <tr>\n",
       "      <th>0</th>\n",
       "      <td>321</td>\n",
       "      <td>Кущевский р-</td>\n",
       "      <td>Село</td>\n",
       "      <td>41</td>\n",
       "      <td>1</td>\n",
       "      <td>НЕФТЕГАЗОВАЯ</td>\n",
       "      <td>25500</td>\n",
       "      <td>0</td>\n",
       "      <td>1</td>\n",
       "      <td>2</td>\n",
       "      <td>0</td>\n",
       "      <td>1</td>\n",
       "    </tr>\n",
       "    <tr>\n",
       "      <th>1</th>\n",
       "      <td>322</td>\n",
       "      <td>Кущевский р-</td>\n",
       "      <td>Село</td>\n",
       "      <td>51</td>\n",
       "      <td>1</td>\n",
       "      <td>СЕЛЬСКОЕ ХОЗ</td>\n",
       "      <td>12500</td>\n",
       "      <td>1</td>\n",
       "      <td>1</td>\n",
       "      <td>2</td>\n",
       "      <td>0</td>\n",
       "      <td>1</td>\n",
       "    </tr>\n",
       "    <tr>\n",
       "      <th>2</th>\n",
       "      <td>323</td>\n",
       "      <td>Кущевский р-</td>\n",
       "      <td>Село</td>\n",
       "      <td>26</td>\n",
       "      <td>0</td>\n",
       "      <td>ТОРГОВЛЯ, БЫ</td>\n",
       "      <td>15500</td>\n",
       "      <td>0</td>\n",
       "      <td>1</td>\n",
       "      <td>0</td>\n",
       "      <td>0</td>\n",
       "      <td>2</td>\n",
       "    </tr>\n",
       "    <tr>\n",
       "      <th>3</th>\n",
       "      <td>324</td>\n",
       "      <td>Кущевский р-</td>\n",
       "      <td>Село</td>\n",
       "      <td>55</td>\n",
       "      <td>0</td>\n",
       "      <td>ОРГАНЫ УПРАВ</td>\n",
       "      <td>15500</td>\n",
       "      <td>1</td>\n",
       "      <td>1</td>\n",
       "      <td>2</td>\n",
       "      <td>0</td>\n",
       "      <td>2</td>\n",
       "    </tr>\n",
       "    <tr>\n",
       "      <th>4</th>\n",
       "      <td>325</td>\n",
       "      <td>Кущевский р-</td>\n",
       "      <td>Село</td>\n",
       "      <td>57</td>\n",
       "      <td>1</td>\n",
       "      <td>НЕФТЕГАЗОВАЯ</td>\n",
       "      <td>10500</td>\n",
       "      <td>1</td>\n",
       "      <td>0</td>\n",
       "      <td>2</td>\n",
       "      <td>0</td>\n",
       "      <td>1</td>\n",
       "    </tr>\n",
       "  </tbody>\n",
       "</table>\n",
       "</div>\n",
       "      <button class=\"colab-df-convert\" onclick=\"convertToInteractive('df-f72bf63d-c4b5-464f-bb4c-184dec0804bd')\"\n",
       "              title=\"Convert this dataframe to an interactive table.\"\n",
       "              style=\"display:none;\">\n",
       "        \n",
       "  <svg xmlns=\"http://www.w3.org/2000/svg\" height=\"24px\"viewBox=\"0 0 24 24\"\n",
       "       width=\"24px\">\n",
       "    <path d=\"M0 0h24v24H0V0z\" fill=\"none\"/>\n",
       "    <path d=\"M18.56 5.44l.94 2.06.94-2.06 2.06-.94-2.06-.94-.94-2.06-.94 2.06-2.06.94zm-11 1L8.5 8.5l.94-2.06 2.06-.94-2.06-.94L8.5 2.5l-.94 2.06-2.06.94zm10 10l.94 2.06.94-2.06 2.06-.94-2.06-.94-.94-2.06-.94 2.06-2.06.94z\"/><path d=\"M17.41 7.96l-1.37-1.37c-.4-.4-.92-.59-1.43-.59-.52 0-1.04.2-1.43.59L10.3 9.45l-7.72 7.72c-.78.78-.78 2.05 0 2.83L4 21.41c.39.39.9.59 1.41.59.51 0 1.02-.2 1.41-.59l7.78-7.78 2.81-2.81c.8-.78.8-2.07 0-2.86zM5.41 20L4 18.59l7.72-7.72 1.47 1.35L5.41 20z\"/>\n",
       "  </svg>\n",
       "      </button>\n",
       "      \n",
       "  <style>\n",
       "    .colab-df-container {\n",
       "      display:flex;\n",
       "      flex-wrap:wrap;\n",
       "      gap: 12px;\n",
       "    }\n",
       "\n",
       "    .colab-df-convert {\n",
       "      background-color: #E8F0FE;\n",
       "      border: none;\n",
       "      border-radius: 50%;\n",
       "      cursor: pointer;\n",
       "      display: none;\n",
       "      fill: #1967D2;\n",
       "      height: 32px;\n",
       "      padding: 0 0 0 0;\n",
       "      width: 32px;\n",
       "    }\n",
       "\n",
       "    .colab-df-convert:hover {\n",
       "      background-color: #E2EBFA;\n",
       "      box-shadow: 0px 1px 2px rgba(60, 64, 67, 0.3), 0px 1px 3px 1px rgba(60, 64, 67, 0.15);\n",
       "      fill: #174EA6;\n",
       "    }\n",
       "\n",
       "    [theme=dark] .colab-df-convert {\n",
       "      background-color: #3B4455;\n",
       "      fill: #D2E3FC;\n",
       "    }\n",
       "\n",
       "    [theme=dark] .colab-df-convert:hover {\n",
       "      background-color: #434B5C;\n",
       "      box-shadow: 0px 1px 3px 1px rgba(0, 0, 0, 0.15);\n",
       "      filter: drop-shadow(0px 1px 2px rgba(0, 0, 0, 0.3));\n",
       "      fill: #FFFFFF;\n",
       "    }\n",
       "  </style>\n",
       "\n",
       "      <script>\n",
       "        const buttonEl =\n",
       "          document.querySelector('#df-f72bf63d-c4b5-464f-bb4c-184dec0804bd button.colab-df-convert');\n",
       "        buttonEl.style.display =\n",
       "          google.colab.kernel.accessAllowed ? 'block' : 'none';\n",
       "\n",
       "        async function convertToInteractive(key) {\n",
       "          const element = document.querySelector('#df-f72bf63d-c4b5-464f-bb4c-184dec0804bd');\n",
       "          const dataTable =\n",
       "            await google.colab.kernel.invokeFunction('convertToInteractive',\n",
       "                                                     [key], {});\n",
       "          if (!dataTable) return;\n",
       "\n",
       "          const docLinkHtml = 'Like what you see? Visit the ' +\n",
       "            '<a target=\"_blank\" href=https://colab.research.google.com/notebooks/data_table.ipynb>data table notebook</a>'\n",
       "            + ' to learn more about interactive tables.';\n",
       "          element.innerHTML = '';\n",
       "          dataTable['output_type'] = 'display_data';\n",
       "          await google.colab.output.renderOutput(dataTable, element);\n",
       "          const docLink = document.createElement('div');\n",
       "          docLink.innerHTML = docLinkHtml;\n",
       "          element.appendChild(docLink);\n",
       "        }\n",
       "      </script>\n",
       "    </div>\n",
       "  </div>\n",
       "  "
      ],
      "text/plain": [
       "   idind           psu status  age  male      industry   wage  public  \\\n",
       "0    321  Кущевский р-   Село   41     1  НЕФТЕГАЗОВАЯ  25500       0   \n",
       "1    322  Кущевский р-   Село   51     1  СЕЛЬСКОЕ ХОЗ  12500       1   \n",
       "2    323  Кущевский р-   Село   26     0  ТОРГОВЛЯ, БЫ  15500       0   \n",
       "3    324  Кущевский р-   Село   55     0  ОРГАНЫ УПРАВ  15500       1   \n",
       "4    325  Кущевский р-   Село   57     1  НЕФТЕГАЗОВАЯ  10500       1   \n",
       "\n",
       "   internet  children  urban  educ  \n",
       "0         1         2      0     1  \n",
       "1         1         2      0     1  \n",
       "2         1         0      0     2  \n",
       "3         1         2      0     2  \n",
       "4         0         2      0     1  "
      ]
     },
     "execution_count": 2,
     "metadata": {},
     "output_type": "execute_result"
    }
   ],
   "source": [
    "import pandas as pd \n",
    "import io\n",
    "\n",
    "df = pd.read_excel(io.BytesIO(upload['Homework_2022.xlsx']))\n",
    "df.head()"
   ]
  },
  {
   "cell_type": "markdown",
   "metadata": {
    "id": "F59fWEjePm2w"
   },
   "source": [
    "# 1. Описание выборки\n",
    "\n",
    "Генеральной совокупностью для моего варианта является находящееся в трудоспособном возрасте население Кущевского района Краснодарского края. \n",
    "\n",
    "Репрезентативная выборка - это такая выборка, в которой все основные признаки генеральной совокупности, из которой извлечена данная выборка, представлены приблизительно в той же пропорции или с той же частотой, с которой данный признак выступает в этой генеральной совокупности.\n",
    "\n",
    "Данная выборка является репрезентативной, так как по каждому признаку и его значению присутствует достаточное количество наблюдений, то есть присутствуют люди всех возрастов, женщины и мужчины, представители всех отраслей и так далее в адекватной пропорции относительно генеральной совокупности."
   ]
  },
  {
   "cell_type": "markdown",
   "metadata": {
    "id": "04l6aZjbe2WS"
   },
   "source": [
    "# 2. Описательные статистики"
   ]
  },
  {
   "cell_type": "code",
   "execution_count": null,
   "metadata": {
    "id": "RsGZz9oohI2R"
   },
   "outputs": [],
   "source": [
    "df2 = df[['age', 'male', 'wage', 'public', 'internet', 'children', 'urban', 'educ']]"
   ]
  },
  {
   "cell_type": "code",
   "execution_count": null,
   "metadata": {
    "colab": {
     "base_uri": "https://localhost:8080/"
    },
    "id": "qLj_FACVdcJZ",
    "outputId": "551895c9-aa8f-4be2-d6d6-d780c99eb491"
   },
   "outputs": [
    {
     "data": {
      "text/plain": [
       "age            37.916667\n",
       "male            0.500000\n",
       "wage        19654.513889\n",
       "public          0.479167\n",
       "internet        0.875000\n",
       "children        1.368056\n",
       "urban           0.000000\n",
       "educ            1.826389\n",
       "dtype: float64"
      ]
     },
     "execution_count": 4,
     "metadata": {},
     "output_type": "execute_result"
    }
   ],
   "source": [
    "df2.mean() #средние значения по столбцам "
   ]
  },
  {
   "cell_type": "code",
   "execution_count": null,
   "metadata": {
    "colab": {
     "base_uri": "https://localhost:8080/"
    },
    "id": "rG3fpDbgdoE8",
    "outputId": "336e640a-bb05-4494-cad1-d6708451151b"
   },
   "outputs": [
    {
     "data": {
      "text/plain": [
       "age          19\n",
       "male          0\n",
       "wage        550\n",
       "public        0\n",
       "internet      0\n",
       "children      0\n",
       "urban         0\n",
       "educ          0\n",
       "dtype: int64"
      ]
     },
     "execution_count": 5,
     "metadata": {},
     "output_type": "execute_result"
    }
   ],
   "source": [
    "df2.min() #минимальные значения по столбцам"
   ]
  },
  {
   "cell_type": "code",
   "execution_count": null,
   "metadata": {
    "colab": {
     "base_uri": "https://localhost:8080/"
    },
    "id": "3HwNGmh0d4hA",
    "outputId": "2668417e-fd5f-4395-9178-5438830d2234"
   },
   "outputs": [
    {
     "data": {
      "text/plain": [
       "age            59\n",
       "male            1\n",
       "wage        58500\n",
       "public          1\n",
       "internet        1\n",
       "children        4\n",
       "urban           0\n",
       "educ            3\n",
       "dtype: int64"
      ]
     },
     "execution_count": 6,
     "metadata": {},
     "output_type": "execute_result"
    }
   ],
   "source": [
    "df2.max() #максимальные значения по столбцам"
   ]
  },
  {
   "cell_type": "code",
   "execution_count": null,
   "metadata": {
    "colab": {
     "base_uri": "https://localhost:8080/"
    },
    "id": "43z-0EE9ewsU",
    "outputId": "f747c646-620e-448e-f93b-0082fe121053"
   },
   "outputs": [
    {
     "data": {
      "text/plain": [
       "age            10.412137\n",
       "male            0.501745\n",
       "wage        10432.702942\n",
       "public          0.501309\n",
       "internet        0.331873\n",
       "children        0.858903\n",
       "urban           0.000000\n",
       "educ            1.019597\n",
       "dtype: float64"
      ]
     },
     "execution_count": 7,
     "metadata": {},
     "output_type": "execute_result"
    }
   ],
   "source": [
    "df2.std() #стандартное отклонение по столбцам"
   ]
  },
  {
   "cell_type": "code",
   "execution_count": null,
   "metadata": {
    "colab": {
     "base_uri": "https://localhost:8080/"
    },
    "id": "P5fOAvxdmqBP",
    "outputId": "ff9b1de5-3700-4f8f-ae30-c92201458ac6"
   },
   "outputs": [
    {
     "data": {
      "text/plain": [
       "age            40\n",
       "male            1\n",
       "wage        57950\n",
       "public          1\n",
       "internet        1\n",
       "children        4\n",
       "urban           0\n",
       "educ            3\n",
       "dtype: int64"
      ]
     },
     "execution_count": 8,
     "metadata": {},
     "output_type": "execute_result"
    }
   ],
   "source": [
    "df2.max() - df2.min() #размах"
   ]
  },
  {
   "cell_type": "markdown",
   "metadata": {
    "id": "RCctVU9Xjb26"
   },
   "source": [
    "## 3. Квартили, размах"
   ]
  },
  {
   "cell_type": "code",
   "execution_count": null,
   "metadata": {
    "id": "hNBm-A1zl4AF"
   },
   "outputs": [],
   "source": [
    "import numpy as np"
   ]
  },
  {
   "cell_type": "code",
   "execution_count": null,
   "metadata": {
    "colab": {
     "base_uri": "https://localhost:8080/"
    },
    "id": "q_PT6wl0jl2A",
    "outputId": "5936b559-e5a9-4d10-f4cf-56ac12b242f3"
   },
   "outputs": [
    {
     "data": {
      "text/plain": [
       "(46.0, 36.0, 30.0)"
      ]
     },
     "execution_count": 10,
     "metadata": {},
     "output_type": "execute_result"
    }
   ],
   "source": [
    "q3, q2, q1 = np.percentile (df['age'], [75, 50, 25])\n",
    "q3, q2, q1 #75, 50 и 25 квартили для возраста"
   ]
  },
  {
   "cell_type": "code",
   "execution_count": null,
   "metadata": {
    "colab": {
     "base_uri": "https://localhost:8080/"
    },
    "id": "3ZDe4luElzr2",
    "outputId": "de37d96d-359a-4a4f-9ad5-554279acfc6a"
   },
   "outputs": [
    {
     "data": {
      "text/plain": [
       "16.0"
      ]
     },
     "execution_count": 11,
     "metadata": {},
     "output_type": "execute_result"
    }
   ],
   "source": [
    "iqr = q3 - q1 #межквартильный размах для возраста\n",
    "iqr"
   ]
  },
  {
   "cell_type": "code",
   "execution_count": null,
   "metadata": {
    "colab": {
     "base_uri": "https://localhost:8080/"
    },
    "id": "_zxeKXtemV6s",
    "outputId": "16f4a88b-8cfb-4320-f85d-427363f98a21"
   },
   "outputs": [
    {
     "data": {
      "text/plain": [
       "(25500.0, 16500.0, 12500.0)"
      ]
     },
     "execution_count": 12,
     "metadata": {},
     "output_type": "execute_result"
    }
   ],
   "source": [
    "q3, q2, q1 = np.percentile (df['wage'], [75, 50, 25])\n",
    "q3, q2, q1 #75, 50 и 25 квартили для зарплаты"
   ]
  },
  {
   "cell_type": "code",
   "execution_count": null,
   "metadata": {
    "colab": {
     "base_uri": "https://localhost:8080/"
    },
    "id": "vTQg9vvNmWGf",
    "outputId": "e2961c45-33bc-460b-fd00-52cb74ad707f"
   },
   "outputs": [
    {
     "data": {
      "text/plain": [
       "13000.0"
      ]
     },
     "execution_count": 13,
     "metadata": {},
     "output_type": "execute_result"
    }
   ],
   "source": [
    "iqr = q3 - q1 #межквартильный размах для зарплаты\n",
    "iqr"
   ]
  },
  {
   "cell_type": "markdown",
   "metadata": {
    "id": "_Hma3zChqPzm"
   },
   "source": [
    "# 4. Average, median, mode"
   ]
  },
  {
   "cell_type": "code",
   "execution_count": null,
   "metadata": {
    "colab": {
     "base_uri": "https://localhost:8080/"
    },
    "id": "XzVfxdeSqgAM",
    "outputId": "6a042d25-3c2c-4908-fdb2-9654b49cd270"
   },
   "outputs": [
    {
     "data": {
      "text/plain": [
       "(19654.51388888889, 37.916666666666664)"
      ]
     },
     "execution_count": 14,
     "metadata": {},
     "output_type": "execute_result"
    }
   ],
   "source": [
    "np.average(df['wage']), np.average(df['age']) #среднее значение по зарплате и возрасту"
   ]
  },
  {
   "cell_type": "code",
   "execution_count": null,
   "metadata": {
    "colab": {
     "base_uri": "https://localhost:8080/"
    },
    "id": "CjWqNpJarSnx",
    "outputId": "a398b10b-2382-4b79-87fe-0dbf2ff119bb"
   },
   "outputs": [
    {
     "data": {
      "text/plain": [
       "(16500.0, 36.0)"
      ]
     },
     "execution_count": 15,
     "metadata": {},
     "output_type": "execute_result"
    }
   ],
   "source": [
    "np.median(df['wage']), np.median(df['age']) #медиана по зарплате и возрасту"
   ]
  },
  {
   "cell_type": "code",
   "execution_count": null,
   "metadata": {
    "colab": {
     "base_uri": "https://localhost:8080/"
    },
    "id": "OxqrQfxbrzyg",
    "outputId": "5fbd6677-5686-44c7-e1fb-34ccaa62c3f8"
   },
   "outputs": [
    {
     "data": {
      "text/plain": [
       "(15500, 34)"
      ]
     },
     "execution_count": 16,
     "metadata": {},
     "output_type": "execute_result"
    }
   ],
   "source": [
    "df['wage'].mode()[0], df['age'].mode()[0] #мода по зарплате и возрасту"
   ]
  },
  {
   "cell_type": "markdown",
   "metadata": {
    "id": "UJEo7SUBFFux"
   },
   "source": [
    "Модальные и медианные значения по зарплате и возрасту соотносятся между собой, различия между ними незначительные. Однако они ниже средних значений, это значит что больше, чем у половины опрошенных, зарплата ниже среднего, и зарплата, встречающаяся в выборке чаще всего, тоже ниже среднего, интерпретация результатов по возрасту аналогична. По году и зарплате наблюдается правосторонняя асимметрия."
   ]
  },
  {
   "cell_type": "code",
   "execution_count": null,
   "metadata": {
    "colab": {
     "base_uri": "https://localhost:8080/",
     "height": 297
    },
    "id": "rYAfv5eTtM-A",
    "outputId": "a5bc2d30-55dc-476b-d3ff-2a2283996165"
   },
   "outputs": [
    {
     "data": {
      "text/plain": [
       "<matplotlib.axes._subplots.AxesSubplot at 0x7f0635ba5810>"
      ]
     },
     "execution_count": 17,
     "metadata": {},
     "output_type": "execute_result"
    },
    {
     "data": {
      "image/png": "[encoded data removed]",
      "text/plain": [
       "<Figure size 432x288 with 1 Axes>"
      ]
     },
     "metadata": {
      "needs_background": "light"
     },
     "output_type": "display_data"
    }
   ],
   "source": [
    "import matplotlib.pyplot as plt\n",
    "import seaborn as sns\n",
    "\n",
    "sns.boxplot(x=df['wage']) #boxplot для размера зарплаты"
   ]
  },
  {
   "cell_type": "markdown",
   "metadata": {
    "id": "L5NGSQQRKNOr"
   },
   "source": [
    "На графике видим, что присутствует три выброса, чья величина зарплаты значительно больше, чем у подавляющего большинства человек."
   ]
  },
  {
   "cell_type": "code",
   "execution_count": null,
   "metadata": {
    "colab": {
     "base_uri": "https://localhost:8080/",
     "height": 297
    },
    "id": "QJIAhXliJTl3",
    "outputId": "a4ceaeca-aa27-4799-ef99-1c64e7df346e"
   },
   "outputs": [
    {
     "data": {
      "text/plain": [
       "<matplotlib.axes._subplots.AxesSubplot at 0x7f0635afcb50>"
      ]
     },
     "execution_count": 18,
     "metadata": {},
     "output_type": "execute_result"
    },
    {
     "data": {
      "image/png": "[encoded data removed]",
      "text/plain": [
       "<Figure size 432x288 with 1 Axes>"
      ]
     },
     "metadata": {
      "needs_background": "light"
     },
     "output_type": "display_data"
    }
   ],
   "source": [
    "sns.boxplot(x=df['age']) #boxplot для возраста "
   ]
  },
  {
   "cell_type": "markdown",
   "metadata": {
    "id": "iYGyeQ0_KjRM"
   },
   "source": [
    "На графике видим, что выбросов нет."
   ]
  },
  {
   "cell_type": "markdown",
   "metadata": {
    "id": "TcBChLtXLnKm"
   },
   "source": [
    "## 6. Гистограммы"
   ]
  },
  {
   "cell_type": "code",
   "execution_count": null,
   "metadata": {
    "id": "OK5Zq2J6M768"
   },
   "outputs": [],
   "source": [
    "import scipy\n",
    "from scipy.stats import skew\n",
    "from scipy.stats import kurtosis"
   ]
  },
  {
   "cell_type": "code",
   "execution_count": null,
   "metadata": {
    "colab": {
     "base_uri": "https://localhost:8080/",
     "height": 316
    },
    "id": "38Kz7yd6KD3I",
    "outputId": "9ba7e73a-4bfa-4ca0-c97e-2db4ddac9ea4"
   },
   "outputs": [
    {
     "name": "stdout",
     "output_type": "stream",
     "text": [
      "Скошенность: 1.1609213174314117 - распределение положительно скошено\n",
      "Островершинность: 1.086500411653879 - распределение неостровершинное, так как значение меньше 3\n"
     ]
    },
    {
     "data": {
      "image/png": "[encoded data removed]",
      "text/plain": [
       "<Figure size 432x288 with 1 Axes>"
      ]
     },
     "metadata": {
      "needs_background": "light"
     },
     "output_type": "display_data"
    }
   ],
   "source": [
    "from matplotlib.font_manager import OSXFontDirectories\n",
    "sns.histplot(df['wage'], kde=True)\n",
    "skos = skew(df['wage'])\n",
    "ostro = kurtosis(df['wage'])\n",
    "print(f'Скошенность: {skos} - распределение положительно скошено')\n",
    "print(f'Островершинность: {ostro} - распределение неостровершинное, так как значение меньше 3')"
   ]
  },
  {
   "cell_type": "code",
   "execution_count": null,
   "metadata": {
    "colab": {
     "base_uri": "https://localhost:8080/",
     "height": 319
    },
    "id": "LYZP7oJfLwFj",
    "outputId": "9b639b27-2662-49a5-e9d9-78b369a8415b"
   },
   "outputs": [
    {
     "name": "stdout",
     "output_type": "stream",
     "text": [
      "Скошенность: 0.37490130193425275 - положительно скошено\n",
      "Островершинность: -0.8377598950673031 - распределение плосковершинное\n"
     ]
    },
    {
     "data": {
      "image/png": "[encoded data removed]",
      "text/plain": [
       "<Figure size 432x288 with 1 Axes>"
      ]
     },
     "metadata": {
      "needs_background": "light"
     },
     "output_type": "display_data"
    }
   ],
   "source": [
    "sns.histplot(df['age'], kde=True)\n",
    "skos = skew(df['age'])\n",
    "ostro = kurtosis(df['age'])\n",
    "print(f'Скошенность: {skos} - положительно скошено')\n",
    "print(f'Островершинность: {ostro} - распределение плосковершинное')"
   ]
  },
  {
   "cell_type": "markdown",
   "metadata": {
    "id": "cv1SqEKORg6K"
   },
   "source": [
    "## 7. Гистограмма распределения респондетов по уровню образования."
   ]
  },
  {
   "cell_type": "code",
   "execution_count": null,
   "metadata": {
    "colab": {
     "base_uri": "https://localhost:8080/",
     "height": 297
    },
    "id": "8wNgXKGdRf1C",
    "outputId": "8a6e41d3-2df9-4812-c0cd-8f46ec1f943b"
   },
   "outputs": [
    {
     "data": {
      "text/plain": [
       "<matplotlib.axes._subplots.AxesSubplot at 0x7f06354a2590>"
      ]
     },
     "execution_count": 22,
     "metadata": {},
     "output_type": "execute_result"
    },
    {
     "data": {
      "image/png": "[encoded data removed]",
      "text/plain": [
       "<Figure size 432x288 with 1 Axes>"
      ]
     },
     "metadata": {
      "needs_background": "light"
     },
     "output_type": "display_data"
    }
   ],
   "source": [
    "sns.histplot(df['educ'])"
   ]
  },
  {
   "cell_type": "markdown",
   "metadata": {
    "id": "io8YYSf-xb0P"
   },
   "source": [
    "По графику видим, что с ростом уровня образования растет число его обладателей."
   ]
  },
  {
   "cell_type": "markdown",
   "metadata": {
    "id": "mAR7qHPGSfO_"
   },
   "source": [
    "## 8. Корреляционная таблица"
   ]
  },
  {
   "cell_type": "code",
   "execution_count": null,
   "metadata": {
    "colab": {
     "base_uri": "https://localhost:8080/",
     "height": 318
    },
    "id": "2CtHgB_ZSeeG",
    "outputId": "75790ceb-b0d7-4b44-d72d-2e3a1f3f8e04"
   },
   "outputs": [
    {
     "data": {
      "text/plain": [
       "<matplotlib.axes._subplots.AxesSubplot at 0x7f0635406950>"
      ]
     },
     "execution_count": 23,
     "metadata": {},
     "output_type": "execute_result"
    },
    {
     "data": {
      "image/png": "[encoded data removed]",
      "text/plain": [
       "<Figure size 432x288 with 2 Axes>"
      ]
     },
     "metadata": {
      "needs_background": "light"
     },
     "output_type": "display_data"
    }
   ],
   "source": [
    "corr = df2.corr()\n",
    "sns.heatmap(corr,\n",
    "            xticklabels=corr.columns.values,\n",
    "            yticklabels=corr.columns.values, annot=True)"
   ]
  },
  {
   "cell_type": "markdown",
   "metadata": {
    "id": "J6l09j74Tx43"
   },
   "source": [
    "Выводы: Наибольшая положительная корреляция между возрастом и количеством детей (0,5) - чем выше возраст, тем больше детей у человека. Второе по величине положительное значение корреляции между полом и зарплатой - мужчины получают больше, чем женщины. Также те, у кого выше образование, чаще пользуются интернетом. Чем выше возраст, тем реже пользуются интернетом, в государственных предприятиях зарплата ниже, чем в частных. В гос.предприятиях работает больше женщин, чем мужчин. Образование выше у женщин, чем у мужчин.  "
   ]
  },
  {
   "cell_type": "markdown",
   "metadata": {
    "id": "widLaV6CW_wO"
   },
   "source": [
    "# 9. Зависимость зарплаты от переменных\n",
    "\n",
    "Судя по корреляционной матрице зарплата в большей степени положительно зависит от пола (если мужчина, то выше), отрицательно зависит от типа предприятия (если государственное, то меньше), меньшая зависимость от пользования интернетом (тот, кто пользуется, получает больше) и от количества детей, однако логическая связь для данного признака нарушается, неочевидно, как количество детей влияет на зарплату в реальной жизни. Из предположений можно выделить самое очевидное: величина зарплаты зависит от отрасли, где работает человек."
   ]
  },
  {
   "cell_type": "code",
   "execution_count": null,
   "metadata": {
    "colab": {
     "base_uri": "https://localhost:8080/",
     "height": 355
    },
    "id": "muaQVB70L2BQ",
    "outputId": "63ef9f84-29bc-4167-a2f3-2d0037b8af72"
   },
   "outputs": [
    {
     "data": {
      "text/plain": [
       "male\n",
       "0    15965.972222\n",
       "1    23343.055556\n",
       "Name: wage, dtype: float64"
      ]
     },
     "execution_count": 24,
     "metadata": {},
     "output_type": "execute_result"
    },
    {
     "data": {
      "image/png": "[encoded data removed]",
      "text/plain": [
       "<Figure size 432x288 with 1 Axes>"
      ]
     },
     "metadata": {
      "needs_background": "light"
     },
     "output_type": "display_data"
    }
   ],
   "source": [
    "zp = df.groupby('male')['wage'].mean() #зависимость от пола\n",
    "plt.plot(zp)\n",
    "plt.title('Зависимость зп от пола')\n",
    "zp"
   ]
  },
  {
   "cell_type": "markdown",
   "metadata": {
    "id": "LDxOveSScPdJ"
   },
   "source": [
    "Видна положительная зависимость"
   ]
  },
  {
   "cell_type": "code",
   "execution_count": null,
   "metadata": {
    "colab": {
     "base_uri": "https://localhost:8080/",
     "height": 355
    },
    "id": "CsGpfuAOZshh",
    "outputId": "1edfc5f1-7b75-4bfa-929a-fe9c46e28d2e"
   },
   "outputs": [
    {
     "data": {
      "text/plain": [
       "public\n",
       "0    22733.333333\n",
       "1    16307.971014\n",
       "Name: wage, dtype: float64"
      ]
     },
     "execution_count": 25,
     "metadata": {},
     "output_type": "execute_result"
    },
    {
     "data": {
      "image/png": "[encoded data removed]",
      "text/plain": [
       "<Figure size 432x288 with 1 Axes>"
      ]
     },
     "metadata": {
      "needs_background": "light"
     },
     "output_type": "display_data"
    }
   ],
   "source": [
    "zp = df.groupby('public')['wage'].mean() #зависимость от типа предприятия\n",
    "plt.plot(zp)\n",
    "plt.title('Зависимость зп от типа предприятия')\n",
    "zp"
   ]
  },
  {
   "cell_type": "markdown",
   "metadata": {
    "id": "5fz0B24tcuKg"
   },
   "source": [
    "В государственных предприятиях в среднем получают меньше, чем в частных."
   ]
  },
  {
   "cell_type": "code",
   "execution_count": null,
   "metadata": {
    "colab": {
     "base_uri": "https://localhost:8080/",
     "height": 392
    },
    "id": "NKoCgpNEfNvf",
    "outputId": "22d2ea77-b9fb-4aac-e0db-cf1ed7e9b840"
   },
   "outputs": [
    {
     "data": {
      "text/plain": [
       "educ\n",
       "0    23205.882353\n",
       "1    18073.684211\n",
       "2    17484.523810\n",
       "3    21587.234043\n",
       "Name: wage, dtype: float64"
      ]
     },
     "execution_count": 26,
     "metadata": {},
     "output_type": "execute_result"
    },
    {
     "data": {
      "image/png": "[encoded data removed]",
      "text/plain": [
       "<Figure size 432x288 with 1 Axes>"
      ]
     },
     "metadata": {
      "needs_background": "light"
     },
     "output_type": "display_data"
    }
   ],
   "source": [
    "zp = df.groupby('educ')['wage'].mean() #зависимость от уровня образования\n",
    "plt.plot(zp)\n",
    "plt.title('Зависимость зп от уровня образования')\n",
    "zp"
   ]
  },
  {
   "cell_type": "markdown",
   "metadata": {
    "id": "hiObC8MfWMMu"
   },
   "source": [
    "Казалось бы, между зп и уровнем образования должна быть положительная зависимость, однако на графике мы этого не видим."
   ]
  },
  {
   "cell_type": "code",
   "execution_count": null,
   "metadata": {
    "colab": {
     "base_uri": "https://localhost:8080/",
     "height": 355
    },
    "id": "x-kKeunMVbdd",
    "outputId": "751c1b94-e4f1-415f-be4c-197bac333c26"
   },
   "outputs": [
    {
     "data": {
      "text/plain": [
       "internet\n",
       "0    15072.222222\n",
       "1    20309.126984\n",
       "Name: wage, dtype: float64"
      ]
     },
     "execution_count": 27,
     "metadata": {},
     "output_type": "execute_result"
    },
    {
     "data": {
      "image/png": "[encoded data removed]",
      "text/plain": [
       "<Figure size 432x288 with 1 Axes>"
      ]
     },
     "metadata": {
      "needs_background": "light"
     },
     "output_type": "display_data"
    }
   ],
   "source": [
    "zp = df.groupby('internet')['wage'].mean() #зависимость от пользования интернетом\n",
    "plt.plot(zp)\n",
    "plt.title('Зависимость зп от пользования интернетом')\n",
    "zp"
   ]
  },
  {
   "cell_type": "markdown",
   "metadata": {
    "id": "Om5uVUVVW1Fn"
   },
   "source": [
    "Видна положительная зависимость."
   ]
  },
  {
   "cell_type": "code",
   "execution_count": null,
   "metadata": {
    "colab": {
     "base_uri": "https://localhost:8080/",
     "height": 1000
    },
    "id": "k8rT12LQp-MN",
    "outputId": "21646d4e-f0c5-4d42-8625-787a250fd3e9"
   },
   "outputs": [
    {
     "data": {
      "text/plain": [
       "age\n",
       "19    12500.000000\n",
       "20    15000.000000\n",
       "23    11000.000000\n",
       "24    17285.714286\n",
       "25    24900.000000\n",
       "26    17250.000000\n",
       "27    15625.000000\n",
       "28    15166.666667\n",
       "29    14525.000000\n",
       "30    25500.000000\n",
       "31    17250.000000\n",
       "32    20500.000000\n",
       "33    29833.333333\n",
       "34    20355.555556\n",
       "35    26166.666667\n",
       "36    13283.333333\n",
       "37    27833.333333\n",
       "38    14928.571429\n",
       "39    21666.666667\n",
       "40    34250.000000\n",
       "41    16200.000000\n",
       "42    15500.000000\n",
       "43     7500.000000\n",
       "44    29000.000000\n",
       "45    10500.000000\n",
       "46    19700.000000\n",
       "47    17280.000000\n",
       "48    28000.000000\n",
       "49    22166.666667\n",
       "50    12933.333333\n",
       "51    19500.000000\n",
       "52    15833.333333\n",
       "53    10000.000000\n",
       "54    11250.000000\n",
       "55    16500.000000\n",
       "56    31500.000000\n",
       "57    16750.000000\n",
       "58    13166.666667\n",
       "59    42500.000000\n",
       "Name: wage, dtype: float64"
      ]
     },
     "execution_count": 28,
     "metadata": {},
     "output_type": "execute_result"
    },
    {
     "data": {
      "image/png": "[encoded data removed]",
      "text/plain": [
       "<Figure size 432x288 with 1 Axes>"
      ]
     },
     "metadata": {
      "needs_background": "light"
     },
     "output_type": "display_data"
    }
   ],
   "source": [
    "zp = df.groupby('age')['wage'].mean() #зависимость от возраста\n",
    "plt.plot(zp)\n",
    "plt.title('Зависимость зп от возраста')\n",
    "zp"
   ]
  },
  {
   "cell_type": "markdown",
   "metadata": {
    "id": "brsSbmyYqk8n"
   },
   "source": [
    "Ожидалось, что люди среднего возраста получают больше, чем молодешь и люди близкие к пенсионному возрасту. Однако, по графику видно, что явной зависимости нет."
   ]
  },
  {
   "cell_type": "markdown",
   "metadata": {
    "id": "eKAdRq5zXLFc"
   },
   "source": [
    "## 10. Линейная модель"
   ]
  },
  {
   "cell_type": "code",
   "execution_count": null,
   "metadata": {
    "id": "oYH1tNoRXJne"
   },
   "outputs": [],
   "source": [
    "df['high'] = np.where(df['educ']==3, 1, 0)"
   ]
  },
  {
   "cell_type": "code",
   "execution_count": null,
   "metadata": {
    "id": "RzF-Gw_2cm_c"
   },
   "outputs": [],
   "source": [
    "import statsmodels.api as sm # стандартные регрессионные модели\n",
    "import statsmodels.formula.api as smf # аналогичные модели с синтаксисом в стиле R\n",
    "import statsmodels.graphics.gofplots as gf # визуализация моделей\n",
    "import statsmodels.discrete.discrete_model # дискретные модели\n",
    "from statsmodels.stats.outliers_influence import summary_table # работа с выбросами\n",
    "from scipy.stats import shapiro # тест Шапиро – Уилка"
   ]
  },
  {
   "cell_type": "code",
   "execution_count": null,
   "metadata": {
    "colab": {
     "base_uri": "https://localhost:8080/"
    },
    "id": "tuBMo0mFdmOF",
    "outputId": "fbbd506f-bae2-44c6-c9d8-8eb0c1eab4ab"
   },
   "outputs": [
    {
     "name": "stdout",
     "output_type": "stream",
     "text": [
      "                            OLS Regression Results                            \n",
      "==============================================================================\n",
      "Dep. Variable:                   wage   R-squared:                       0.186\n",
      "Model:                            OLS   Adj. R-squared:                  0.162\n",
      "Method:                 Least Squares   F-statistic:                     7.930\n",
      "Date:                Tue, 25 Oct 2022   Prob (F-statistic):           8.70e-06\n",
      "Time:                        14:34:21   Log-Likelihood:                -1521.4\n",
      "No. Observations:                 144   AIC:                             3053.\n",
      "Df Residuals:                     139   BIC:                             3068.\n",
      "Df Model:                           4                                         \n",
      "Covariance Type:            nonrobust                                         \n",
      "==============================================================================\n",
      "                 coef    std err          t      P>|t|      [0.025      0.975]\n",
      "------------------------------------------------------------------------------\n",
      "Intercept    1.24e+04   3251.833      3.813      0.000    5968.618    1.88e+04\n",
      "age          125.1727     88.642      1.412      0.160     -50.089     300.435\n",
      "high        4154.1909   1737.300      2.391      0.018     719.239    7589.143\n",
      "male        8030.7865   1615.129      4.972      0.000    4837.390    1.12e+04\n",
      "urban               0          0        nan        nan           0           0\n",
      "children   -2091.2625   1072.820     -1.949      0.053   -4212.418      29.894\n",
      "==============================================================================\n",
      "Omnibus:                       16.947   Durbin-Watson:                   1.885\n",
      "Prob(Omnibus):                  0.000   Jarque-Bera (JB):               19.205\n",
      "Skew:                           0.871   Prob(JB):                     6.75e-05\n",
      "Kurtosis:                       3.411   Cond. No.                          inf\n",
      "==============================================================================\n",
      "\n",
      "Notes:\n",
      "[1] Standard Errors assume that the covariance matrix of the errors is correctly specified.\n",
      "[2] The smallest eigenvalue is      0. This might indicate that there are\n",
      "strong multicollinearity problems or that the design matrix is singular.\n"
     ]
    },
    {
     "name": "stderr",
     "output_type": "stream",
     "text": [
      "/usr/local/lib/python3.7/dist-packages/statsmodels/regression/linear_model.py:1860: RuntimeWarning: divide by zero encountered in double_scalars\n",
      "  return np.sqrt(eigvals[0]/eigvals[-1])\n"
     ]
    }
   ],
   "source": [
    "ols_1 = smf.ols('wage ~ age + high + male + urban + children', data=df).fit()\n",
    "print(ols_1.summary())"
   ]
  },
  {
   "cell_type": "code",
   "execution_count": null,
   "metadata": {
    "colab": {
     "base_uri": "https://localhost:8080/"
    },
    "id": "9URDiaawggjc",
    "outputId": "0895f59d-d42f-46af-9d70-8c037d16e145"
   },
   "outputs": [
    {
     "name": "stdout",
     "output_type": "stream",
     "text": [
      "                            OLS Regression Results                            \n",
      "==============================================================================\n",
      "Dep. Variable:                   wage   R-squared:                       0.186\n",
      "Model:                            OLS   Adj. R-squared:                  0.162\n",
      "Method:                 Least Squares   F-statistic:                     7.930\n",
      "Date:                Tue, 25 Oct 2022   Prob (F-statistic):           8.70e-06\n",
      "Time:                        14:34:22   Log-Likelihood:                -1521.4\n",
      "No. Observations:                 144   AIC:                             3053.\n",
      "Df Residuals:                     139   BIC:                             3068.\n",
      "Df Model:                           4                                         \n",
      "Covariance Type:            nonrobust                                         \n",
      "==============================================================================\n",
      "                 coef    std err          t      P>|t|      [0.025      0.975]\n",
      "------------------------------------------------------------------------------\n",
      "Intercept    1.24e+04   3251.833      3.813      0.000    5968.618    1.88e+04\n",
      "age          125.1727     88.642      1.412      0.160     -50.089     300.435\n",
      "high        4154.1909   1737.300      2.391      0.018     719.239    7589.143\n",
      "male        8030.7865   1615.129      4.972      0.000    4837.390    1.12e+04\n",
      "children   -2091.2625   1072.820     -1.949      0.053   -4212.418      29.894\n",
      "==============================================================================\n",
      "Omnibus:                       16.947   Durbin-Watson:                   1.885\n",
      "Prob(Omnibus):                  0.000   Jarque-Bera (JB):               19.205\n",
      "Skew:                           0.871   Prob(JB):                     6.75e-05\n",
      "Kurtosis:                       3.411   Cond. No.                         165.\n",
      "==============================================================================\n",
      "\n",
      "Notes:\n",
      "[1] Standard Errors assume that the covariance matrix of the errors is correctly specified.\n"
     ]
    }
   ],
   "source": [
    "ols_2 = smf.ols('wage ~ age + high + male + children', data=df).fit()\n",
    "print(ols_2.summary())"
   ]
  },
  {
   "cell_type": "markdown",
   "metadata": {
    "id": "nplWlWzBsSxF"
   },
   "source": [
    "**Вывод:** Исходя из столбца  P>|t|, показывающего p-value гипотезы о незначимости коэффициента, видим, что все коэффициенты оказались значимыми (так как p-value очень маленький), кроме коэффициента при переменной 'urban' и 'age' (т.к. p-value для age можно считать достаточно немалым). В моей выборке только сельские жители, поэтому переменная urban в моей выборке у всех равна 0, следовательно коэффициент оценить для нее не получится. И что очевидно, убрав переменную из модели, получили ровно такую же модель.\n",
    "\n",
    "**Уравнение оцененной модели:** $\\widehat{Wage} = 12400 + 125.2 * Age + 4154.2 * High + 8030.8 * Male - 2091.26 * Children$\n",
    "\n",
    "Модель показывает положительную зависимость зп от возраста, которая неочевидна на графике, также положительную зависимость от наличия высшего образования, что не соответствует ситуации на графике, так как новая переменная High упрощает переменную Education, тем самым модель предлагает менее оптимальный коэффициент. Коэффициент при Male логичен, исходя из данных, мужчины зарабатывают больше женщин, модель оценивает это различие на 8030 рублей. Также единственный отрицательный коэффициент при Children показывает, что при рождении каждого следующего ребенка зп снижается на 2091."
   ]
  },
  {
   "cell_type": "markdown",
   "metadata": {
    "id": "FJWWihcn1U8-"
   },
   "source": [
    "## 11. Проверка адекватности модели"
   ]
  },
  {
   "cell_type": "markdown",
   "metadata": {
    "id": "mBe6elVh8TFW"
   },
   "source": [
    "По выведенной таблице результатов оценки модели можем определить адекватна ли модель или нет, для этого находим строчку F-statistic = 7.930 или Prob (F-statistic) = 8.70e-06. В качестве нулевой гипотезы при подсчете этой F-статистики используется гипотеза о несостоятельности модели, то есть равенство всех коэффициентов нулю. Если F-statistic имеет большое значение или Prob (F-statistic) (т.е. p-value) имеет маленькое значение, то альтернативная гипотеза о состоятельности модели не отвергается, и можно сделать вывод о том, что модель адекватна. F-statistic = 7.930 достаточно большое значение и Prob (F-statistic) = 8.70e-06 достаточно малое значение, чтобы заявить о том, что модель адекватна."
   ]
  },
  {
   "cell_type": "markdown",
   "metadata": {
    "id": "NaBpkwJbC17M"
   },
   "source": [
    "# 12. Гипотеза для одного из коэффициентов"
   ]
  },
  {
   "cell_type": "markdown",
   "metadata": {
    "id": "lv2HlPF5zRT2"
   },
   "source": [
    "Проверим гипотезу о равенстве коэффициента при регрессоре high 0 в модели ols_1\n",
    "\n",
    "$H_0: W_{high} = 0 \\\\\n",
    "H_1: W_{high} \\neq 0$ "
   ]
  },
  {
   "cell_type": "code",
   "execution_count": null,
   "metadata": {
    "colab": {
     "base_uri": "https://localhost:8080/"
    },
    "id": "m-SFDzzaiBm9",
    "outputId": "37b305fd-a0ea-4b31-9531-e27194b5f1eb"
   },
   "outputs": [
    {
     "name": "stdout",
     "output_type": "stream",
     "text": [
      "<F test: F=array([[5.71772217]]), p=0.018133550608523997, df_denom=139, df_num=1>\n"
     ]
    }
   ],
   "source": [
    "# Проверим гипотезу о равенстве коэффициента при регрессоре high 0 в модели ols_1\n",
    "hypotheses = '(high = 0)' # формулируем гипотезу H_0\n",
    "print(ols_1.f_test(r_matrix = hypotheses)) # тестируем гипотезу с помощью F-теста"
   ]
  },
  {
   "cell_type": "markdown",
   "metadata": {
    "id": "u6aTFlljFtVW"
   },
   "source": [
    "Гипотеза о равенстве нулю коэффициента при регрессоре high не принимается на уровне значимости от 0,02 и выше. Следовательно, альтернативная гипотеза о значимости коэффициента при регрессоре high не отвергается в общем случае."
   ]
  },
  {
   "cell_type": "markdown",
   "metadata": {
    "id": "cC2NGnknKbj5"
   },
   "source": [
    "# 13. Гипотеза для нескольких коэффициентов"
   ]
  },
  {
   "cell_type": "markdown",
   "metadata": {
    "id": "P_xKxDxT0rCk"
   },
   "source": [
    "Проверим гипотезу о равенстве коэффициента при регрессоре male двум коэффициентам при регрессоре high в модели ols_1\n",
    "\n",
    "$H_0: 2W_{high} - W_{male} = 0 \\\\\n",
    "H_1: 2W_{high} - W_{male} \\neq 0$ "
   ]
  },
  {
   "cell_type": "code",
   "execution_count": null,
   "metadata": {
    "colab": {
     "base_uri": "https://localhost:8080/"
    },
    "id": "lQhH3cgaKiVs",
    "outputId": "239c6b5f-db05-4883-e03d-8cb1674b59c4"
   },
   "outputs": [
    {
     "name": "stdout",
     "output_type": "stream",
     "text": [
      "<F test: F=array([[0.00594843]]), p=0.9386341776877525, df_denom=139, df_num=1>\n"
     ]
    }
   ],
   "source": [
    "hypotheses = '(2*high-male= 0)' # формулируем гипотезу H_0\n",
    "print(ols_1.f_test(r_matrix = hypotheses)) # тестируем гипотезу с помощью F-теста"
   ]
  },
  {
   "cell_type": "markdown",
   "metadata": {
    "id": "QVtwT2JzLlkF"
   },
   "source": [
    "Гипотеза о равенстве коэффициента при регрессоре male двум коэффициентам при регрессоре high не отвергается из-за большого значения p-value."
   ]
  },
  {
   "cell_type": "markdown",
   "metadata": {
    "id": "ibk1AzzHMoVF"
   },
   "source": [
    "## 14. График остатки-прогнозы"
   ]
  },
  {
   "cell_type": "code",
   "execution_count": null,
   "metadata": {
    "id": "NX5lnGEsLF5S"
   },
   "outputs": [],
   "source": [
    "df['yhat'] = ols_2.fittedvalues #прогнозы модели"
   ]
  },
  {
   "cell_type": "code",
   "execution_count": null,
   "metadata": {
    "colab": {
     "base_uri": "https://localhost:8080/",
     "height": 370
    },
    "id": "gzXRlDgSNAop",
    "outputId": "5f790354-b33c-4c3e-83da-7b55b45ff352"
   },
   "outputs": [
    {
     "name": "stderr",
     "output_type": "stream",
     "text": [
      "/usr/local/lib/python3.7/dist-packages/seaborn/_decorators.py:43: FutureWarning: Pass the following variables as keyword args: x, y. From version 0.12, the only valid positional argument will be `data`, and passing other arguments without an explicit keyword will result in an error or misinterpretation.\n",
      "  FutureWarning\n"
     ]
    },
    {
     "data": {
      "text/plain": [
       "Text(0, 0.5, 'Residuals')"
      ]
     },
     "execution_count": 36,
     "metadata": {},
     "output_type": "execute_result"
    },
    {
     "data": {
      "image/png": "[encoded data removed]",
      "text/plain": [
       "<Figure size 432x288 with 1 Axes>"
      ]
     },
     "metadata": {
      "needs_background": "light"
     },
     "output_type": "display_data"
    }
   ],
   "source": [
    "fig_1 = plt.figure(1)\n",
    "fig_1.axes[0] = sns.residplot(df['yhat'], df['wage'],\n",
    "                                  lowess=True,\n",
    "                                  scatter_kws={'alpha': 0.6},\n",
    "                                  line_kws={'color': 'red', 'lw': 2, 'alpha': 0.8})\n",
    "fig_1.axes[0].set_title('Residuals vs Fitted')\n",
    "fig_1.axes[0].set_xlabel('Fitted values')\n",
    "fig_1.axes[0].set_ylabel('Residuals')"
   ]
  },
  {
   "cell_type": "markdown",
   "metadata": {
    "id": "E6Bt7ZvJ-mq_"
   },
   "source": [
    "Хоть и видень тренд вниз, по факту значения имеют большой разброс в этой области и не отражают какую-либо зависимость. Следовательно, остатки не коррелируют с yhat, следовательно мы учли все факторы модели."
   ]
  },
  {
   "cell_type": "markdown",
   "metadata": {
    "id": "ng876uusXIht"
   },
   "source": [
    "# 15. Новая модель только со значимыми коэффициентами "
   ]
  },
  {
   "cell_type": "code",
   "execution_count": null,
   "metadata": {
    "colab": {
     "base_uri": "https://localhost:8080/"
    },
    "id": "afx0q2TvQeTb",
    "outputId": "34559e36-6bac-4002-f15f-0f802fd52e43"
   },
   "outputs": [
    {
     "name": "stdout",
     "output_type": "stream",
     "text": [
      "                            OLS Regression Results                            \n",
      "==============================================================================\n",
      "Dep. Variable:                   wage   R-squared:                       0.174\n",
      "Model:                            OLS   Adj. R-squared:                  0.156\n",
      "Method:                 Least Squares   F-statistic:                     9.838\n",
      "Date:                Tue, 25 Oct 2022   Prob (F-statistic):           6.25e-06\n",
      "Time:                        14:35:15   Log-Likelihood:                -1522.4\n",
      "No. Observations:                 144   AIC:                             3053.\n",
      "Df Residuals:                     140   BIC:                             3065.\n",
      "Df Model:                           3                                         \n",
      "Covariance Type:            nonrobust                                         \n",
      "==============================================================================\n",
      "                 coef    std err          t      P>|t|      [0.025      0.975]\n",
      "------------------------------------------------------------------------------\n",
      "Intercept   1.616e+04   1874.559      8.619      0.000    1.25e+04    1.99e+04\n",
      "high        3966.4447   1738.344      2.282      0.024     529.645    7403.245\n",
      "male        8114.8488   1619.751      5.010      0.000    4912.514    1.13e+04\n",
      "children   -1355.4605    941.104     -1.440      0.152   -3216.075     505.154\n",
      "==============================================================================\n",
      "Omnibus:                       22.096   Durbin-Watson:                   1.919\n",
      "Prob(Omnibus):                  0.000   Jarque-Bera (JB):               26.858\n",
      "Skew:                           0.981   Prob(JB):                     1.47e-06\n",
      "Kurtosis:                       3.794   Cond. No.                         5.72\n",
      "==============================================================================\n",
      "\n",
      "Notes:\n",
      "[1] Standard Errors assume that the covariance matrix of the errors is correctly specified.\n"
     ]
    }
   ],
   "source": [
    "ols_3 = smf.ols('wage ~ high + male + children', data=df).fit()\n",
    "print(ols_3.summary())"
   ]
  },
  {
   "cell_type": "markdown",
   "metadata": {
    "id": "cnbj2fEXbOyl"
   },
   "source": [
    "Модели можно сравнить по информационным критериям AIC и BIC: чем они меньше, те модель лучше. Новая модель лучше первой, так как у новой модели F-statistic больше, BIC меньше, AIC одинаковый. Однако данная модель уступает по качеству первой модели, так как $R^2$ снизился, то есть доля объясняемой моделью дисперсии снизилась.\n",
    "\n",
    "**Уравнение модели:** $\\widehat{Wage} = 16160 + 3966.4 * High + 8114.8 * Male - 1355.46 * Children$\n",
    "\n",
    "Однако p-value для 'children' в данной модели равен 0.152, что указывает на возможную незначимость признака. Сделаем еще одну модель, удалив признак 'children'."
   ]
  },
  {
   "cell_type": "code",
   "execution_count": null,
   "metadata": {
    "colab": {
     "base_uri": "https://localhost:8080/"
    },
    "id": "8FfnuiwoYJiI",
    "outputId": "d633283c-4e60-48d5-960d-73373d408055"
   },
   "outputs": [
    {
     "name": "stdout",
     "output_type": "stream",
     "text": [
      "                            OLS Regression Results                            \n",
      "==============================================================================\n",
      "Dep. Variable:                   wage   R-squared:                       0.162\n",
      "Model:                            OLS   Adj. R-squared:                  0.150\n",
      "Method:                 Least Squares   F-statistic:                     13.62\n",
      "Date:                Tue, 25 Oct 2022   Prob (F-statistic):           3.92e-06\n",
      "Time:                        14:35:47   Log-Likelihood:                -1523.5\n",
      "No. Observations:                 144   AIC:                             3053.\n",
      "Df Residuals:                     141   BIC:                             3062.\n",
      "Df Model:                           2                                         \n",
      "Covariance Type:            nonrobust                                         \n",
      "==============================================================================\n",
      "                 coef    std err          t      P>|t|      [0.025      0.975]\n",
      "------------------------------------------------------------------------------\n",
      "Intercept   1.425e+04   1331.144     10.704      0.000    1.16e+04    1.69e+04\n",
      "high        4263.9252   1732.594      2.461      0.015     838.705    7689.145\n",
      "male        8028.5163   1624.797      4.941      0.000    4816.404    1.12e+04\n",
      "==============================================================================\n",
      "Omnibus:                       22.704   Durbin-Watson:                   1.929\n",
      "Prob(Omnibus):                  0.000   Jarque-Bera (JB):               27.896\n",
      "Skew:                           0.990   Prob(JB):                     8.76e-07\n",
      "Kurtosis:                       3.855   Cond. No.                         3.17\n",
      "==============================================================================\n",
      "\n",
      "Notes:\n",
      "[1] Standard Errors assume that the covariance matrix of the errors is correctly specified.\n"
     ]
    }
   ],
   "source": [
    "ols_4 = smf.ols('wage ~ high + male', data=df).fit()\n",
    "print(ols_4.summary())"
   ]
  },
  {
   "cell_type": "markdown",
   "metadata": {
    "id": "0VNChGoHdYJI"
   },
   "source": [
    "Третья модель лучше второй и первой, так как у новой модели F-statistic больше, BIC меньше, AIC одинаковый. Однако проигрывает им по метрике $R^2$. Все оставшиеся коэффициенты значимы.\n",
    "\n",
    "**Уравнение модели:** $\\widehat{Wage} = 14250 + 4263.9 * High + 8028.5 * Male$"
   ]
  },
  {
   "cell_type": "markdown",
   "metadata": {
    "id": "SxPQ-n9Rf-HZ"
   },
   "source": [
    "# 16. Прогноз для 28 летней женщины с высшим образованием, у которой один ребенок, проживает в селе."
   ]
  },
  {
   "cell_type": "code",
   "execution_count": null,
   "metadata": {
    "colab": {
     "base_uri": "https://localhost:8080/"
    },
    "id": "C4NRy-kgaBbU",
    "outputId": "b95e3cd9-2bca-4082-f6f1-e1f0bc5142ed"
   },
   "outputs": [
    {
     "name": "stdout",
     "output_type": "stream",
     "text": [
      "Предсказанная заработная плата: 17966.0 рублей\n"
     ]
    }
   ],
   "source": [
    "individ = pd.DataFrame([{'age': 28, 'high': 1, 'male': 0, 'urban': 0, 'children': 1}])\n",
    "\n",
    "wage = ols_1.predict(individ)\n",
    "print(f'Предсказанная заработная плата: {wage[0].round(0)} рублей')"
   ]
  },
  {
   "cell_type": "code",
   "execution_count": null,
   "metadata": {
    "colab": {
     "base_uri": "https://localhost:8080/"
    },
    "id": "vavJx9fgh-xL",
    "outputId": "2b76142d-9ccb-449e-ab62-2c7c0cd682c2"
   },
   "outputs": [
    {
     "name": "stdout",
     "output_type": "stream",
     "text": [
      "90%-й предиктивный интервал: [[15257.50517352 20674.16315425]] - с вероятностью 90 процентов реальная зарплата данного человека находится в этом интервале\n"
     ]
    }
   ],
   "source": [
    "# Построим предиктивные интервалы для прогнозов\n",
    "prediction = ols_2.get_prediction(individ)\n",
    "\n",
    "# Построим 90%-й предиктивный интервал\n",
    "print(f'90%-й предиктивный интервал: {prediction.conf_int(alpha=0.1)} - с вероятностью 90 процентов реальная зарплата данного человека находится в этом интервале')"
   ]
  },
  {
   "cell_type": "code",
   "execution_count": null,
   "metadata": {
    "id": "Xg6zSxX-qcnE"
   },
   "outputs": [],
   "source": []
  }
 ],
 "metadata": {
  "colab": {
   "collapsed_sections": [],
   "provenance": []
  },
  "kernelspec": {
   "display_name": "Python 3",
   "language": "python",
   "name": "python3"
  },
  "language_info": {
   "codemirror_mode": {
    "name": "ipython",
    "version": 3
   },
   "file_extension": ".py",
   "mimetype": "text/x-python",
   "name": "python",
   "nbconvert_exporter": "python",
   "pygments_lexer": "ipython3",
   "version": "3.8.5"
  }
 },
 "nbformat": 4,
 "nbformat_minor": 1
}
