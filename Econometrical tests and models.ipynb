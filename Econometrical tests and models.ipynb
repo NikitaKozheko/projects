{
 "cells": [
  {
   "cell_type": "code",
   "execution_count": 1,
   "metadata": {
    "colab": {
     "base_uri": "https://localhost:8080/",
     "height": 73
    },
    "id": "QaFsRagy6hiT",
    "outputId": "2ecdec82-aec9-46d5-80de-0130f473cbd9"
   },
   "outputs": [
    {
     "data": {
      "text/html": [
       "\n",
       "     <input type=\"file\" id=\"files-b4de8112-d4d0-46a0-b33f-a3bc053ad1bd\" name=\"files[]\" multiple disabled\n",
       "        style=\"border:none\" />\n",
       "     <output id=\"result-b4de8112-d4d0-46a0-b33f-a3bc053ad1bd\">\n",
       "      Upload widget is only available when the cell has been executed in the\n",
       "      current browser session. Please rerun this cell to enable.\n",
       "      </output>\n",
       "      <script>// Copyright 2017 Google LLC\n",
       "//\n",
       "// Licensed under the Apache License, Version 2.0 (the \"License\");\n",
       "// you may not use this file except in compliance with the License.\n",
       "// You may obtain a copy of the License at\n",
       "//\n",
       "//      http://www.apache.org/licenses/LICENSE-2.0\n",
       "//\n",
       "// Unless required by applicable law or agreed to in writing, software\n",
       "// distributed under the License is distributed on an \"AS IS\" BASIS,\n",
       "// WITHOUT WARRANTIES OR CONDITIONS OF ANY KIND, either express or implied.\n",
       "// See the License for the specific language governing permissions and\n",
       "// limitations under the License.\n",
       "\n",
       "/**\n",
       " * @fileoverview Helpers for google.colab Python module.\n",
       " */\n",
       "(function(scope) {\n",
       "function span(text, styleAttributes = {}) {\n",
       "  const element = document.createElement('span');\n",
       "  element.textContent = text;\n",
       "  for (const key of Object.keys(styleAttributes)) {\n",
       "    element.style[key] = styleAttributes[key];\n",
       "  }\n",
       "  return element;\n",
       "}\n",
       "\n",
       "// Max number of bytes which will be uploaded at a time.\n",
       "const MAX_PAYLOAD_SIZE = 100 * 1024;\n",
       "\n",
       "function _uploadFiles(inputId, outputId) {\n",
       "  const steps = uploadFilesStep(inputId, outputId);\n",
       "  const outputElement = document.getElementById(outputId);\n",
       "  // Cache steps on the outputElement to make it available for the next call\n",
       "  // to uploadFilesContinue from Python.\n",
       "  outputElement.steps = steps;\n",
       "\n",
       "  return _uploadFilesContinue(outputId);\n",
       "}\n",
       "\n",
       "// This is roughly an async generator (not supported in the browser yet),\n",
       "// where there are multiple asynchronous steps and the Python side is going\n",
       "// to poll for completion of each step.\n",
       "// This uses a Promise to block the python side on completion of each step,\n",
       "// then passes the result of the previous step as the input to the next step.\n",
       "function _uploadFilesContinue(outputId) {\n",
       "  const outputElement = document.getElementById(outputId);\n",
       "  const steps = outputElement.steps;\n",
       "\n",
       "  const next = steps.next(outputElement.lastPromiseValue);\n",
       "  return Promise.resolve(next.value.promise).then((value) => {\n",
       "    // Cache the last promise value to make it available to the next\n",
       "    // step of the generator.\n",
       "    outputElement.lastPromiseValue = value;\n",
       "    return next.value.response;\n",
       "  });\n",
       "}\n",
       "\n",
       "/**\n",
       " * Generator function which is called between each async step of the upload\n",
       " * process.\n",
       " * @param {string} inputId Element ID of the input file picker element.\n",
       " * @param {string} outputId Element ID of the output display.\n",
       " * @return {!Iterable<!Object>} Iterable of next steps.\n",
       " */\n",
       "function* uploadFilesStep(inputId, outputId) {\n",
       "  const inputElement = document.getElementById(inputId);\n",
       "  inputElement.disabled = false;\n",
       "\n",
       "  const outputElement = document.getElementById(outputId);\n",
       "  outputElement.innerHTML = '';\n",
       "\n",
       "  const pickedPromise = new Promise((resolve) => {\n",
       "    inputElement.addEventListener('change', (e) => {\n",
       "      resolve(e.target.files);\n",
       "    });\n",
       "  });\n",
       "\n",
       "  const cancel = document.createElement('button');\n",
       "  inputElement.parentElement.appendChild(cancel);\n",
       "  cancel.textContent = 'Cancel upload';\n",
       "  const cancelPromise = new Promise((resolve) => {\n",
       "    cancel.onclick = () => {\n",
       "      resolve(null);\n",
       "    };\n",
       "  });\n",
       "\n",
       "  // Wait for the user to pick the files.\n",
       "  const files = yield {\n",
       "    promise: Promise.race([pickedPromise, cancelPromise]),\n",
       "    response: {\n",
       "      action: 'starting',\n",
       "    }\n",
       "  };\n",
       "\n",
       "  cancel.remove();\n",
       "\n",
       "  // Disable the input element since further picks are not allowed.\n",
       "  inputElement.disabled = true;\n",
       "\n",
       "  if (!files) {\n",
       "    return {\n",
       "      response: {\n",
       "        action: 'complete',\n",
       "      }\n",
       "    };\n",
       "  }\n",
       "\n",
       "  for (const file of files) {\n",
       "    const li = document.createElement('li');\n",
       "    li.append(span(file.name, {fontWeight: 'bold'}));\n",
       "    li.append(span(\n",
       "        `(${file.type || 'n/a'}) - ${file.size} bytes, ` +\n",
       "        `last modified: ${\n",
       "            file.lastModifiedDate ? file.lastModifiedDate.toLocaleDateString() :\n",
       "                                    'n/a'} - `));\n",
       "    const percent = span('0% done');\n",
       "    li.appendChild(percent);\n",
       "\n",
       "    outputElement.appendChild(li);\n",
       "\n",
       "    const fileDataPromise = new Promise((resolve) => {\n",
       "      const reader = new FileReader();\n",
       "      reader.onload = (e) => {\n",
       "        resolve(e.target.result);\n",
       "      };\n",
       "      reader.readAsArrayBuffer(file);\n",
       "    });\n",
       "    // Wait for the data to be ready.\n",
       "    let fileData = yield {\n",
       "      promise: fileDataPromise,\n",
       "      response: {\n",
       "        action: 'continue',\n",
       "      }\n",
       "    };\n",
       "\n",
       "    // Use a chunked sending to avoid message size limits. See b/62115660.\n",
       "    let position = 0;\n",
       "    do {\n",
       "      const length = Math.min(fileData.byteLength - position, MAX_PAYLOAD_SIZE);\n",
       "      const chunk = new Uint8Array(fileData, position, length);\n",
       "      position += length;\n",
       "\n",
       "      const base64 = btoa(String.fromCharCode.apply(null, chunk));\n",
       "      yield {\n",
       "        response: {\n",
       "          action: 'append',\n",
       "          file: file.name,\n",
       "          data: base64,\n",
       "        },\n",
       "      };\n",
       "\n",
       "      let percentDone = fileData.byteLength === 0 ?\n",
       "          100 :\n",
       "          Math.round((position / fileData.byteLength) * 100);\n",
       "      percent.textContent = `${percentDone}% done`;\n",
       "\n",
       "    } while (position < fileData.byteLength);\n",
       "  }\n",
       "\n",
       "  // All done.\n",
       "  yield {\n",
       "    response: {\n",
       "      action: 'complete',\n",
       "    }\n",
       "  };\n",
       "}\n",
       "\n",
       "scope.google = scope.google || {};\n",
       "scope.google.colab = scope.google.colab || {};\n",
       "scope.google.colab._files = {\n",
       "  _uploadFiles,\n",
       "  _uploadFilesContinue,\n",
       "};\n",
       "})(self);\n",
       "</script> "
      ],
      "text/plain": [
       "<IPython.core.display.HTML object>"
      ]
     },
     "metadata": {},
     "output_type": "display_data"
    },
    {
     "name": "stdout",
     "output_type": "stream",
     "text": [
      "Saving Homework_2022.xlsx to Homework_2022.xlsx\n"
     ]
    }
   ],
   "source": [
    "from google.colab import files\n",
    "upload = files.upload()"
   ]
  },
  {
   "cell_type": "code",
   "execution_count": 2,
   "metadata": {
    "colab": {
     "base_uri": "https://localhost:8080/",
     "height": 206
    },
    "id": "81nq8cNF7Fha",
    "outputId": "4006a13a-25c1-4ad7-ead2-7e51c8b40ee5"
   },
   "outputs": [
    {
     "data": {
      "text/html": [
       "\n",
       "  <div id=\"df-0728686e-b743-4f08-8942-1aeee226f661\">\n",
       "    <div class=\"colab-df-container\">\n",
       "      <div>\n",
       "<style scoped>\n",
       "    .dataframe tbody tr th:only-of-type {\n",
       "        vertical-align: middle;\n",
       "    }\n",
       "\n",
       "    .dataframe tbody tr th {\n",
       "        vertical-align: top;\n",
       "    }\n",
       "\n",
       "    .dataframe thead th {\n",
       "        text-align: right;\n",
       "    }\n",
       "</style>\n",
       "<table border=\"1\" class=\"dataframe\">\n",
       "  <thead>\n",
       "    <tr style=\"text-align: right;\">\n",
       "      <th></th>\n",
       "      <th>idind</th>\n",
       "      <th>psu</th>\n",
       "      <th>status</th>\n",
       "      <th>age</th>\n",
       "      <th>male</th>\n",
       "      <th>industry</th>\n",
       "      <th>wage</th>\n",
       "      <th>public</th>\n",
       "      <th>internet</th>\n",
       "      <th>children</th>\n",
       "      <th>urban</th>\n",
       "      <th>educ</th>\n",
       "    </tr>\n",
       "  </thead>\n",
       "  <tbody>\n",
       "    <tr>\n",
       "      <th>0</th>\n",
       "      <td>321</td>\n",
       "      <td>Кущевский р-</td>\n",
       "      <td>Село</td>\n",
       "      <td>41</td>\n",
       "      <td>1</td>\n",
       "      <td>НЕФТЕГАЗОВАЯ</td>\n",
       "      <td>25500</td>\n",
       "      <td>0</td>\n",
       "      <td>1</td>\n",
       "      <td>2</td>\n",
       "      <td>0</td>\n",
       "      <td>1</td>\n",
       "    </tr>\n",
       "    <tr>\n",
       "      <th>1</th>\n",
       "      <td>322</td>\n",
       "      <td>Кущевский р-</td>\n",
       "      <td>Село</td>\n",
       "      <td>51</td>\n",
       "      <td>1</td>\n",
       "      <td>СЕЛЬСКОЕ ХОЗ</td>\n",
       "      <td>12500</td>\n",
       "      <td>1</td>\n",
       "      <td>1</td>\n",
       "      <td>2</td>\n",
       "      <td>0</td>\n",
       "      <td>1</td>\n",
       "    </tr>\n",
       "    <tr>\n",
       "      <th>2</th>\n",
       "      <td>323</td>\n",
       "      <td>Кущевский р-</td>\n",
       "      <td>Село</td>\n",
       "      <td>26</td>\n",
       "      <td>0</td>\n",
       "      <td>ТОРГОВЛЯ, БЫ</td>\n",
       "      <td>15500</td>\n",
       "      <td>0</td>\n",
       "      <td>1</td>\n",
       "      <td>0</td>\n",
       "      <td>0</td>\n",
       "      <td>2</td>\n",
       "    </tr>\n",
       "    <tr>\n",
       "      <th>3</th>\n",
       "      <td>324</td>\n",
       "      <td>Кущевский р-</td>\n",
       "      <td>Село</td>\n",
       "      <td>55</td>\n",
       "      <td>0</td>\n",
       "      <td>ОРГАНЫ УПРАВ</td>\n",
       "      <td>15500</td>\n",
       "      <td>1</td>\n",
       "      <td>1</td>\n",
       "      <td>2</td>\n",
       "      <td>0</td>\n",
       "      <td>2</td>\n",
       "    </tr>\n",
       "    <tr>\n",
       "      <th>4</th>\n",
       "      <td>325</td>\n",
       "      <td>Кущевский р-</td>\n",
       "      <td>Село</td>\n",
       "      <td>57</td>\n",
       "      <td>1</td>\n",
       "      <td>НЕФТЕГАЗОВАЯ</td>\n",
       "      <td>10500</td>\n",
       "      <td>1</td>\n",
       "      <td>0</td>\n",
       "      <td>2</td>\n",
       "      <td>0</td>\n",
       "      <td>1</td>\n",
       "    </tr>\n",
       "  </tbody>\n",
       "</table>\n",
       "</div>\n",
       "      <button class=\"colab-df-convert\" onclick=\"convertToInteractive('df-0728686e-b743-4f08-8942-1aeee226f661')\"\n",
       "              title=\"Convert this dataframe to an interactive table.\"\n",
       "              style=\"display:none;\">\n",
       "        \n",
       "  <svg xmlns=\"http://www.w3.org/2000/svg\" height=\"24px\"viewBox=\"0 0 24 24\"\n",
       "       width=\"24px\">\n",
       "    <path d=\"M0 0h24v24H0V0z\" fill=\"none\"/>\n",
       "    <path d=\"M18.56 5.44l.94 2.06.94-2.06 2.06-.94-2.06-.94-.94-2.06-.94 2.06-2.06.94zm-11 1L8.5 8.5l.94-2.06 2.06-.94-2.06-.94L8.5 2.5l-.94 2.06-2.06.94zm10 10l.94 2.06.94-2.06 2.06-.94-2.06-.94-.94-2.06-.94 2.06-2.06.94z\"/><path d=\"M17.41 7.96l-1.37-1.37c-.4-.4-.92-.59-1.43-.59-.52 0-1.04.2-1.43.59L10.3 9.45l-7.72 7.72c-.78.78-.78 2.05 0 2.83L4 21.41c.39.39.9.59 1.41.59.51 0 1.02-.2 1.41-.59l7.78-7.78 2.81-2.81c.8-.78.8-2.07 0-2.86zM5.41 20L4 18.59l7.72-7.72 1.47 1.35L5.41 20z\"/>\n",
       "  </svg>\n",
       "      </button>\n",
       "      \n",
       "  <style>\n",
       "    .colab-df-container {\n",
       "      display:flex;\n",
       "      flex-wrap:wrap;\n",
       "      gap: 12px;\n",
       "    }\n",
       "\n",
       "    .colab-df-convert {\n",
       "      background-color: #E8F0FE;\n",
       "      border: none;\n",
       "      border-radius: 50%;\n",
       "      cursor: pointer;\n",
       "      display: none;\n",
       "      fill: #1967D2;\n",
       "      height: 32px;\n",
       "      padding: 0 0 0 0;\n",
       "      width: 32px;\n",
       "    }\n",
       "\n",
       "    .colab-df-convert:hover {\n",
       "      background-color: #E2EBFA;\n",
       "      box-shadow: 0px 1px 2px rgba(60, 64, 67, 0.3), 0px 1px 3px 1px rgba(60, 64, 67, 0.15);\n",
       "      fill: #174EA6;\n",
       "    }\n",
       "\n",
       "    [theme=dark] .colab-df-convert {\n",
       "      background-color: #3B4455;\n",
       "      fill: #D2E3FC;\n",
       "    }\n",
       "\n",
       "    [theme=dark] .colab-df-convert:hover {\n",
       "      background-color: #434B5C;\n",
       "      box-shadow: 0px 1px 3px 1px rgba(0, 0, 0, 0.15);\n",
       "      filter: drop-shadow(0px 1px 2px rgba(0, 0, 0, 0.3));\n",
       "      fill: #FFFFFF;\n",
       "    }\n",
       "  </style>\n",
       "\n",
       "      <script>\n",
       "        const buttonEl =\n",
       "          document.querySelector('#df-0728686e-b743-4f08-8942-1aeee226f661 button.colab-df-convert');\n",
       "        buttonEl.style.display =\n",
       "          google.colab.kernel.accessAllowed ? 'block' : 'none';\n",
       "\n",
       "        async function convertToInteractive(key) {\n",
       "          const element = document.querySelector('#df-0728686e-b743-4f08-8942-1aeee226f661');\n",
       "          const dataTable =\n",
       "            await google.colab.kernel.invokeFunction('convertToInteractive',\n",
       "                                                     [key], {});\n",
       "          if (!dataTable) return;\n",
       "\n",
       "          const docLinkHtml = 'Like what you see? Visit the ' +\n",
       "            '<a target=\"_blank\" href=https://colab.research.google.com/notebooks/data_table.ipynb>data table notebook</a>'\n",
       "            + ' to learn more about interactive tables.';\n",
       "          element.innerHTML = '';\n",
       "          dataTable['output_type'] = 'display_data';\n",
       "          await google.colab.output.renderOutput(dataTable, element);\n",
       "          const docLink = document.createElement('div');\n",
       "          docLink.innerHTML = docLinkHtml;\n",
       "          element.appendChild(docLink);\n",
       "        }\n",
       "      </script>\n",
       "    </div>\n",
       "  </div>\n",
       "  "
      ],
      "text/plain": [
       "   idind           psu status  age  male      industry   wage  public  \\\n",
       "0    321  Кущевский р-   Село   41     1  НЕФТЕГАЗОВАЯ  25500       0   \n",
       "1    322  Кущевский р-   Село   51     1  СЕЛЬСКОЕ ХОЗ  12500       1   \n",
       "2    323  Кущевский р-   Село   26     0  ТОРГОВЛЯ, БЫ  15500       0   \n",
       "3    324  Кущевский р-   Село   55     0  ОРГАНЫ УПРАВ  15500       1   \n",
       "4    325  Кущевский р-   Село   57     1  НЕФТЕГАЗОВАЯ  10500       1   \n",
       "\n",
       "   internet  children  urban  educ  \n",
       "0         1         2      0     1  \n",
       "1         1         2      0     1  \n",
       "2         1         0      0     2  \n",
       "3         1         2      0     2  \n",
       "4         0         2      0     1  "
      ]
     },
     "execution_count": 2,
     "metadata": {},
     "output_type": "execute_result"
    }
   ],
   "source": [
    "import pandas as pd \n",
    "import io\n",
    "\n",
    "df = pd.read_excel(io.BytesIO(upload['Homework_2022.xlsx']))\n",
    "df.head()"
   ]
  },
  {
   "cell_type": "markdown",
   "metadata": {
    "id": "9jobuA0h8KiY"
   },
   "source": [
    "## Пункт 1"
   ]
  },
  {
   "cell_type": "code",
   "execution_count": 3,
   "metadata": {
    "id": "2cdzhyz68Zby"
   },
   "outputs": [],
   "source": [
    "import pandas as pd # работа с таблицами \n",
    "import numpy as np # математические функции и матрицы\n",
    "import matplotlib.pyplot as plt # графики\n",
    "import seaborn as sns # еще более классные графики\n",
    "import statsmodels.api as sm # стандартные регрессионные модели\n",
    "import statsmodels.formula.api as smf # аналогичные модели с синтаксисом в стиле R\n",
    "import statsmodels.graphics.gofplots as gf # визуализация моделей\n",
    "import statsmodels.discrete.discrete_model # дискретные модели\n",
    "from statsmodels.stats.outliers_influence import summary_table # работа с выбросами\n",
    "from scipy.stats import shapiro # тест Шапиро – Уилка\n",
    "\n",
    "\n",
    "plt.style.use('seaborn')\n",
    "plt.rc('font', size=14)\n",
    "plt.rc('figure', titlesize=20)\n",
    "plt.rc('axes', labelsize=10)\n",
    "plt.rc('axes', titlesize=20)"
   ]
  },
  {
   "cell_type": "code",
   "execution_count": 4,
   "metadata": {
    "id": "bb1p08I29TCD"
   },
   "outputs": [],
   "source": [
    "df['high'] = np.where(df['educ']==3, 1, 0)"
   ]
  },
  {
   "cell_type": "code",
   "execution_count": 5,
   "metadata": {
    "colab": {
     "base_uri": "https://localhost:8080/"
    },
    "id": "iJPIUwMf9ODu",
    "outputId": "6279bf3d-159e-4619-828b-aff8dc919cd4"
   },
   "outputs": [
    {
     "name": "stdout",
     "output_type": "stream",
     "text": [
      "                            OLS Regression Results                            \n",
      "==============================================================================\n",
      "Dep. Variable:                   wage   R-squared:                       0.186\n",
      "Model:                            OLS   Adj. R-squared:                  0.162\n",
      "Method:                 Least Squares   F-statistic:                     7.930\n",
      "Date:                Thu, 15 Dec 2022   Prob (F-statistic):           8.70e-06\n",
      "Time:                        12:51:38   Log-Likelihood:                -1521.4\n",
      "No. Observations:                 144   AIC:                             3053.\n",
      "Df Residuals:                     139   BIC:                             3068.\n",
      "Df Model:                           4                                         \n",
      "Covariance Type:            nonrobust                                         \n",
      "==============================================================================\n",
      "                 coef    std err          t      P>|t|      [0.025      0.975]\n",
      "------------------------------------------------------------------------------\n",
      "Intercept    1.24e+04   3251.833      3.813      0.000    5968.618    1.88e+04\n",
      "age          125.1727     88.642      1.412      0.160     -50.089     300.435\n",
      "high        4154.1909   1737.300      2.391      0.018     719.239    7589.143\n",
      "male        8030.7865   1615.129      4.972      0.000    4837.390    1.12e+04\n",
      "urban               0          0        nan        nan           0           0\n",
      "children   -2091.2625   1072.820     -1.949      0.053   -4212.418      29.894\n",
      "==============================================================================\n",
      "Omnibus:                       16.947   Durbin-Watson:                   1.885\n",
      "Prob(Omnibus):                  0.000   Jarque-Bera (JB):               19.205\n",
      "Skew:                           0.871   Prob(JB):                     6.75e-05\n",
      "Kurtosis:                       3.411   Cond. No.                          inf\n",
      "==============================================================================\n",
      "\n",
      "Notes:\n",
      "[1] Standard Errors assume that the covariance matrix of the errors is correctly specified.\n",
      "[2] The smallest eigenvalue is      0. This might indicate that there are\n",
      "strong multicollinearity problems or that the design matrix is singular.\n"
     ]
    },
    {
     "name": "stderr",
     "output_type": "stream",
     "text": [
      "/usr/local/lib/python3.8/dist-packages/statsmodels/regression/linear_model.py:1860: RuntimeWarning: divide by zero encountered in double_scalars\n",
      "  return np.sqrt(eigvals[0]/eigvals[-1])\n"
     ]
    }
   ],
   "source": [
    "ols_1 = smf.ols('wage ~ age + high + male + urban + children', data=df).fit()\n",
    "print(ols_1.summary())"
   ]
  },
  {
   "cell_type": "code",
   "execution_count": 6,
   "metadata": {
    "colab": {
     "base_uri": "https://localhost:8080/"
    },
    "id": "zY5R1KMo92-j",
    "outputId": "cc606aa4-8114-4a8e-e830-840f1c8feb7a"
   },
   "outputs": [
    {
     "name": "stdout",
     "output_type": "stream",
     "text": [
      "                            OLS Regression Results                            \n",
      "==============================================================================\n",
      "Dep. Variable:                   wage   R-squared:                       0.186\n",
      "Model:                            OLS   Adj. R-squared:                  0.162\n",
      "Method:                 Least Squares   F-statistic:                     7.930\n",
      "Date:                Thu, 15 Dec 2022   Prob (F-statistic):           8.70e-06\n",
      "Time:                        12:51:38   Log-Likelihood:                -1521.4\n",
      "No. Observations:                 144   AIC:                             3053.\n",
      "Df Residuals:                     139   BIC:                             3068.\n",
      "Df Model:                           4                                         \n",
      "Covariance Type:            nonrobust                                         \n",
      "==============================================================================\n",
      "                 coef    std err          t      P>|t|      [0.025      0.975]\n",
      "------------------------------------------------------------------------------\n",
      "Intercept    1.24e+04   3251.833      3.813      0.000    5968.618    1.88e+04\n",
      "age          125.1727     88.642      1.412      0.160     -50.089     300.435\n",
      "high        4154.1909   1737.300      2.391      0.018     719.239    7589.143\n",
      "male        8030.7865   1615.129      4.972      0.000    4837.390    1.12e+04\n",
      "children   -2091.2625   1072.820     -1.949      0.053   -4212.418      29.894\n",
      "==============================================================================\n",
      "Omnibus:                       16.947   Durbin-Watson:                   1.885\n",
      "Prob(Omnibus):                  0.000   Jarque-Bera (JB):               19.205\n",
      "Skew:                           0.871   Prob(JB):                     6.75e-05\n",
      "Kurtosis:                       3.411   Cond. No.                         165.\n",
      "==============================================================================\n",
      "\n",
      "Notes:\n",
      "[1] Standard Errors assume that the covariance matrix of the errors is correctly specified.\n"
     ]
    }
   ],
   "source": [
    "ols_2 = smf.ols('wage ~ age + high + male + children', data=df).fit()\n",
    "print(ols_2.summary())"
   ]
  },
  {
   "cell_type": "markdown",
   "metadata": {
    "id": "nplWlWzBsSxF"
   },
   "source": [
    "**Вывод:** Исходя из столбца  P>|t|, показывающего p-value гипотезы о незначимости коэффициента, видим, что все коэффициенты оказались значимыми (так как p-value больше уровня значимости), кроме коэффициента при переменной 'urban' и 'age' (т.к. p-value для age больше уровня значимости 0,05). P-value для children тоже больше 0,05, но несущественно, поэтому будем считать этот коэффициент значимым. В моей выборке только сельские жители, поэтому переменная urban в моей выборке у всех равна 0, следовательно коэффициент оценить для нее не получится. И что очевидно, убрав переменную из модели, получили ровно такую же модель.\n",
    "\n",
    "**Уравнение оцененной модели:** $\\widehat{Wage} = 12400 + 125.2 * Age + 4154.2 * High + 8030.8 * Male - 2091.26 * Children$\n",
    "\n",
    "Модель показывает положительную зависимость зп от возраста, увеличение возраста на год приводит к увеличению зп на 125 рублей. Также положительная зависимость от наличия высшего образования, человек с высшим образованием получает на 4154 рубля больше. Коэффициент при Male логичен из экономических реалий, мужчины зарабатывают больше женщин, модель оценивает это различие на 8030 рублей. Также единственный отрицательный коэффициент при Children показывает, что при рождении каждого следующего ребенка зп снижается на 2091."
   ]
  },
  {
   "cell_type": "markdown",
   "metadata": {
    "id": "Eu_QnCYdJRIQ"
   },
   "source": [
    "# Пункт 2"
   ]
  },
  {
   "cell_type": "code",
   "execution_count": 7,
   "metadata": {
    "id": "_Um0YCqzAzY3"
   },
   "outputs": [],
   "source": [
    "import math\n",
    "\n",
    "df['log_wage'] = np.log(df['wage'])"
   ]
  },
  {
   "cell_type": "code",
   "execution_count": 8,
   "metadata": {
    "colab": {
     "base_uri": "https://localhost:8080/"
    },
    "id": "aen7vdkQKDO0",
    "outputId": "435f9681-5363-4fc7-a311-3bd7c2d5daa5"
   },
   "outputs": [
    {
     "name": "stdout",
     "output_type": "stream",
     "text": [
      "                            OLS Regression Results                            \n",
      "==============================================================================\n",
      "Dep. Variable:               log_wage   R-squared:                       0.194\n",
      "Model:                            OLS   Adj. R-squared:                  0.171\n",
      "Method:                 Least Squares   F-statistic:                     8.361\n",
      "Date:                Thu, 15 Dec 2022   Prob (F-statistic):           4.50e-06\n",
      "Time:                        12:51:39   Log-Likelihood:                -107.02\n",
      "No. Observations:                 144   AIC:                             224.0\n",
      "Df Residuals:                     139   BIC:                             238.9\n",
      "Df Model:                           4                                         \n",
      "Covariance Type:            nonrobust                                         \n",
      "==============================================================================\n",
      "                 coef    std err          t      P>|t|      [0.025      0.975]\n",
      "------------------------------------------------------------------------------\n",
      "Intercept      9.4122      0.176     53.369      0.000       9.064       9.761\n",
      "age            0.0060      0.005      1.247      0.214      -0.004       0.016\n",
      "high           0.2432      0.094      2.581      0.011       0.057       0.429\n",
      "male           0.4305      0.088      4.914      0.000       0.257       0.604\n",
      "urban               0          0        nan        nan           0           0\n",
      "children      -0.1373      0.058     -2.360      0.020      -0.252      -0.022\n",
      "==============================================================================\n",
      "Omnibus:                       56.974   Durbin-Watson:                   1.831\n",
      "Prob(Omnibus):                  0.000   Jarque-Bera (JB):              304.703\n",
      "Skew:                          -1.281   Prob(JB):                     6.83e-67\n",
      "Kurtosis:                       9.650   Cond. No.                          inf\n",
      "==============================================================================\n",
      "\n",
      "Notes:\n",
      "[1] Standard Errors assume that the covariance matrix of the errors is correctly specified.\n",
      "[2] The smallest eigenvalue is      0. This might indicate that there are\n",
      "strong multicollinearity problems or that the design matrix is singular.\n"
     ]
    },
    {
     "name": "stderr",
     "output_type": "stream",
     "text": [
      "/usr/local/lib/python3.8/dist-packages/statsmodels/regression/linear_model.py:1860: RuntimeWarning: divide by zero encountered in double_scalars\n",
      "  return np.sqrt(eigvals[0]/eigvals[-1])\n"
     ]
    }
   ],
   "source": [
    "ols_polulog = smf.ols('log_wage ~ age + high + male + urban + children', data=df).fit()\n",
    "print(ols_polulog.summary())"
   ]
  },
  {
   "cell_type": "markdown",
   "metadata": {
    "id": "5DpBoIfXLGy0"
   },
   "source": [
    "1) При увеличении возраста на один год зарплата увеличивается на 0,6%\n",
    "\n",
    "2) Если человек имеет высшее образование, то его зп больше, чем у человека без высшего образования на 24 процента.\n",
    "\n",
    "3) Мужчины зарабатывают больше женщин на 43%.\n",
    "\n",
    "4) Каждый последующий ребенок в семье сокращает зп на 13,7%\n",
    "\n",
    "Коэффициент при urban незначимый, его невозможно посчитать, так как все наблюдения из села и имеют в этом столбце ноль.\n",
    "\n",
    "Коэффициент при age незначимый, так как значение p-value при гипотезе о незначимости коэффицицента больше уровня значимости 0,05, и гипотеза о незначимости коэффициента при переменной возраста не отвергается.\n",
    "\n",
    "**Уравнение оцененной модели:** $ln\\widehat{Wage} = 9.4122 + 0.06 * Age + 0.2432 * High + 0.43 * Male - 0.1373 * Children$"
   ]
  },
  {
   "cell_type": "markdown",
   "metadata": {
    "id": "1-ZomsSkKGvg"
   },
   "source": [
    "## Пункт 3"
   ]
  },
  {
   "cell_type": "code",
   "execution_count": 9,
   "metadata": {
    "id": "kfSIfkrIKCU4"
   },
   "outputs": [],
   "source": [
    "df['log_age'] = np.log(df['age'])"
   ]
  },
  {
   "cell_type": "code",
   "execution_count": 10,
   "metadata": {
    "colab": {
     "base_uri": "https://localhost:8080/"
    },
    "id": "gNWc0utsPv7q",
    "outputId": "e6099a60-b083-4564-f07f-b1ad3b811c3b"
   },
   "outputs": [
    {
     "name": "stdout",
     "output_type": "stream",
     "text": [
      "                            OLS Regression Results                            \n",
      "==============================================================================\n",
      "Dep. Variable:               log_wage   R-squared:                       0.196\n",
      "Model:                            OLS   Adj. R-squared:                  0.173\n",
      "Method:                 Least Squares   F-statistic:                     8.487\n",
      "Date:                Thu, 15 Dec 2022   Prob (F-statistic):           3.72e-06\n",
      "Time:                        12:51:41   Log-Likelihood:                -106.81\n",
      "No. Observations:                 144   AIC:                             223.6\n",
      "Df Residuals:                     139   BIC:                             238.5\n",
      "Df Model:                           4                                         \n",
      "Covariance Type:            nonrobust                                         \n",
      "==============================================================================\n",
      "                 coef    std err          t      P>|t|      [0.025      0.975]\n",
      "------------------------------------------------------------------------------\n",
      "Intercept      8.7240      0.627     13.904      0.000       7.484       9.965\n",
      "log_age        0.2575      0.184      1.402      0.163      -0.106       0.621\n",
      "high           0.2443      0.094      2.597      0.010       0.058       0.430\n",
      "male           0.4276      0.088      4.884      0.000       0.254       0.601\n",
      "urban               0          0        nan        nan           0           0\n",
      "children      -0.1445      0.059     -2.444      0.016      -0.261      -0.028\n",
      "==============================================================================\n",
      "Omnibus:                       56.847   Durbin-Watson:                   1.832\n",
      "Prob(Omnibus):                  0.000   Jarque-Bera (JB):              300.413\n",
      "Skew:                          -1.282   Prob(JB):                     5.84e-66\n",
      "Kurtosis:                       9.595   Cond. No.                          inf\n",
      "==============================================================================\n",
      "\n",
      "Notes:\n",
      "[1] Standard Errors assume that the covariance matrix of the errors is correctly specified.\n",
      "[2] The smallest eigenvalue is      0. This might indicate that there are\n",
      "strong multicollinearity problems or that the design matrix is singular.\n"
     ]
    },
    {
     "name": "stderr",
     "output_type": "stream",
     "text": [
      "/usr/local/lib/python3.8/dist-packages/statsmodels/regression/linear_model.py:1860: RuntimeWarning: divide by zero encountered in double_scalars\n",
      "  return np.sqrt(eigvals[0]/eigvals[-1])\n"
     ]
    }
   ],
   "source": [
    "ols_log = smf.ols('log_wage ~ log_age + high + male + urban + children', data=df).fit()\n",
    "print(ols_log.summary())"
   ]
  },
  {
   "cell_type": "markdown",
   "metadata": {
    "id": "YQkA2x9TRI6d"
   },
   "source": [
    "1) При увеличении возраста на один процент зарплата увеличивается на 0,2575%\n",
    "\n",
    "2) Если человек имеет высшее образование, то его зп больше, чем у человека без высшего образования на 24,43 процента.\n",
    "\n",
    "3) Мужчины зарабатывают больше женщин на 42,76%.\n",
    "\n",
    "4) Каждый последующий ребенок в семье сокращает зп на 14,45%\n",
    "\n",
    "Коэффициент при urban незначимый, его невозможно посчитать, так как все наблюдения из села и имеют в этом столбце ноль.\n",
    "\n",
    "Коэффициент при ln(age) вызвает сомнения по поводу значимости, однако p-value относительно второй модели снизилось, то есть коэффициент при ln(age) более значим, чем коэффициент при age. Однако значение p-value = 0.163 неоднозначное, так в 16.3% случаев коэффициент незначим, в остальных случаях значим.\n",
    "\n",
    "**Уравнение оцененной модели:** $ln\\widehat{Wage} = 8.7240 + 0.2575 * lnAge + 0.2443 * High + 0.4276 * Male - 0.1445 * Children$"
   ]
  },
  {
   "cell_type": "markdown",
   "metadata": {
    "id": "ASJ9WqRXUsLi"
   },
   "source": [
    "## Пункт 4"
   ]
  },
  {
   "cell_type": "markdown",
   "metadata": {
    "id": "i2jfnsWVrrG7"
   },
   "source": [
    "Вторую и третью модель мы можем сравнить по показателям adj. R-squared, AIC, BIC. Мы можем так сделать потому, что у этих моделей одинаковая объясняемая переменная logWage, а следовательно одинаковый масштаб прогнозов. По всем показателям третья модель лучше второй.\n"
   ]
  },
  {
   "cell_type": "markdown",
   "metadata": {
    "id": "DefdYz6SgKJr"
   },
   "source": [
    "Линейную модель мы не можем сравнить с логарифмической, как в ячейке выше, поэтому проведем PE тест для выбора модели"
   ]
  },
  {
   "cell_type": "code",
   "execution_count": 11,
   "metadata": {
    "id": "jHqP83o4gLeq"
   },
   "outputs": [],
   "source": [
    "# PE тест (тест для сравнения линейной и линейной в логарифмах моделей)\n",
    "# можно сравнивать невложенные модели (в моделях есть набор общих регрессоров + в каждой дополнительно свои регрессоры)\n",
    "# можно тестировать линейную модель против полулогарифмической, а не только против линейной в логарифмах\n",
    "ypred = ols_1.predict() # прогнозы для обычной линейной модели"
   ]
  },
  {
   "cell_type": "code",
   "execution_count": 12,
   "metadata": {
    "id": "K5g2-D5giP4X"
   },
   "outputs": [],
   "source": [
    "ln_ypred = ols_log.predict() # прогнозы для логарифмической модели"
   ]
  },
  {
   "cell_type": "code",
   "execution_count": 13,
   "metadata": {
    "id": "9V7OJW60iZzL"
   },
   "outputs": [],
   "source": [
    "df['add1'] = ln_ypred - np.log(ypred)\n",
    "df['add2'] = ypred - np.exp(ln_ypred)"
   ]
  },
  {
   "cell_type": "code",
   "execution_count": 14,
   "metadata": {
    "colab": {
     "base_uri": "https://localhost:8080/"
    },
    "id": "RJjLpILSiZiy",
    "outputId": "209e4c0e-5e87-4be2-afa5-89c6314db77d"
   },
   "outputs": [
    {
     "name": "stdout",
     "output_type": "stream",
     "text": [
      "                            OLS Regression Results                            \n",
      "==============================================================================\n",
      "Dep. Variable:                   wage   R-squared:                       0.186\n",
      "Model:                            OLS   Adj. R-squared:                  0.156\n",
      "Method:                 Least Squares   F-statistic:                     6.301\n",
      "Date:                Thu, 15 Dec 2022   Prob (F-statistic):           2.68e-05\n",
      "Time:                        12:51:43   Log-Likelihood:                -1521.4\n",
      "No. Observations:                 144   AIC:                             3055.\n",
      "Df Residuals:                     138   BIC:                             3073.\n",
      "Df Model:                           5                                         \n",
      "Covariance Type:            nonrobust                                         \n",
      "==============================================================================\n",
      "                 coef    std err          t      P>|t|      [0.025      0.975]\n",
      "------------------------------------------------------------------------------\n",
      "Intercept   1.218e+04   3898.756      3.124      0.002    4470.740    1.99e+04\n",
      "age          124.9982     88.976      1.405      0.162     -50.934     300.931\n",
      "high        4234.6547   1912.589      2.214      0.028     452.885    8016.425\n",
      "male        8061.1884   1647.905      4.892      0.000    4802.780    1.13e+04\n",
      "urban       1.507e-13   4.26e-14      3.537      0.001    6.65e-14    2.35e-13\n",
      "children   -2191.3594   1454.578     -1.507      0.134   -5067.502     684.783\n",
      "add1       -2841.4940   2.78e+04     -0.102      0.919   -5.77e+04    5.21e+04\n",
      "==============================================================================\n",
      "Omnibus:                       17.008   Durbin-Watson:                   1.885\n",
      "Prob(Omnibus):                  0.000   Jarque-Bera (JB):               19.289\n",
      "Skew:                           0.872   Prob(JB):                     6.48e-05\n",
      "Kurtosis:                       3.414   Cond. No.                     7.87e+18\n",
      "==============================================================================\n",
      "\n",
      "Notes:\n",
      "[1] Standard Errors assume that the covariance matrix of the errors is correctly specified.\n",
      "[2] The smallest eigenvalue is 3.6e-33. This might indicate that there are\n",
      "strong multicollinearity problems or that the design matrix is singular.\n",
      "                            OLS Regression Results                            \n",
      "==============================================================================\n",
      "Dep. Variable:               log_wage   R-squared:                       0.211\n",
      "Model:                            OLS   Adj. R-squared:                  0.183\n",
      "Method:                 Least Squares   F-statistic:                     7.399\n",
      "Date:                Thu, 15 Dec 2022   Prob (F-statistic):           3.56e-06\n",
      "Time:                        12:51:43   Log-Likelihood:                -105.44\n",
      "No. Observations:                 144   AIC:                             222.9\n",
      "Df Residuals:                     138   BIC:                             240.7\n",
      "Df Model:                           5                                         \n",
      "Covariance Type:            nonrobust                                         \n",
      "==============================================================================\n",
      "                 coef    std err          t      P>|t|      [0.025      0.975]\n",
      "------------------------------------------------------------------------------\n",
      "Intercept      8.6847      0.624     13.913      0.000       7.450       9.919\n",
      "log_age        0.2347      0.183      1.281      0.202      -0.127       0.597\n",
      "high           0.2802      0.096      2.916      0.004       0.090       0.470\n",
      "male           0.3788      0.092      4.116      0.000       0.197       0.561\n",
      "urban       2.706e-15    2.1e-16     12.903      0.000    2.29e-15    3.12e-15\n",
      "children      -0.2040      0.069     -2.947      0.004      -0.341      -0.067\n",
      "add2           0.0001    6.6e-05      1.627      0.106   -2.31e-05       0.000\n",
      "==============================================================================\n",
      "Omnibus:                       48.930   Durbin-Watson:                   1.807\n",
      "Prob(Omnibus):                  0.000   Jarque-Bera (JB):              212.108\n",
      "Skew:                          -1.140   Prob(JB):                     8.73e-47\n",
      "Kurtosis:                       8.491   Cond. No.                     6.20e+20\n",
      "==============================================================================\n",
      "\n",
      "Notes:\n",
      "[1] Standard Errors assume that the covariance matrix of the errors is correctly specified.\n",
      "[2] The smallest eigenvalue is 1.81e-33. This might indicate that there are\n",
      "strong multicollinearity problems or that the design matrix is singular.\n"
     ]
    }
   ],
   "source": [
    "reg1_add = smf.ols(\"wage ~ age + high + male + urban + children + add1\", data = df).fit()\n",
    "print(reg1_add.summary())\n",
    "reg2_add = smf.ols(\"log_wage ~ log_age + high + male + urban + children + add2\", data = df).fit()\n",
    "print(reg2_add.summary())\n",
    "\n",
    "# так как обе доп. переменные оказались незначимы, то не можем сделать выбор между моделями"
   ]
  },
  {
   "cell_type": "markdown",
   "metadata": {
    "id": "gHDEUj6tvqXD"
   },
   "source": [
    "Обе дополнительные переменные оказались незначимыми на уровне значимости 0,05, так как их p-value больше этого значения (для add1 0.919 и для add2 0.106), следовательно, по этому тесту не можем определить. Тогда возьмем логарифмическую модель, потому что wage - величина денег, а для денег лучше использовать логарифм."
   ]
  },
  {
   "cell_type": "markdown",
   "metadata": {
    "id": "KJ5TUcBFZTe2"
   },
   "source": [
    "## Пункт 5"
   ]
  },
  {
   "cell_type": "markdown",
   "metadata": {
    "id": "9zqG14pf8_VJ"
   },
   "source": [
    "# Дамми-переменные\n",
    "\n",
    "Сформулируем гипотезы о значимости коэффициента при дамми-переменной male, ур-нь значимости 0,05.\n",
    "\n",
    "$H_0$: коэффициенты при $male = malehigh = malechildren = malelogage = 0$\n",
    "\n",
    "$H_1$: иначе"
   ]
  },
  {
   "cell_type": "code",
   "execution_count": 15,
   "metadata": {
    "id": "tey4QR51AQBj"
   },
   "outputs": [],
   "source": [
    "# создадим переменные взаимодействия\n",
    "df['malehigh'] = df['male'] * df['high']\n",
    "df['malechildren'] = df['male'] * df['children']\n",
    "df['malelogage'] = df['male'] * df['log_age']"
   ]
  },
  {
   "cell_type": "code",
   "execution_count": 16,
   "metadata": {
    "colab": {
     "base_uri": "https://localhost:8080/"
    },
    "id": "aDvE7XRpAPX3",
    "outputId": "7ba61adc-9391-446a-a159-881cafc59d87"
   },
   "outputs": [
    {
     "data": {
      "text/plain": [
       "43.54397992435092"
      ]
     },
     "execution_count": 16,
     "metadata": {},
     "output_type": "execute_result"
    }
   ],
   "source": [
    "rest = smf.ols('log_wage ~ log_age + children + high', data = df).fit() # модель, для которой основная гипотеза не отвергается, т.е. коэффициенты при male и переменных взаимодействия равны нулю. \n",
    "rest.ssr #RSS_r"
   ]
  },
  {
   "cell_type": "code",
   "execution_count": 17,
   "metadata": {
    "colab": {
     "base_uri": "https://localhost:8080/"
    },
    "id": "4d61_uC2C0jb",
    "outputId": "83b06682-3694-41de-88a4-2104a5c6410c"
   },
   "outputs": [
    {
     "data": {
      "text/plain": [
       "35.04808827403511"
      ]
     },
     "execution_count": 17,
     "metadata": {},
     "output_type": "execute_result"
    }
   ],
   "source": [
    "unrest = smf.ols('log_wage ~ log_age + male + children + high + malehigh + malechildren + malelogage', data = df).fit() #модель, содержащая переменные взаимодействия\n",
    "unrest.ssr #RSS_ur"
   ]
  },
  {
   "cell_type": "markdown",
   "metadata": {
    "id": "VPSNUWegFHB-"
   },
   "source": [
    "Посчитаем F-stat\n",
    "\n",
    "$F_{stat} = \\frac{(RSS_r - RSS_{ur}) / q}{RSS_{ur} / (n-k-1)} = \\frac{(43.544 - 35.05) / 4}{35.05 / (144-7-1)} = 8.24$\n"
   ]
  },
  {
   "cell_type": "code",
   "execution_count": 18,
   "metadata": {
    "colab": {
     "base_uri": "https://localhost:8080/"
    },
    "id": "IYA191H5E2ml",
    "outputId": "741c7c71-b75d-4309-ed6a-87fae83f3def"
   },
   "outputs": [
    {
     "data": {
      "text/plain": [
       "8.240201785021343"
      ]
     },
     "execution_count": 18,
     "metadata": {},
     "output_type": "execute_result"
    }
   ],
   "source": [
    "2.1235/0.2577"
   ]
  },
  {
   "cell_type": "markdown",
   "metadata": {
    "id": "HG7Cl4kSGhca"
   },
   "source": [
    "Найдем F-crit при уровне значимости 0,05 и степенями свободы (4, 136)\n",
    "\n",
    "$F_{crit} = F_{0.95, (4, 136)} = 2.438$"
   ]
  },
  {
   "cell_type": "code",
   "execution_count": 19,
   "metadata": {
    "colab": {
     "base_uri": "https://localhost:8080/"
    },
    "id": "blW79rQXHjAi",
    "outputId": "3a4a468e-e480-4b7f-f5f8-9a31e8480786"
   },
   "outputs": [
    {
     "data": {
      "text/plain": [
       "2.438240402671577"
      ]
     },
     "execution_count": 19,
     "metadata": {},
     "output_type": "execute_result"
    }
   ],
   "source": [
    "stats.f.ppf(0.95, 4, 136)"
   ]
  },
  {
   "cell_type": "code",
   "execution_count": 20,
   "metadata": {
    "colab": {
     "base_uri": "https://localhost:8080/"
    },
    "id": "hUW0pRArIdgs",
    "outputId": "5e9217f6-bb94-4aeb-d998-52fee4737b73"
   },
   "outputs": [
    {
     "name": "stdout",
     "output_type": "stream",
     "text": [
      "p-value = 5.566944606738566e-06\n"
     ]
    }
   ],
   "source": [
    "# рассчитаем p-value\n",
    "print(f'p-value = {1 - stats.f.cdf(8.24, 4, 136)}')"
   ]
  },
  {
   "cell_type": "markdown",
   "metadata": {
    "id": "AKwY8vF2I-gS"
   },
   "source": [
    "Так как критическое значение меньше наблюдаемого, и P-value меньше уровня значимости, можем заключить то, что гипотеза $H_0$ о незначимости коэффициентов при male и переменных взаимодействия отвергается. Следовательно, различия в зарплатах мужчин и женщин существенны."
   ]
  },
  {
   "cell_type": "markdown",
   "metadata": {
    "id": "a4ZQMl83RncQ"
   },
   "source": [
    "# Тест Чоу\n",
    "\n",
    "Сформулируем гипотезы\n",
    "\n",
    "$H_0: \\beta_{muzh_i} = \\beta_{zhen_i}$, i = 0, 1, 2, то есть выборки мужчин и женщин принадлежат одной генеральной совокупности\n",
    "\n",
    "$H_1: \\exists i: \\beta_{muzh_i} \\neq \\beta_{zhen_i}$, i = 0, 1, 2, то есть выборки мужчин и женщин принадлежат разным генеральным совокупностям"
   ]
  },
  {
   "cell_type": "code",
   "execution_count": 21,
   "metadata": {
    "colab": {
     "base_uri": "https://localhost:8080/"
    },
    "id": "SgrLGccLTRYe",
    "outputId": "0ae53e58-d88f-4880-966b-0609e70e27fe"
   },
   "outputs": [
    {
     "data": {
      "text/plain": [
       "43.54397992435092"
      ]
     },
     "execution_count": 21,
     "metadata": {},
     "output_type": "execute_result"
    }
   ],
   "source": [
    "rest = smf.ols('log_wage ~ log_age + children + high', data = df).fit() # модель, для которой основная гипотеза не отвергается, т.е. коэффициенты мужской и женской моделлей равны. \n",
    "rest.ssr #RSS_p"
   ]
  },
  {
   "cell_type": "code",
   "execution_count": 22,
   "metadata": {
    "colab": {
     "base_uri": "https://localhost:8080/"
    },
    "id": "cAEzlG0VTRNC",
    "outputId": "ee98675e-d635-483e-8183-7edf1db16f60"
   },
   "outputs": [
    {
     "data": {
      "text/plain": [
       "15.849158665348588"
      ]
     },
     "execution_count": 22,
     "metadata": {},
     "output_type": "execute_result"
    }
   ],
   "source": [
    "muzhiki = df[df['male'] == 1]\n",
    "\n",
    "muzh = smf.ols('log_wage ~ log_age + children + high', data = muzhiki).fit() # модель отдельно для мужчин\n",
    "muzh.ssr #RSS_m"
   ]
  },
  {
   "cell_type": "code",
   "execution_count": 23,
   "metadata": {
    "colab": {
     "base_uri": "https://localhost:8080/"
    },
    "id": "zymMDf0zTQ-t",
    "outputId": "4e32f046-27b0-4e41-a872-8737d3f37718"
   },
   "outputs": [
    {
     "data": {
      "text/plain": [
       "19.198929608686523"
      ]
     },
     "execution_count": 23,
     "metadata": {},
     "output_type": "execute_result"
    }
   ],
   "source": [
    "zhenschini = df[df['male'] == 0]\n",
    "\n",
    "zhen = smf.ols('log_wage ~ log_age + children + high', data = zhenschini).fit() # модель отдельно для женщин\n",
    "zhen.ssr #RSS_zh"
   ]
  },
  {
   "cell_type": "markdown",
   "metadata": {
    "id": "GUrZZVMeacLA"
   },
   "source": [
    "Рассчитаем F-статистику\n",
    "\n",
    "$F_{stat} = \\frac{(RSS_p - (RSS_m + RSS_{zh})) / (k + 1)}{(RSS_m + RSS_{zh}) / (n - 2k - 2)} = \\frac{(43.54 - (15.85 + 19.2)) / 4}{(15.85 + 19.2) / (144 - 6 - 2)} = 8.236$"
   ]
  },
  {
   "cell_type": "code",
   "execution_count": 24,
   "metadata": {
    "colab": {
     "base_uri": "https://localhost:8080/"
    },
    "id": "RSC7sW22dRZa",
    "outputId": "a74f85be-3c15-440c-c58e-568d3061a7c6"
   },
   "outputs": [
    {
     "data": {
      "text/plain": [
       "8.235663338088449"
      ]
     },
     "execution_count": 24,
     "metadata": {},
     "output_type": "execute_result"
    }
   ],
   "source": [
    "((43.54 - (15.85 + 19.2)) / 4) / ((15.85 + 19.2) / (144 - 6 - 2))"
   ]
  },
  {
   "cell_type": "markdown",
   "metadata": {
    "id": "tYatPRgxeffe"
   },
   "source": [
    "Найдем F-crit при уровне значимости 0,05 и степенями свободы (4, 136)\n",
    "\n",
    "$F_{crit} = F_{0.95, (4, 136)} = 2.438$"
   ]
  },
  {
   "cell_type": "code",
   "execution_count": 25,
   "metadata": {
    "colab": {
     "base_uri": "https://localhost:8080/"
    },
    "id": "XQ-riAdNe-Pg",
    "outputId": "7581eef6-8182-49d9-80c4-e9f231b4c935"
   },
   "outputs": [
    {
     "name": "stdout",
     "output_type": "stream",
     "text": [
      "p-value = 5.600873728806022e-06\n"
     ]
    }
   ],
   "source": [
    "# рассчитаем p-value\n",
    "print(f'p-value = {1 - stats.f.cdf(8.236, 4, 136)}')"
   ]
  },
  {
   "cell_type": "markdown",
   "metadata": {
    "id": "pn_6gLPrfC8y"
   },
   "source": [
    "Так как критическое значение меньше наблюдаемого, и P-value меньше уровня значимости, можем заключить то, что гипотеза $H_0$ о принадлежности мужской и женской выборок одной генеральной совокупности отвергается. Следовательно, различия в зарплатах мужчин и женщин существенны."
   ]
  },
  {
   "cell_type": "markdown",
   "metadata": {
    "id": "KTsT5Ft_LODU"
   },
   "source": [
    "## Пункт 6"
   ]
  },
  {
   "cell_type": "markdown",
   "metadata": {
    "id": "43wDYw6Blck3"
   },
   "source": [
    "Пример 1. Использование boxplot"
   ]
  },
  {
   "cell_type": "code",
   "execution_count": 26,
   "metadata": {
    "colab": {
     "base_uri": "https://localhost:8080/",
     "height": 378
    },
    "id": "rYAfv5eTtM-A",
    "outputId": "40d6286b-b491-4a31-b43d-82ba98495a76"
   },
   "outputs": [
    {
     "data": {
      "text/plain": [
       "<matplotlib.axes._subplots.AxesSubplot at 0x7fba3c8b3340>"
      ]
     },
     "execution_count": 26,
     "metadata": {},
     "output_type": "execute_result"
    },
    {
     "data": {
      "image/png": "[encoded data removed]",
      "text/plain": [
       "<Figure size 576x396 with 1 Axes>"
      ]
     },
     "metadata": {},
     "output_type": "display_data"
    }
   ],
   "source": [
    "sns.boxplot(x=df['log_wage']) #boxplot для размера зарплаты"
   ]
  },
  {
   "cell_type": "markdown",
   "metadata": {
    "id": "J3OFAzdAjk_2"
   },
   "source": [
    "На графике видим, что присутствует выброс, чья величина зарплаты значительно ниже, чем у остальных. Выведем индекс выброса."
   ]
  },
  {
   "cell_type": "code",
   "execution_count": 27,
   "metadata": {
    "colab": {
     "base_uri": "https://localhost:8080/"
    },
    "id": "VcF-FFOvkxa5",
    "outputId": "53345a74-a068-48ab-d536-04856c6592dd"
   },
   "outputs": [
    {
     "name": "stdout",
     "output_type": "stream",
     "text": [
      "(array([63]),)\n"
     ]
    }
   ],
   "source": [
    "print(np.where(df['log_wage']<7))"
   ]
  },
  {
   "cell_type": "markdown",
   "metadata": {
    "id": "gaTS1JtUlhRo"
   },
   "source": [
    "Пример 2. Использование диаграммы рассеяния"
   ]
  },
  {
   "cell_type": "code",
   "execution_count": 28,
   "metadata": {
    "colab": {
     "base_uri": "https://localhost:8080/",
     "height": 320
    },
    "id": "TQyrHGlun0H3",
    "outputId": "8f0eb92f-6127-420f-95d9-a77f7a209c6c"
   },
   "outputs": [
    {
     "data": {
      "image/png": "[encoded data removed]",
      "text/plain": [
       "<Figure size 360x360 with 1 Axes>"
      ]
     },
     "metadata": {},
     "output_type": "display_data"
    }
   ],
   "source": [
    "fig, ax = plt.subplots(figsize = (5,5))\n",
    "ax.scatter(df['log_age'], df['log_wage'])\n",
    "\n",
    "plt.show()"
   ]
  },
  {
   "cell_type": "markdown",
   "metadata": {
    "id": "QSgfkHqsoRk1"
   },
   "source": [
    "По диаграмме видим выброс внизу, как и в прошлом примере."
   ]
  },
  {
   "cell_type": "markdown",
   "metadata": {
    "id": "qxdiKf6Eo7vH"
   },
   "source": [
    "Пример 3. Z-оценка"
   ]
  },
  {
   "cell_type": "code",
   "execution_count": 29,
   "metadata": {
    "colab": {
     "base_uri": "https://localhost:8080/"
    },
    "id": "cAwF5gRrmfVj",
    "outputId": "e126e7be-f63f-45b3-da9b-2497d39cbcfd"
   },
   "outputs": [
    {
     "name": "stdout",
     "output_type": "stream",
     "text": [
      "(array([63]),)\n"
     ]
    }
   ],
   "source": [
    "z = np.abs(stats.zscore(df['log_wage']))\n",
    "print(np.where(z > 3))"
   ]
  },
  {
   "cell_type": "markdown",
   "metadata": {
    "id": "D4Jq7H8tsIuw"
   },
   "source": [
    "Данный тест выявляет тот же единственный выброс."
   ]
  },
  {
   "cell_type": "markdown",
   "metadata": {
    "id": "B_fugVzbsfO7"
   },
   "source": [
    "Пример 4. Межквартильный диапазон"
   ]
  },
  {
   "cell_type": "code",
   "execution_count": 30,
   "metadata": {
    "colab": {
     "base_uri": "https://localhost:8080/"
    },
    "id": "useFZB5VruD6",
    "outputId": "f28cf862-57b2-4d04-aba5-e2dea5b26b61"
   },
   "outputs": [
    {
     "name": "stdout",
     "output_type": "stream",
     "text": [
      "Upper bound: 11.215858442930706\n",
      "(array([], dtype=int64),)\n",
      "Lower bound: 8.364059211506206\n",
      "(array([63]),)\n"
     ]
    }
   ],
   "source": [
    "Q1 = np.percentile(df['log_wage'], 25,\n",
    "                   interpolation = 'midpoint')\n",
    " \n",
    "Q3 = np.percentile(df['log_wage'], 75,\n",
    "                   interpolation = 'midpoint')\n",
    "IQR = Q3 - Q1\n",
    "\n",
    "# Above Upper bound\n",
    "u_bound = Q3+1.5*IQR\n",
    "upper = df['log_wage'] >= u_bound\n",
    " \n",
    "print(\"Upper bound:\",u_bound)\n",
    "print(np.where(upper))\n",
    " \n",
    "# Below Lower bound\n",
    "l_bound = Q1-1.5*IQR\n",
    "lower = df['log_wage'] <= l_bound\n",
    "print(\"Lower bound:\", l_bound)\n",
    "print(np.where(lower))"
   ]
  },
  {
   "cell_type": "markdown",
   "metadata": {
    "id": "9p8WJeMht0cs"
   },
   "source": [
    "Данный способ похож на способ с boxplot. Определяет тот же выброс."
   ]
  },
  {
   "cell_type": "markdown",
   "metadata": {
    "id": "suMlcFPkuy6D"
   },
   "source": [
    "Пример 5. Стьюдентизированные остатки"
   ]
  },
  {
   "cell_type": "code",
   "execution_count": 31,
   "metadata": {
    "colab": {
     "base_uri": "https://localhost:8080/"
    },
    "id": "Xzrv2t1hs6Ag",
    "outputId": "2b9a25bc-c788-4ad7-f64d-999fa5232f40"
   },
   "outputs": [
    {
     "name": "stderr",
     "output_type": "stream",
     "text": [
      "/usr/local/lib/python3.8/dist-packages/statsmodels/stats/outliers_influence.py:774: RuntimeWarning: invalid value encountered in true_divide\n",
      "  dfbetas /= np.sqrt(np.diag(self.results.normalized_cov_params))\n"
     ]
    }
   ],
   "source": [
    "influence = ols_log.get_influence()\n",
    "inf_sum = influence.summary_frame()\n",
    "\n",
    "results = pd.concat([df, inf_sum], axis = 1) # Объединим исходные данные с таблицей показателей"
   ]
  },
  {
   "cell_type": "code",
   "execution_count": 32,
   "metadata": {
    "id": "tOESxyGN0GVr"
   },
   "outputs": [],
   "source": [
    "student_resid = influence.resid_studentized_external"
   ]
  },
  {
   "cell_type": "code",
   "execution_count": 33,
   "metadata": {
    "colab": {
     "base_uri": "https://localhost:8080/"
    },
    "id": "fIuzoL8z0lfg",
    "outputId": "7c557d92-b023-49d8-8e36-c07141928b11"
   },
   "outputs": [
    {
     "name": "stdout",
     "output_type": "stream",
     "text": [
      "1.6559703824298393\n"
     ]
    }
   ],
   "source": [
    "# определим критическое значение для стьюдентизированных остатков\n",
    "\n",
    "from scipy import stats\n",
    "crit = stats.t(df=138).ppf((0.95))\n",
    "print(crit)"
   ]
  },
  {
   "cell_type": "code",
   "execution_count": 34,
   "metadata": {
    "colab": {
     "base_uri": "https://localhost:8080/",
     "height": 484
    },
    "id": "a1wnm2xg1NzK",
    "outputId": "bf519e4f-1d85-4a77-d3d9-4227a1db8176"
   },
   "outputs": [
    {
     "data": {
      "text/html": [
       "\n",
       "  <div id=\"df-eb9b7107-2deb-4a18-8a04-ab3032a3a6a3\">\n",
       "    <div class=\"colab-df-container\">\n",
       "      <div>\n",
       "<style scoped>\n",
       "    .dataframe tbody tr th:only-of-type {\n",
       "        vertical-align: middle;\n",
       "    }\n",
       "\n",
       "    .dataframe tbody tr th {\n",
       "        vertical-align: top;\n",
       "    }\n",
       "\n",
       "    .dataframe thead th {\n",
       "        text-align: right;\n",
       "    }\n",
       "</style>\n",
       "<table border=\"1\" class=\"dataframe\">\n",
       "  <thead>\n",
       "    <tr style=\"text-align: right;\">\n",
       "      <th></th>\n",
       "      <th>idind</th>\n",
       "      <th>psu</th>\n",
       "      <th>status</th>\n",
       "      <th>age</th>\n",
       "      <th>male</th>\n",
       "      <th>industry</th>\n",
       "      <th>wage</th>\n",
       "      <th>public</th>\n",
       "      <th>internet</th>\n",
       "      <th>children</th>\n",
       "      <th>...</th>\n",
       "      <th>dfb_high</th>\n",
       "      <th>dfb_male</th>\n",
       "      <th>dfb_urban</th>\n",
       "      <th>dfb_children</th>\n",
       "      <th>cooks_d</th>\n",
       "      <th>standard_resid</th>\n",
       "      <th>hat_diag</th>\n",
       "      <th>dffits_internal</th>\n",
       "      <th>student_resid</th>\n",
       "      <th>dffits</th>\n",
       "    </tr>\n",
       "  </thead>\n",
       "  <tbody>\n",
       "    <tr>\n",
       "      <th>5</th>\n",
       "      <td>326</td>\n",
       "      <td>Кущевский р-</td>\n",
       "      <td>Село</td>\n",
       "      <td>27</td>\n",
       "      <td>0</td>\n",
       "      <td>ОБРАЗОВАНИЕ</td>\n",
       "      <td>6000</td>\n",
       "      <td>1</td>\n",
       "      <td>1</td>\n",
       "      <td>1</td>\n",
       "      <td>...</td>\n",
       "      <td>-0.193754</td>\n",
       "      <td>0.117350</td>\n",
       "      <td>NaN</td>\n",
       "      <td>-0.040598</td>\n",
       "      <td>0.019426</td>\n",
       "      <td>-1.911682</td>\n",
       "      <td>0.030907</td>\n",
       "      <td>-0.341400</td>\n",
       "      <td>-1.930337</td>\n",
       "      <td>-0.344732</td>\n",
       "    </tr>\n",
       "    <tr>\n",
       "      <th>13</th>\n",
       "      <td>334</td>\n",
       "      <td>Кущевский р-</td>\n",
       "      <td>Село</td>\n",
       "      <td>39</td>\n",
       "      <td>1</td>\n",
       "      <td>СЕЛЬСКОЕ ХОЗ</td>\n",
       "      <td>10500</td>\n",
       "      <td>0</td>\n",
       "      <td>1</td>\n",
       "      <td>0</td>\n",
       "      <td>...</td>\n",
       "      <td>0.092832</td>\n",
       "      <td>-0.127447</td>\n",
       "      <td>NaN</td>\n",
       "      <td>0.293915</td>\n",
       "      <td>0.021853</td>\n",
       "      <td>-1.654978</td>\n",
       "      <td>0.045684</td>\n",
       "      <td>-0.362100</td>\n",
       "      <td>-1.665505</td>\n",
       "      <td>-0.364403</td>\n",
       "    </tr>\n",
       "    <tr>\n",
       "      <th>23</th>\n",
       "      <td>344</td>\n",
       "      <td>Кущевский р-</td>\n",
       "      <td>Село</td>\n",
       "      <td>33</td>\n",
       "      <td>1</td>\n",
       "      <td>СТРОИТЕЛЬСТВ</td>\n",
       "      <td>40500</td>\n",
       "      <td>0</td>\n",
       "      <td>1</td>\n",
       "      <td>2</td>\n",
       "      <td>...</td>\n",
       "      <td>-0.075629</td>\n",
       "      <td>0.130808</td>\n",
       "      <td>NaN</td>\n",
       "      <td>0.146510</td>\n",
       "      <td>0.011921</td>\n",
       "      <td>1.657341</td>\n",
       "      <td>0.025379</td>\n",
       "      <td>0.267441</td>\n",
       "      <td>1.667931</td>\n",
       "      <td>0.269150</td>\n",
       "    </tr>\n",
       "    <tr>\n",
       "      <th>63</th>\n",
       "      <td>1154</td>\n",
       "      <td>Кущевский р-</td>\n",
       "      <td>Село</td>\n",
       "      <td>29</td>\n",
       "      <td>0</td>\n",
       "      <td>ЗДРАВООХРАНЕ</td>\n",
       "      <td>550</td>\n",
       "      <td>1</td>\n",
       "      <td>1</td>\n",
       "      <td>2</td>\n",
       "      <td>...</td>\n",
       "      <td>0.511878</td>\n",
       "      <td>0.617174</td>\n",
       "      <td>NaN</td>\n",
       "      <td>-0.765208</td>\n",
       "      <td>0.220145</td>\n",
       "      <td>-5.895623</td>\n",
       "      <td>0.036610</td>\n",
       "      <td>-1.149291</td>\n",
       "      <td>-6.783419</td>\n",
       "      <td>-1.322358</td>\n",
       "    </tr>\n",
       "    <tr>\n",
       "      <th>68</th>\n",
       "      <td>1354</td>\n",
       "      <td>Кущевский р-</td>\n",
       "      <td>Село</td>\n",
       "      <td>59</td>\n",
       "      <td>1</td>\n",
       "      <td>ТРАНСПОРТ, С</td>\n",
       "      <td>58500</td>\n",
       "      <td>0</td>\n",
       "      <td>1</td>\n",
       "      <td>1</td>\n",
       "      <td>...</td>\n",
       "      <td>-0.068086</td>\n",
       "      <td>0.125080</td>\n",
       "      <td>NaN</td>\n",
       "      <td>-0.252167</td>\n",
       "      <td>0.030134</td>\n",
       "      <td>1.825988</td>\n",
       "      <td>0.051438</td>\n",
       "      <td>0.425212</td>\n",
       "      <td>1.841630</td>\n",
       "      <td>0.428854</td>\n",
       "    </tr>\n",
       "    <tr>\n",
       "      <th>79</th>\n",
       "      <td>1984</td>\n",
       "      <td>Кущевский р-</td>\n",
       "      <td>Село</td>\n",
       "      <td>48</td>\n",
       "      <td>0</td>\n",
       "      <td>НАУКА, КУЛЬТ</td>\n",
       "      <td>40500</td>\n",
       "      <td>1</td>\n",
       "      <td>1</td>\n",
       "      <td>1</td>\n",
       "      <td>...</td>\n",
       "      <td>-0.141107</td>\n",
       "      <td>-0.207288</td>\n",
       "      <td>NaN</td>\n",
       "      <td>-0.199512</td>\n",
       "      <td>0.024904</td>\n",
       "      <td>2.032727</td>\n",
       "      <td>0.034901</td>\n",
       "      <td>0.386553</td>\n",
       "      <td>2.056194</td>\n",
       "      <td>0.391016</td>\n",
       "    </tr>\n",
       "    <tr>\n",
       "      <th>118</th>\n",
       "      <td>2352</td>\n",
       "      <td>Кущевский р-</td>\n",
       "      <td>Село</td>\n",
       "      <td>40</td>\n",
       "      <td>1</td>\n",
       "      <td>СЕЛЬСКОЕ ХОЗ</td>\n",
       "      <td>45500</td>\n",
       "      <td>0</td>\n",
       "      <td>1</td>\n",
       "      <td>2</td>\n",
       "      <td>...</td>\n",
       "      <td>-0.071650</td>\n",
       "      <td>0.133452</td>\n",
       "      <td>NaN</td>\n",
       "      <td>0.093797</td>\n",
       "      <td>0.010147</td>\n",
       "      <td>1.782330</td>\n",
       "      <td>0.018805</td>\n",
       "      <td>0.246745</td>\n",
       "      <td>1.796555</td>\n",
       "      <td>0.248714</td>\n",
       "    </tr>\n",
       "  </tbody>\n",
       "</table>\n",
       "<p>7 rows × 32 columns</p>\n",
       "</div>\n",
       "      <button class=\"colab-df-convert\" onclick=\"convertToInteractive('df-eb9b7107-2deb-4a18-8a04-ab3032a3a6a3')\"\n",
       "              title=\"Convert this dataframe to an interactive table.\"\n",
       "              style=\"display:none;\">\n",
       "        \n",
       "  <svg xmlns=\"http://www.w3.org/2000/svg\" height=\"24px\"viewBox=\"0 0 24 24\"\n",
       "       width=\"24px\">\n",
       "    <path d=\"M0 0h24v24H0V0z\" fill=\"none\"/>\n",
       "    <path d=\"M18.56 5.44l.94 2.06.94-2.06 2.06-.94-2.06-.94-.94-2.06-.94 2.06-2.06.94zm-11 1L8.5 8.5l.94-2.06 2.06-.94-2.06-.94L8.5 2.5l-.94 2.06-2.06.94zm10 10l.94 2.06.94-2.06 2.06-.94-2.06-.94-.94-2.06-.94 2.06-2.06.94z\"/><path d=\"M17.41 7.96l-1.37-1.37c-.4-.4-.92-.59-1.43-.59-.52 0-1.04.2-1.43.59L10.3 9.45l-7.72 7.72c-.78.78-.78 2.05 0 2.83L4 21.41c.39.39.9.59 1.41.59.51 0 1.02-.2 1.41-.59l7.78-7.78 2.81-2.81c.8-.78.8-2.07 0-2.86zM5.41 20L4 18.59l7.72-7.72 1.47 1.35L5.41 20z\"/>\n",
       "  </svg>\n",
       "      </button>\n",
       "      \n",
       "  <style>\n",
       "    .colab-df-container {\n",
       "      display:flex;\n",
       "      flex-wrap:wrap;\n",
       "      gap: 12px;\n",
       "    }\n",
       "\n",
       "    .colab-df-convert {\n",
       "      background-color: #E8F0FE;\n",
       "      border: none;\n",
       "      border-radius: 50%;\n",
       "      cursor: pointer;\n",
       "      display: none;\n",
       "      fill: #1967D2;\n",
       "      height: 32px;\n",
       "      padding: 0 0 0 0;\n",
       "      width: 32px;\n",
       "    }\n",
       "\n",
       "    .colab-df-convert:hover {\n",
       "      background-color: #E2EBFA;\n",
       "      box-shadow: 0px 1px 2px rgba(60, 64, 67, 0.3), 0px 1px 3px 1px rgba(60, 64, 67, 0.15);\n",
       "      fill: #174EA6;\n",
       "    }\n",
       "\n",
       "    [theme=dark] .colab-df-convert {\n",
       "      background-color: #3B4455;\n",
       "      fill: #D2E3FC;\n",
       "    }\n",
       "\n",
       "    [theme=dark] .colab-df-convert:hover {\n",
       "      background-color: #434B5C;\n",
       "      box-shadow: 0px 1px 3px 1px rgba(0, 0, 0, 0.15);\n",
       "      filter: drop-shadow(0px 1px 2px rgba(0, 0, 0, 0.3));\n",
       "      fill: #FFFFFF;\n",
       "    }\n",
       "  </style>\n",
       "\n",
       "      <script>\n",
       "        const buttonEl =\n",
       "          document.querySelector('#df-eb9b7107-2deb-4a18-8a04-ab3032a3a6a3 button.colab-df-convert');\n",
       "        buttonEl.style.display =\n",
       "          google.colab.kernel.accessAllowed ? 'block' : 'none';\n",
       "\n",
       "        async function convertToInteractive(key) {\n",
       "          const element = document.querySelector('#df-eb9b7107-2deb-4a18-8a04-ab3032a3a6a3');\n",
       "          const dataTable =\n",
       "            await google.colab.kernel.invokeFunction('convertToInteractive',\n",
       "                                                     [key], {});\n",
       "          if (!dataTable) return;\n",
       "\n",
       "          const docLinkHtml = 'Like what you see? Visit the ' +\n",
       "            '<a target=\"_blank\" href=https://colab.research.google.com/notebooks/data_table.ipynb>data table notebook</a>'\n",
       "            + ' to learn more about interactive tables.';\n",
       "          element.innerHTML = '';\n",
       "          dataTable['output_type'] = 'display_data';\n",
       "          await google.colab.output.renderOutput(dataTable, element);\n",
       "          const docLink = document.createElement('div');\n",
       "          docLink.innerHTML = docLinkHtml;\n",
       "          element.appendChild(docLink);\n",
       "        }\n",
       "      </script>\n",
       "    </div>\n",
       "  </div>\n",
       "  "
      ],
      "text/plain": [
       "     idind           psu status  age  male      industry   wage  public  \\\n",
       "5      326  Кущевский р-   Село   27     0   ОБРАЗОВАНИЕ   6000       1   \n",
       "13     334  Кущевский р-   Село   39     1  СЕЛЬСКОЕ ХОЗ  10500       0   \n",
       "23     344  Кущевский р-   Село   33     1  СТРОИТЕЛЬСТВ  40500       0   \n",
       "63    1154  Кущевский р-   Село   29     0  ЗДРАВООХРАНЕ    550       1   \n",
       "68    1354  Кущевский р-   Село   59     1  ТРАНСПОРТ, С  58500       0   \n",
       "79    1984  Кущевский р-   Село   48     0  НАУКА, КУЛЬТ  40500       1   \n",
       "118   2352  Кущевский р-   Село   40     1  СЕЛЬСКОЕ ХОЗ  45500       0   \n",
       "\n",
       "     internet  children  ...  dfb_high  dfb_male  dfb_urban  dfb_children  \\\n",
       "5           1         1  ... -0.193754  0.117350        NaN     -0.040598   \n",
       "13          1         0  ...  0.092832 -0.127447        NaN      0.293915   \n",
       "23          1         2  ... -0.075629  0.130808        NaN      0.146510   \n",
       "63          1         2  ...  0.511878  0.617174        NaN     -0.765208   \n",
       "68          1         1  ... -0.068086  0.125080        NaN     -0.252167   \n",
       "79          1         1  ... -0.141107 -0.207288        NaN     -0.199512   \n",
       "118         1         2  ... -0.071650  0.133452        NaN      0.093797   \n",
       "\n",
       "      cooks_d  standard_resid  hat_diag  dffits_internal  student_resid  \\\n",
       "5    0.019426       -1.911682  0.030907        -0.341400      -1.930337   \n",
       "13   0.021853       -1.654978  0.045684        -0.362100      -1.665505   \n",
       "23   0.011921        1.657341  0.025379         0.267441       1.667931   \n",
       "63   0.220145       -5.895623  0.036610        -1.149291      -6.783419   \n",
       "68   0.030134        1.825988  0.051438         0.425212       1.841630   \n",
       "79   0.024904        2.032727  0.034901         0.386553       2.056194   \n",
       "118  0.010147        1.782330  0.018805         0.246745       1.796555   \n",
       "\n",
       "       dffits  \n",
       "5   -0.344732  \n",
       "13  -0.364403  \n",
       "23   0.269150  \n",
       "63  -1.322358  \n",
       "68   0.428854  \n",
       "79   0.391016  \n",
       "118  0.248714  \n",
       "\n",
       "[7 rows x 32 columns]"
      ]
     },
     "execution_count": 34,
     "metadata": {},
     "output_type": "execute_result"
    }
   ],
   "source": [
    "# Выведем номера всех возможных выбросов согласно стьюдентизированным остаткам\n",
    "\n",
    "high_stud_res = pd.DataFrame((results[abs(student_resid) > crit]))\n",
    "high_stud_res"
   ]
  },
  {
   "cell_type": "markdown",
   "metadata": {
    "id": "P1CihszoG6fD"
   },
   "source": [
    "Удалим выброс"
   ]
  },
  {
   "cell_type": "code",
   "execution_count": 35,
   "metadata": {
    "id": "wJMaVGMZG-3m"
   },
   "outputs": [],
   "source": [
    "df.drop(np.where(lower)[0], inplace = True)"
   ]
  },
  {
   "cell_type": "markdown",
   "metadata": {
    "id": "TDkJb8880FJ6"
   },
   "source": [
    "## Пункт 7"
   ]
  },
  {
   "cell_type": "code",
   "execution_count": 36,
   "metadata": {
    "colab": {
     "base_uri": "https://localhost:8080/"
    },
    "id": "7jnmvVer2myf",
    "outputId": "7d1acc01-46e8-43ca-9c9b-050d752e1bab"
   },
   "outputs": [
    {
     "name": "stdout",
     "output_type": "stream",
     "text": [
      "                            OLS Regression Results                            \n",
      "==============================================================================\n",
      "Dep. Variable:               log_wage   R-squared:                       0.189\n",
      "Model:                            OLS   Adj. R-squared:                  0.165\n",
      "Method:                 Least Squares   F-statistic:                     8.019\n",
      "Date:                Thu, 15 Dec 2022   Prob (F-statistic):           7.65e-06\n",
      "Time:                        12:52:07   Log-Likelihood:                -85.990\n",
      "No. Observations:                 143   AIC:                             182.0\n",
      "Df Residuals:                     138   BIC:                             196.8\n",
      "Df Model:                           4                                         \n",
      "Covariance Type:            nonrobust                                         \n",
      "==============================================================================\n",
      "                 coef    std err          t      P>|t|      [0.025      0.975]\n",
      "------------------------------------------------------------------------------\n",
      "Intercept      9.1998      0.550     16.733      0.000       8.113      10.287\n",
      "log_age        0.1266      0.161      0.788      0.432      -0.191       0.445\n",
      "high           0.2025      0.082      2.469      0.015       0.040       0.365\n",
      "male           0.3806      0.076      4.982      0.000       0.230       0.532\n",
      "children      -0.1052      0.052     -2.034      0.044      -0.207      -0.003\n",
      "==============================================================================\n",
      "Omnibus:                       11.082   Durbin-Watson:                   1.761\n",
      "Prob(Omnibus):                  0.004   Jarque-Bera (JB):                4.501\n",
      "Skew:                           0.123   Prob(JB):                        0.105\n",
      "Kurtosis:                       2.166   Cond. No.                         61.7\n",
      "==============================================================================\n",
      "\n",
      "Notes:\n",
      "[1] Standard Errors assume that the covariance matrix of the errors is correctly specified.\n"
     ]
    }
   ],
   "source": [
    "ols_log = smf.ols('log_wage ~ log_age + high + male + children', data=df).fit()\n",
    "print(ols_log.summary())"
   ]
  },
  {
   "cell_type": "code",
   "execution_count": 37,
   "metadata": {
    "colab": {
     "base_uri": "https://localhost:8080/",
     "height": 175
    },
    "id": "QmWEO9lH3iuq",
    "outputId": "43b7bf2b-c355-4f29-f7d9-5ede5c8742ae"
   },
   "outputs": [
    {
     "data": {
      "text/html": [
       "\n",
       "  <div id=\"df-7918edfd-c8e1-4898-80ea-1bdf5040f078\">\n",
       "    <div class=\"colab-df-container\">\n",
       "      <div>\n",
       "<style scoped>\n",
       "    .dataframe tbody tr th:only-of-type {\n",
       "        vertical-align: middle;\n",
       "    }\n",
       "\n",
       "    .dataframe tbody tr th {\n",
       "        vertical-align: top;\n",
       "    }\n",
       "\n",
       "    .dataframe thead th {\n",
       "        text-align: right;\n",
       "    }\n",
       "</style>\n",
       "<table border=\"1\" class=\"dataframe\">\n",
       "  <thead>\n",
       "    <tr style=\"text-align: right;\">\n",
       "      <th></th>\n",
       "      <th>log_age</th>\n",
       "      <th>high</th>\n",
       "      <th>male</th>\n",
       "      <th>children</th>\n",
       "    </tr>\n",
       "  </thead>\n",
       "  <tbody>\n",
       "    <tr>\n",
       "      <th>log_age</th>\n",
       "      <td>1.000000</td>\n",
       "      <td>-0.143886</td>\n",
       "      <td>0.083044</td>\n",
       "      <td>0.528338</td>\n",
       "    </tr>\n",
       "    <tr>\n",
       "      <th>high</th>\n",
       "      <td>-0.143886</td>\n",
       "      <td>1.000000</td>\n",
       "      <td>-0.168657</td>\n",
       "      <td>-0.123141</td>\n",
       "    </tr>\n",
       "    <tr>\n",
       "      <th>male</th>\n",
       "      <td>0.083044</td>\n",
       "      <td>-0.168657</td>\n",
       "      <td>1.000000</td>\n",
       "      <td>0.062294</td>\n",
       "    </tr>\n",
       "    <tr>\n",
       "      <th>children</th>\n",
       "      <td>0.528338</td>\n",
       "      <td>-0.123141</td>\n",
       "      <td>0.062294</td>\n",
       "      <td>1.000000</td>\n",
       "    </tr>\n",
       "  </tbody>\n",
       "</table>\n",
       "</div>\n",
       "      <button class=\"colab-df-convert\" onclick=\"convertToInteractive('df-7918edfd-c8e1-4898-80ea-1bdf5040f078')\"\n",
       "              title=\"Convert this dataframe to an interactive table.\"\n",
       "              style=\"display:none;\">\n",
       "        \n",
       "  <svg xmlns=\"http://www.w3.org/2000/svg\" height=\"24px\"viewBox=\"0 0 24 24\"\n",
       "       width=\"24px\">\n",
       "    <path d=\"M0 0h24v24H0V0z\" fill=\"none\"/>\n",
       "    <path d=\"M18.56 5.44l.94 2.06.94-2.06 2.06-.94-2.06-.94-.94-2.06-.94 2.06-2.06.94zm-11 1L8.5 8.5l.94-2.06 2.06-.94-2.06-.94L8.5 2.5l-.94 2.06-2.06.94zm10 10l.94 2.06.94-2.06 2.06-.94-2.06-.94-.94-2.06-.94 2.06-2.06.94z\"/><path d=\"M17.41 7.96l-1.37-1.37c-.4-.4-.92-.59-1.43-.59-.52 0-1.04.2-1.43.59L10.3 9.45l-7.72 7.72c-.78.78-.78 2.05 0 2.83L4 21.41c.39.39.9.59 1.41.59.51 0 1.02-.2 1.41-.59l7.78-7.78 2.81-2.81c.8-.78.8-2.07 0-2.86zM5.41 20L4 18.59l7.72-7.72 1.47 1.35L5.41 20z\"/>\n",
       "  </svg>\n",
       "      </button>\n",
       "      \n",
       "  <style>\n",
       "    .colab-df-container {\n",
       "      display:flex;\n",
       "      flex-wrap:wrap;\n",
       "      gap: 12px;\n",
       "    }\n",
       "\n",
       "    .colab-df-convert {\n",
       "      background-color: #E8F0FE;\n",
       "      border: none;\n",
       "      border-radius: 50%;\n",
       "      cursor: pointer;\n",
       "      display: none;\n",
       "      fill: #1967D2;\n",
       "      height: 32px;\n",
       "      padding: 0 0 0 0;\n",
       "      width: 32px;\n",
       "    }\n",
       "\n",
       "    .colab-df-convert:hover {\n",
       "      background-color: #E2EBFA;\n",
       "      box-shadow: 0px 1px 2px rgba(60, 64, 67, 0.3), 0px 1px 3px 1px rgba(60, 64, 67, 0.15);\n",
       "      fill: #174EA6;\n",
       "    }\n",
       "\n",
       "    [theme=dark] .colab-df-convert {\n",
       "      background-color: #3B4455;\n",
       "      fill: #D2E3FC;\n",
       "    }\n",
       "\n",
       "    [theme=dark] .colab-df-convert:hover {\n",
       "      background-color: #434B5C;\n",
       "      box-shadow: 0px 1px 3px 1px rgba(0, 0, 0, 0.15);\n",
       "      filter: drop-shadow(0px 1px 2px rgba(0, 0, 0, 0.3));\n",
       "      fill: #FFFFFF;\n",
       "    }\n",
       "  </style>\n",
       "\n",
       "      <script>\n",
       "        const buttonEl =\n",
       "          document.querySelector('#df-7918edfd-c8e1-4898-80ea-1bdf5040f078 button.colab-df-convert');\n",
       "        buttonEl.style.display =\n",
       "          google.colab.kernel.accessAllowed ? 'block' : 'none';\n",
       "\n",
       "        async function convertToInteractive(key) {\n",
       "          const element = document.querySelector('#df-7918edfd-c8e1-4898-80ea-1bdf5040f078');\n",
       "          const dataTable =\n",
       "            await google.colab.kernel.invokeFunction('convertToInteractive',\n",
       "                                                     [key], {});\n",
       "          if (!dataTable) return;\n",
       "\n",
       "          const docLinkHtml = 'Like what you see? Visit the ' +\n",
       "            '<a target=\"_blank\" href=https://colab.research.google.com/notebooks/data_table.ipynb>data table notebook</a>'\n",
       "            + ' to learn more about interactive tables.';\n",
       "          element.innerHTML = '';\n",
       "          dataTable['output_type'] = 'display_data';\n",
       "          await google.colab.output.renderOutput(dataTable, element);\n",
       "          const docLink = document.createElement('div');\n",
       "          docLink.innerHTML = docLinkHtml;\n",
       "          element.appendChild(docLink);\n",
       "        }\n",
       "      </script>\n",
       "    </div>\n",
       "  </div>\n",
       "  "
      ],
      "text/plain": [
       "           log_age      high      male  children\n",
       "log_age   1.000000 -0.143886  0.083044  0.528338\n",
       "high     -0.143886  1.000000 -0.168657 -0.123141\n",
       "male      0.083044 -0.168657  1.000000  0.062294\n",
       "children  0.528338 -0.123141  0.062294  1.000000"
      ]
     },
     "execution_count": 37,
     "metadata": {},
     "output_type": "execute_result"
    }
   ],
   "source": [
    "df.loc[:, [\"log_age\", \"high\", \"male\", \"children\"]].corr() #корреляционная матрица"
   ]
  },
  {
   "cell_type": "markdown",
   "metadata": {
    "id": "T00oopH8PkOa"
   },
   "source": [
    "Судя по матрице, можем предположить прямую зависимость между log_age и children. Проведем более детальный анализ с помощью VIF"
   ]
  },
  {
   "cell_type": "code",
   "execution_count": 38,
   "metadata": {
    "colab": {
     "base_uri": "https://localhost:8080/"
    },
    "id": "9OGAl3tu4dWl",
    "outputId": "2f22e3fc-324f-4126-de73-8fd5f76633d7"
   },
   "outputs": [
    {
     "name": "stdout",
     "output_type": "stream",
     "text": [
      "1.4022894999534927\n"
     ]
    }
   ],
   "source": [
    "# Перейдем к расчету показателей VIF\n",
    "# Если VIF(x) > 10, то вероятно существует проблема мультиколлинеарности\n",
    "\n",
    "# VIF(log_age)\n",
    "print(1/(1 - smf.ols(\"log_age ~ 1 + high + male + children\", data = df).fit().rsquared))"
   ]
  },
  {
   "cell_type": "code",
   "execution_count": 39,
   "metadata": {
    "colab": {
     "base_uri": "https://localhost:8080/"
    },
    "id": "iS9EAg2S48Ox",
    "outputId": "1764fbc1-0dd4-4211-eb52-ad53c39ffd8f"
   },
   "outputs": [
    {
     "name": "stdout",
     "output_type": "stream",
     "text": [
      "1.0505795788887753\n"
     ]
    }
   ],
   "source": [
    "# VIF(high)\n",
    "print(1/(1 - smf.ols(\"high ~ 1 + log_age + male + children\", data = df).fit().rsquared))"
   ]
  },
  {
   "cell_type": "code",
   "execution_count": 40,
   "metadata": {
    "colab": {
     "base_uri": "https://localhost:8080/"
    },
    "id": "c4O-wNAq5O9z",
    "outputId": "e6cd45a4-ad16-4e74-8140-5564b287f4f0"
   },
   "outputs": [
    {
     "name": "stdout",
     "output_type": "stream",
     "text": [
      "1.033204812145329\n"
     ]
    }
   ],
   "source": [
    "# VIF(male)\n",
    "print(1/(1 - smf.ols(\"male ~ 1 + log_age + high + children\", data = df).fit().rsquared))"
   ]
  },
  {
   "cell_type": "code",
   "execution_count": 41,
   "metadata": {
    "colab": {
     "base_uri": "https://localhost:8080/"
    },
    "id": "Ld9s1X6s5c8G",
    "outputId": "d4aa28a0-b181-4e1b-c26e-8d351ccffe30"
   },
   "outputs": [
    {
     "name": "stdout",
     "output_type": "stream",
     "text": [
      "1.3918471406533954\n"
     ]
    }
   ],
   "source": [
    "# VIF(children)\n",
    "print(1/(1 - smf.ols(\"children ~ 1 + log_age + high + male\", data = df).fit().rsquared))"
   ]
  },
  {
   "cell_type": "code",
   "execution_count": 42,
   "metadata": {
    "colab": {
     "base_uri": "https://localhost:8080/"
    },
    "id": "RojLypQH5lP5",
    "outputId": "1d56f736-11b0-4810-f05e-542ec4f5149a"
   },
   "outputs": [
    {
     "name": "stdout",
     "output_type": "stream",
     "text": [
      "1.3368906215262357\n"
     ]
    }
   ],
   "source": [
    "# VIF(male)\n",
    "print(1/(1 - smf.ols(\"age ~ children\", data = df).fit().rsquared))"
   ]
  },
  {
   "cell_type": "code",
   "execution_count": 43,
   "metadata": {
    "colab": {
     "base_uri": "https://localhost:8080/"
    },
    "id": "yIc9boaZ52oy",
    "outputId": "d00667c5-abf4-41e4-aa67-f9fd641493ad"
   },
   "outputs": [
    {
     "name": "stdout",
     "output_type": "stream",
     "text": [
      "[[1.         3.71357207 0.         1.         2.        ]\n",
      " [1.         3.93182563 0.         1.         2.        ]\n",
      " [1.         3.25809654 0.         0.         0.        ]\n",
      " [1.         4.00733319 0.         0.         2.        ]\n",
      " [1.         4.04305127 0.         1.         2.        ]\n",
      " [1.         3.29583687 1.         0.         1.        ]\n",
      " [1.         3.91202301 0.         0.         2.        ]\n",
      " [1.         3.8918203  0.         1.         2.        ]\n",
      " [1.         3.4657359  0.         1.         1.        ]\n",
      " [1.         3.63758616 0.         0.         1.        ]\n",
      " [1.         3.8501476  0.         1.         2.        ]\n",
      " [1.         3.73766962 0.         0.         2.        ]\n",
      " [1.         3.17805383 1.         0.         0.        ]\n",
      " [1.         3.66356165 0.         1.         0.        ]\n",
      " [1.         3.4339872  0.         0.         1.        ]\n",
      " [1.         3.49650756 0.         1.         2.        ]\n",
      " [1.         3.4339872  0.         1.         2.        ]\n",
      " [1.         4.04305127 1.         0.         1.        ]\n",
      " [1.         4.06044301 1.         0.         2.        ]\n",
      " [1.         4.07753744 1.         1.         2.        ]\n",
      " [1.         3.17805383 0.         0.         0.        ]\n",
      " [1.         3.98898405 0.         0.         1.        ]\n",
      " [1.         3.52636052 0.         0.         1.        ]\n",
      " [1.         3.49650756 0.         1.         2.        ]\n",
      " [1.         3.49650756 0.         1.         0.        ]\n",
      " [1.         3.73766962 0.         0.         1.        ]\n",
      " [1.         3.71357207 0.         1.         0.        ]\n",
      " [1.         3.8501476  0.         0.         2.        ]\n",
      " [1.         3.91202301 0.         1.         2.        ]\n",
      " [1.         2.94443898 0.         0.         0.        ]\n",
      " [1.         3.8918203  0.         1.         1.        ]\n",
      " [1.         3.8286414  0.         0.         2.        ]\n",
      " [1.         3.97029191 0.         0.         1.        ]\n",
      " [1.         4.06044301 0.         1.         3.        ]\n",
      " [1.         3.58351894 0.         0.         2.        ]\n",
      " [1.         3.68887945 0.         0.         1.        ]\n",
      " [1.         3.21887582 0.         1.         1.        ]\n",
      " [1.         3.66356165 0.         1.         1.        ]\n",
      " [1.         3.58351894 1.         0.         3.        ]\n",
      " [1.         4.06044301 1.         0.         2.        ]\n",
      " [1.         4.04305127 1.         1.         2.        ]\n",
      " [1.         3.52636052 1.         0.         1.        ]\n",
      " [1.         3.29583687 0.         1.         0.        ]\n",
      " [1.         3.25809654 1.         1.         0.        ]\n",
      " [1.         3.52636052 1.         0.         1.        ]\n",
      " [1.         3.33220451 0.         0.         1.        ]\n",
      " [1.         3.61091791 1.         1.         2.        ]\n",
      " [1.         3.8501476  0.         1.         1.        ]\n",
      " [1.         3.21887582 1.         0.         0.        ]\n",
      " [1.         3.93182563 0.         0.         2.        ]\n",
      " [1.         4.00733319 0.         1.         2.        ]\n",
      " [1.         3.49650756 1.         1.         0.        ]\n",
      " [1.         3.29583687 1.         0.         0.        ]\n",
      " [1.         3.55534806 0.         1.         1.        ]\n",
      " [1.         3.4339872  0.         0.         2.        ]\n",
      " [1.         3.66356165 1.         1.         2.        ]\n",
      " [1.         3.63758616 0.         0.         1.        ]\n",
      " [1.         3.8286414  1.         0.         3.        ]\n",
      " [1.         3.8918203  1.         1.         3.        ]\n",
      " [1.         3.21887582 0.         0.         1.        ]\n",
      " [1.         3.63758616 1.         0.         2.        ]\n",
      " [1.         3.68887945 0.         1.         2.        ]\n",
      " [1.         3.98898405 0.         1.         2.        ]\n",
      " [1.         3.95124372 1.         0.         2.        ]\n",
      " [1.         4.07753744 0.         1.         3.        ]\n",
      " [1.         3.78418963 0.         1.         0.        ]\n",
      " [1.         3.25809654 0.         0.         1.        ]\n",
      " [1.         4.07753744 0.         1.         1.        ]\n",
      " [1.         3.40119738 1.         1.         0.        ]\n",
      " [1.         3.52636052 0.         1.         1.        ]\n",
      " [1.         3.29583687 1.         0.         1.        ]\n",
      " [1.         3.4657359  0.         1.         2.        ]\n",
      " [1.         3.33220451 1.         0.         2.        ]\n",
      " [1.         3.68887945 1.         1.         2.        ]\n",
      " [1.         3.52636052 1.         0.         2.        ]\n",
      " [1.         3.8501476  0.         1.         1.        ]\n",
      " [1.         3.87120101 1.         0.         2.        ]\n",
      " [1.         3.29583687 1.         0.         1.        ]\n",
      " [1.         3.87120101 0.         0.         1.        ]\n",
      " [1.         3.91202301 0.         0.         1.        ]\n",
      " [1.         3.58351894 1.         0.         2.        ]\n",
      " [1.         3.66356165 0.         1.         2.        ]\n",
      " [1.         3.63758616 1.         0.         3.        ]\n",
      " [1.         3.55534806 0.         1.         3.        ]\n",
      " [1.         3.40119738 1.         1.         1.        ]\n",
      " [1.         2.99573227 0.         1.         0.        ]\n",
      " [1.         3.4657359  1.         0.         2.        ]\n",
      " [1.         3.61091791 0.         1.         2.        ]\n",
      " [1.         3.71357207 0.         1.         2.        ]\n",
      " [1.         3.58351894 1.         0.         2.        ]\n",
      " [1.         3.80666249 0.         1.         2.        ]\n",
      " [1.         3.78418963 0.         0.         2.        ]\n",
      " [1.         3.8286414  0.         1.         3.        ]\n",
      " [1.         3.17805383 1.         0.         0.        ]\n",
      " [1.         3.73766962 0.         1.         2.        ]\n",
      " [1.         3.66356165 0.         0.         2.        ]\n",
      " [1.         3.97029191 0.         1.         2.        ]\n",
      " [1.         3.80666249 0.         0.         2.        ]\n",
      " [1.         3.66356165 0.         1.         0.        ]\n",
      " [1.         4.04305127 0.         0.         2.        ]\n",
      " [1.         3.95124372 0.         0.         2.        ]\n",
      " [1.         3.29583687 1.         1.         0.        ]\n",
      " [1.         3.17805383 0.         0.         1.        ]\n",
      " [1.         3.76120012 0.         0.         2.        ]\n",
      " [1.         3.63758616 0.         1.         2.        ]\n",
      " [1.         3.4657359  0.         0.         2.        ]\n",
      " [1.         3.40119738 1.         0.         0.        ]\n",
      " [1.         3.58351894 0.         1.         2.        ]\n",
      " [1.         3.29583687 0.         0.         1.        ]\n",
      " [1.         3.61091791 0.         1.         2.        ]\n",
      " [1.         3.8286414  0.         0.         1.        ]\n",
      " [1.         3.4657359  0.         0.         2.        ]\n",
      " [1.         3.49650756 0.         1.         1.        ]\n",
      " [1.         3.55534806 1.         1.         1.        ]\n",
      " [1.         3.52636052 1.         0.         1.        ]\n",
      " [1.         3.63758616 0.         0.         1.        ]\n",
      " [1.         3.33220451 0.         1.         2.        ]\n",
      " [1.         3.68887945 0.         1.         2.        ]\n",
      " [1.         3.71357207 0.         0.         2.        ]\n",
      " [1.         2.99573227 0.         0.         0.        ]\n",
      " [1.         4.02535169 1.         0.         0.        ]\n",
      " [1.         3.58351894 0.         0.         1.        ]\n",
      " [1.         3.95124372 0.         1.         4.        ]\n",
      " [1.         3.25809654 0.         1.         1.        ]\n",
      " [1.         3.36729583 1.         1.         1.        ]\n",
      " [1.         3.8501476  0.         0.         1.        ]\n",
      " [1.         3.17805383 1.         1.         0.        ]\n",
      " [1.         3.13549422 0.         0.         2.        ]\n",
      " [1.         3.63758616 0.         1.         2.        ]\n",
      " [1.         3.29583687 1.         1.         1.        ]\n",
      " [1.         3.40119738 0.         1.         1.        ]\n",
      " [1.         3.13549422 1.         0.         1.        ]\n",
      " [1.         3.52636052 1.         1.         0.        ]\n",
      " [1.         3.49650756 0.         1.         1.        ]\n",
      " [1.         3.4339872  0.         1.         1.        ]\n",
      " [1.         3.17805383 0.         1.         1.        ]\n",
      " [1.         3.40119738 0.         1.         1.        ]\n",
      " [1.         3.17805383 0.         0.         0.        ]\n",
      " [1.         3.21887582 0.         1.         1.        ]\n",
      " [1.         3.40119738 1.         0.         1.        ]\n",
      " [1.         3.52636052 1.         1.         1.        ]\n",
      " [1.         3.52636052 1.         1.         1.        ]\n",
      " [1.         3.21887582 1.         0.         0.        ]]\n",
      "['Intercept', 'log_age', 'high', 'male', 'children']\n"
     ]
    }
   ],
   "source": [
    "variables = ols_log.model.exog\n",
    "print(variables)\n",
    "var_names = ols_log.model.exog_names\n",
    "print(var_names)"
   ]
  },
  {
   "cell_type": "code",
   "execution_count": 44,
   "metadata": {
    "colab": {
     "base_uri": "https://localhost:8080/"
    },
    "id": "7cgXyxMF6dl4",
    "outputId": "3160510b-4853-4afa-fba5-0b5df17d7870"
   },
   "outputs": [
    {
     "name": "stdout",
     "output_type": "stream",
     "text": [
      "   Variable  VIF Factor\n",
      "0   log_age    1.402289\n",
      "1      high    1.050580\n",
      "2      male    1.033205\n",
      "3  children    1.391847\n"
     ]
    }
   ],
   "source": [
    "# Рассчитаем VIF с помощью команды vif()\n",
    "\n",
    "from statsmodels.stats.outliers_influence import variance_inflation_factor\n",
    "vif = pd.DataFrame()\n",
    "vif[\"Variable\"]   = var_names[1:]\n",
    "vif[\"VIF Factor\"] = [variance_inflation_factor(variables, i) for i in range(1, variables.shape[1])]\n",
    "print(vif)"
   ]
  },
  {
   "cell_type": "markdown",
   "metadata": {
    "id": "I0F9yh8_6pwo"
   },
   "source": [
    "Так как VIF для каждой переменной меньше 10, проблема мультиколлинеарности отсутствует"
   ]
  },
  {
   "cell_type": "markdown",
   "metadata": {
    "id": "z9M_xH-xrMcD"
   },
   "source": [
    "## Пункт 8"
   ]
  },
  {
   "cell_type": "markdown",
   "metadata": {
    "id": "0t46iwnNx_tT"
   },
   "source": [
    "Метод Главных Компонент (МГК) используется для решения проблемы мультиколлинеарности и сокращения размерности данных путем перехода к ортогональным главным компонентам. Так как в моем случае мультиколлинеарности нет, то проводить тест не нужно. Одной из проблем является обоснование смысла главной компоненты, то есть ее интерпретация, так как она представляет из себя некоторую линейную комбинацию старых регрессоров, сделать это бывает достаточно сложно. "
   ]
  },
  {
   "cell_type": "markdown",
   "metadata": {
    "id": "cWm6_qBA-rtc"
   },
   "source": [
    "## Пункт 9"
   ]
  },
  {
   "cell_type": "code",
   "execution_count": 45,
   "metadata": {
    "id": "qu2ulqhfiWTy"
   },
   "outputs": [],
   "source": [
    "ols_log = smf.ols('log_wage ~ log_age + high + male + urban + children', data=df).fit()"
   ]
  },
  {
   "cell_type": "code",
   "execution_count": 46,
   "metadata": {
    "colab": {
     "base_uri": "https://localhost:8080/",
     "height": 641
    },
    "id": "w5I5xqmT6iuN",
    "outputId": "e49bfa86-ae3d-4839-b117-d061d7546865"
   },
   "outputs": [
    {
     "data": {
      "text/html": [
       "\n",
       "  <div id=\"df-0e1be9c1-2175-4df5-a133-bfb13d9e2d90\">\n",
       "    <div class=\"colab-df-container\">\n",
       "      <div>\n",
       "<style scoped>\n",
       "    .dataframe tbody tr th:only-of-type {\n",
       "        vertical-align: middle;\n",
       "    }\n",
       "\n",
       "    .dataframe tbody tr th {\n",
       "        vertical-align: top;\n",
       "    }\n",
       "\n",
       "    .dataframe thead th {\n",
       "        text-align: right;\n",
       "    }\n",
       "</style>\n",
       "<table border=\"1\" class=\"dataframe\">\n",
       "  <thead>\n",
       "    <tr style=\"text-align: right;\">\n",
       "      <th></th>\n",
       "      <th>idind</th>\n",
       "      <th>psu</th>\n",
       "      <th>status</th>\n",
       "      <th>age</th>\n",
       "      <th>male</th>\n",
       "      <th>industry</th>\n",
       "      <th>wage</th>\n",
       "      <th>public</th>\n",
       "      <th>internet</th>\n",
       "      <th>children</th>\n",
       "      <th>...</th>\n",
       "      <th>log_wage</th>\n",
       "      <th>log_age</th>\n",
       "      <th>add1</th>\n",
       "      <th>add2</th>\n",
       "      <th>malehigh</th>\n",
       "      <th>malechildren</th>\n",
       "      <th>malelogage</th>\n",
       "      <th>wage_hat</th>\n",
       "      <th>resid</th>\n",
       "      <th>resid2</th>\n",
       "    </tr>\n",
       "  </thead>\n",
       "  <tbody>\n",
       "    <tr>\n",
       "      <th>0</th>\n",
       "      <td>321</td>\n",
       "      <td>Кущевский р-</td>\n",
       "      <td>Село</td>\n",
       "      <td>41</td>\n",
       "      <td>1</td>\n",
       "      <td>НЕФТЕГАЗОВАЯ</td>\n",
       "      <td>25500</td>\n",
       "      <td>0</td>\n",
       "      <td>1</td>\n",
       "      <td>2</td>\n",
       "      <td>...</td>\n",
       "      <td>10.146434</td>\n",
       "      <td>3.713572</td>\n",
       "      <td>-0.151224</td>\n",
       "      <td>3000.359493</td>\n",
       "      <td>0</td>\n",
       "      <td>2</td>\n",
       "      <td>3.713572</td>\n",
       "      <td>9.840340</td>\n",
       "      <td>0.306094</td>\n",
       "      <td>0.093693</td>\n",
       "    </tr>\n",
       "    <tr>\n",
       "      <th>1</th>\n",
       "      <td>322</td>\n",
       "      <td>Кущевский р-</td>\n",
       "      <td>Село</td>\n",
       "      <td>51</td>\n",
       "      <td>1</td>\n",
       "      <td>СЕЛЬСКОЕ ХОЗ</td>\n",
       "      <td>12500</td>\n",
       "      <td>1</td>\n",
       "      <td>1</td>\n",
       "      <td>2</td>\n",
       "      <td>...</td>\n",
       "      <td>9.433484</td>\n",
       "      <td>3.931826</td>\n",
       "      <td>-0.151918</td>\n",
       "      <td>3189.522184</td>\n",
       "      <td>0</td>\n",
       "      <td>2</td>\n",
       "      <td>3.931826</td>\n",
       "      <td>9.867982</td>\n",
       "      <td>-0.434498</td>\n",
       "      <td>0.188788</td>\n",
       "    </tr>\n",
       "    <tr>\n",
       "      <th>2</th>\n",
       "      <td>323</td>\n",
       "      <td>Кущевский р-</td>\n",
       "      <td>Село</td>\n",
       "      <td>26</td>\n",
       "      <td>0</td>\n",
       "      <td>ТОРГОВЛЯ, БЫ</td>\n",
       "      <td>15500</td>\n",
       "      <td>0</td>\n",
       "      <td>1</td>\n",
       "      <td>0</td>\n",
       "      <td>...</td>\n",
       "      <td>9.648595</td>\n",
       "      <td>3.258097</td>\n",
       "      <td>-0.095275</td>\n",
       "      <td>1422.455506</td>\n",
       "      <td>0</td>\n",
       "      <td>0</td>\n",
       "      <td>0.000000</td>\n",
       "      <td>9.612462</td>\n",
       "      <td>0.036133</td>\n",
       "      <td>0.001306</td>\n",
       "    </tr>\n",
       "    <tr>\n",
       "      <th>3</th>\n",
       "      <td>324</td>\n",
       "      <td>Кущевский р-</td>\n",
       "      <td>Село</td>\n",
       "      <td>55</td>\n",
       "      <td>0</td>\n",
       "      <td>ОРГАНЫ УПРАВ</td>\n",
       "      <td>15500</td>\n",
       "      <td>1</td>\n",
       "      <td>1</td>\n",
       "      <td>2</td>\n",
       "      <td>...</td>\n",
       "      <td>9.648595</td>\n",
       "      <td>4.007333</td>\n",
       "      <td>-0.155475</td>\n",
       "      <td>2174.281064</td>\n",
       "      <td>0</td>\n",
       "      <td>0</td>\n",
       "      <td>0.000000</td>\n",
       "      <td>9.496917</td>\n",
       "      <td>0.151678</td>\n",
       "      <td>0.023006</td>\n",
       "    </tr>\n",
       "    <tr>\n",
       "      <th>4</th>\n",
       "      <td>325</td>\n",
       "      <td>Кущевский р-</td>\n",
       "      <td>Село</td>\n",
       "      <td>57</td>\n",
       "      <td>1</td>\n",
       "      <td>НЕФТЕГАЗОВАЯ</td>\n",
       "      <td>10500</td>\n",
       "      <td>1</td>\n",
       "      <td>0</td>\n",
       "      <td>2</td>\n",
       "      <td>...</td>\n",
       "      <td>9.259131</td>\n",
       "      <td>4.043051</td>\n",
       "      <td>-0.155922</td>\n",
       "      <td>3375.645189</td>\n",
       "      <td>0</td>\n",
       "      <td>2</td>\n",
       "      <td>4.043051</td>\n",
       "      <td>9.882069</td>\n",
       "      <td>-0.622938</td>\n",
       "      <td>0.388052</td>\n",
       "    </tr>\n",
       "    <tr>\n",
       "      <th>...</th>\n",
       "      <td>...</td>\n",
       "      <td>...</td>\n",
       "      <td>...</td>\n",
       "      <td>...</td>\n",
       "      <td>...</td>\n",
       "      <td>...</td>\n",
       "      <td>...</td>\n",
       "      <td>...</td>\n",
       "      <td>...</td>\n",
       "      <td>...</td>\n",
       "      <td>...</td>\n",
       "      <td>...</td>\n",
       "      <td>...</td>\n",
       "      <td>...</td>\n",
       "      <td>...</td>\n",
       "      <td>...</td>\n",
       "      <td>...</td>\n",
       "      <td>...</td>\n",
       "      <td>...</td>\n",
       "      <td>...</td>\n",
       "      <td>...</td>\n",
       "    </tr>\n",
       "    <tr>\n",
       "      <th>139</th>\n",
       "      <td>3431</td>\n",
       "      <td>Кущевский р-</td>\n",
       "      <td>Село</td>\n",
       "      <td>25</td>\n",
       "      <td>1</td>\n",
       "      <td>ЛЕГКАЯ, ПИЩЕ</td>\n",
       "      <td>31500</td>\n",
       "      <td>0</td>\n",
       "      <td>1</td>\n",
       "      <td>1</td>\n",
       "      <td>...</td>\n",
       "      <td>10.357743</td>\n",
       "      <td>3.218876</td>\n",
       "      <td>-0.138211</td>\n",
       "      <td>2771.056130</td>\n",
       "      <td>0</td>\n",
       "      <td>1</td>\n",
       "      <td>3.218876</td>\n",
       "      <td>9.882905</td>\n",
       "      <td>0.474838</td>\n",
       "      <td>0.225471</td>\n",
       "    </tr>\n",
       "    <tr>\n",
       "      <th>140</th>\n",
       "      <td>3432</td>\n",
       "      <td>Кущевский р-</td>\n",
       "      <td>Село</td>\n",
       "      <td>30</td>\n",
       "      <td>0</td>\n",
       "      <td>ОБРАЗОВАНИЕ</td>\n",
       "      <td>22500</td>\n",
       "      <td>1</td>\n",
       "      <td>1</td>\n",
       "      <td>1</td>\n",
       "      <td>...</td>\n",
       "      <td>10.021271</td>\n",
       "      <td>3.401197</td>\n",
       "      <td>-0.110306</td>\n",
       "      <td>1902.496895</td>\n",
       "      <td>0</td>\n",
       "      <td>0</td>\n",
       "      <td>0.000000</td>\n",
       "      <td>9.727847</td>\n",
       "      <td>0.293424</td>\n",
       "      <td>0.086098</td>\n",
       "    </tr>\n",
       "    <tr>\n",
       "      <th>141</th>\n",
       "      <td>3433</td>\n",
       "      <td>Кущевский р-</td>\n",
       "      <td>Село</td>\n",
       "      <td>34</td>\n",
       "      <td>1</td>\n",
       "      <td>ЖИЛИЩНО-КОММ</td>\n",
       "      <td>24500</td>\n",
       "      <td>0</td>\n",
       "      <td>1</td>\n",
       "      <td>1</td>\n",
       "      <td>...</td>\n",
       "      <td>10.106428</td>\n",
       "      <td>3.526361</td>\n",
       "      <td>-0.034621</td>\n",
       "      <td>910.193840</td>\n",
       "      <td>1</td>\n",
       "      <td>1</td>\n",
       "      <td>3.526361</td>\n",
       "      <td>10.124326</td>\n",
       "      <td>-0.017898</td>\n",
       "      <td>0.000320</td>\n",
       "    </tr>\n",
       "    <tr>\n",
       "      <th>142</th>\n",
       "      <td>3559</td>\n",
       "      <td>Кущевский р-</td>\n",
       "      <td>Село</td>\n",
       "      <td>34</td>\n",
       "      <td>1</td>\n",
       "      <td>СПОРТ, ТУРИЗ</td>\n",
       "      <td>19500</td>\n",
       "      <td>0</td>\n",
       "      <td>1</td>\n",
       "      <td>1</td>\n",
       "      <td>...</td>\n",
       "      <td>9.878170</td>\n",
       "      <td>3.526361</td>\n",
       "      <td>-0.034621</td>\n",
       "      <td>910.193840</td>\n",
       "      <td>1</td>\n",
       "      <td>1</td>\n",
       "      <td>3.526361</td>\n",
       "      <td>10.124326</td>\n",
       "      <td>-0.246156</td>\n",
       "      <td>0.060593</td>\n",
       "    </tr>\n",
       "    <tr>\n",
       "      <th>143</th>\n",
       "      <td>3646</td>\n",
       "      <td>Кущевский р-</td>\n",
       "      <td>Село</td>\n",
       "      <td>25</td>\n",
       "      <td>0</td>\n",
       "      <td>ОРГАНЫ УПРАВ</td>\n",
       "      <td>16500</td>\n",
       "      <td>1</td>\n",
       "      <td>1</td>\n",
       "      <td>0</td>\n",
       "      <td>...</td>\n",
       "      <td>9.711116</td>\n",
       "      <td>3.218876</td>\n",
       "      <td>-0.090088</td>\n",
       "      <td>1695.545816</td>\n",
       "      <td>0</td>\n",
       "      <td>0</td>\n",
       "      <td>0.000000</td>\n",
       "      <td>9.809973</td>\n",
       "      <td>-0.098858</td>\n",
       "      <td>0.009773</td>\n",
       "    </tr>\n",
       "  </tbody>\n",
       "</table>\n",
       "<p>143 rows × 23 columns</p>\n",
       "</div>\n",
       "      <button class=\"colab-df-convert\" onclick=\"convertToInteractive('df-0e1be9c1-2175-4df5-a133-bfb13d9e2d90')\"\n",
       "              title=\"Convert this dataframe to an interactive table.\"\n",
       "              style=\"display:none;\">\n",
       "        \n",
       "  <svg xmlns=\"http://www.w3.org/2000/svg\" height=\"24px\"viewBox=\"0 0 24 24\"\n",
       "       width=\"24px\">\n",
       "    <path d=\"M0 0h24v24H0V0z\" fill=\"none\"/>\n",
       "    <path d=\"M18.56 5.44l.94 2.06.94-2.06 2.06-.94-2.06-.94-.94-2.06-.94 2.06-2.06.94zm-11 1L8.5 8.5l.94-2.06 2.06-.94-2.06-.94L8.5 2.5l-.94 2.06-2.06.94zm10 10l.94 2.06.94-2.06 2.06-.94-2.06-.94-.94-2.06-.94 2.06-2.06.94z\"/><path d=\"M17.41 7.96l-1.37-1.37c-.4-.4-.92-.59-1.43-.59-.52 0-1.04.2-1.43.59L10.3 9.45l-7.72 7.72c-.78.78-.78 2.05 0 2.83L4 21.41c.39.39.9.59 1.41.59.51 0 1.02-.2 1.41-.59l7.78-7.78 2.81-2.81c.8-.78.8-2.07 0-2.86zM5.41 20L4 18.59l7.72-7.72 1.47 1.35L5.41 20z\"/>\n",
       "  </svg>\n",
       "      </button>\n",
       "      \n",
       "  <style>\n",
       "    .colab-df-container {\n",
       "      display:flex;\n",
       "      flex-wrap:wrap;\n",
       "      gap: 12px;\n",
       "    }\n",
       "\n",
       "    .colab-df-convert {\n",
       "      background-color: #E8F0FE;\n",
       "      border: none;\n",
       "      border-radius: 50%;\n",
       "      cursor: pointer;\n",
       "      display: none;\n",
       "      fill: #1967D2;\n",
       "      height: 32px;\n",
       "      padding: 0 0 0 0;\n",
       "      width: 32px;\n",
       "    }\n",
       "\n",
       "    .colab-df-convert:hover {\n",
       "      background-color: #E2EBFA;\n",
       "      box-shadow: 0px 1px 2px rgba(60, 64, 67, 0.3), 0px 1px 3px 1px rgba(60, 64, 67, 0.15);\n",
       "      fill: #174EA6;\n",
       "    }\n",
       "\n",
       "    [theme=dark] .colab-df-convert {\n",
       "      background-color: #3B4455;\n",
       "      fill: #D2E3FC;\n",
       "    }\n",
       "\n",
       "    [theme=dark] .colab-df-convert:hover {\n",
       "      background-color: #434B5C;\n",
       "      box-shadow: 0px 1px 3px 1px rgba(0, 0, 0, 0.15);\n",
       "      filter: drop-shadow(0px 1px 2px rgba(0, 0, 0, 0.3));\n",
       "      fill: #FFFFFF;\n",
       "    }\n",
       "  </style>\n",
       "\n",
       "      <script>\n",
       "        const buttonEl =\n",
       "          document.querySelector('#df-0e1be9c1-2175-4df5-a133-bfb13d9e2d90 button.colab-df-convert');\n",
       "        buttonEl.style.display =\n",
       "          google.colab.kernel.accessAllowed ? 'block' : 'none';\n",
       "\n",
       "        async function convertToInteractive(key) {\n",
       "          const element = document.querySelector('#df-0e1be9c1-2175-4df5-a133-bfb13d9e2d90');\n",
       "          const dataTable =\n",
       "            await google.colab.kernel.invokeFunction('convertToInteractive',\n",
       "                                                     [key], {});\n",
       "          if (!dataTable) return;\n",
       "\n",
       "          const docLinkHtml = 'Like what you see? Visit the ' +\n",
       "            '<a target=\"_blank\" href=https://colab.research.google.com/notebooks/data_table.ipynb>data table notebook</a>'\n",
       "            + ' to learn more about interactive tables.';\n",
       "          element.innerHTML = '';\n",
       "          dataTable['output_type'] = 'display_data';\n",
       "          await google.colab.output.renderOutput(dataTable, element);\n",
       "          const docLink = document.createElement('div');\n",
       "          docLink.innerHTML = docLinkHtml;\n",
       "          element.appendChild(docLink);\n",
       "        }\n",
       "      </script>\n",
       "    </div>\n",
       "  </div>\n",
       "  "
      ],
      "text/plain": [
       "     idind           psu status  age  male      industry   wage  public  \\\n",
       "0      321  Кущевский р-   Село   41     1  НЕФТЕГАЗОВАЯ  25500       0   \n",
       "1      322  Кущевский р-   Село   51     1  СЕЛЬСКОЕ ХОЗ  12500       1   \n",
       "2      323  Кущевский р-   Село   26     0  ТОРГОВЛЯ, БЫ  15500       0   \n",
       "3      324  Кущевский р-   Село   55     0  ОРГАНЫ УПРАВ  15500       1   \n",
       "4      325  Кущевский р-   Село   57     1  НЕФТЕГАЗОВАЯ  10500       1   \n",
       "..     ...           ...    ...  ...   ...           ...    ...     ...   \n",
       "139   3431  Кущевский р-   Село   25     1  ЛЕГКАЯ, ПИЩЕ  31500       0   \n",
       "140   3432  Кущевский р-   Село   30     0   ОБРАЗОВАНИЕ  22500       1   \n",
       "141   3433  Кущевский р-   Село   34     1  ЖИЛИЩНО-КОММ  24500       0   \n",
       "142   3559  Кущевский р-   Село   34     1  СПОРТ, ТУРИЗ  19500       0   \n",
       "143   3646  Кущевский р-   Село   25     0  ОРГАНЫ УПРАВ  16500       1   \n",
       "\n",
       "     internet  children  ...   log_wage   log_age      add1         add2  \\\n",
       "0           1         2  ...  10.146434  3.713572 -0.151224  3000.359493   \n",
       "1           1         2  ...   9.433484  3.931826 -0.151918  3189.522184   \n",
       "2           1         0  ...   9.648595  3.258097 -0.095275  1422.455506   \n",
       "3           1         2  ...   9.648595  4.007333 -0.155475  2174.281064   \n",
       "4           0         2  ...   9.259131  4.043051 -0.155922  3375.645189   \n",
       "..        ...       ...  ...        ...       ...       ...          ...   \n",
       "139         1         1  ...  10.357743  3.218876 -0.138211  2771.056130   \n",
       "140         1         1  ...  10.021271  3.401197 -0.110306  1902.496895   \n",
       "141         1         1  ...  10.106428  3.526361 -0.034621   910.193840   \n",
       "142         1         1  ...   9.878170  3.526361 -0.034621   910.193840   \n",
       "143         1         0  ...   9.711116  3.218876 -0.090088  1695.545816   \n",
       "\n",
       "     malehigh  malechildren  malelogage   wage_hat     resid    resid2  \n",
       "0           0             2    3.713572   9.840340  0.306094  0.093693  \n",
       "1           0             2    3.931826   9.867982 -0.434498  0.188788  \n",
       "2           0             0    0.000000   9.612462  0.036133  0.001306  \n",
       "3           0             0    0.000000   9.496917  0.151678  0.023006  \n",
       "4           0             2    4.043051   9.882069 -0.622938  0.388052  \n",
       "..        ...           ...         ...        ...       ...       ...  \n",
       "139         0             1    3.218876   9.882905  0.474838  0.225471  \n",
       "140         0             0    0.000000   9.727847  0.293424  0.086098  \n",
       "141         1             1    3.526361  10.124326 -0.017898  0.000320  \n",
       "142         1             1    3.526361  10.124326 -0.246156  0.060593  \n",
       "143         0             0    0.000000   9.809973 -0.098858  0.009773  \n",
       "\n",
       "[143 rows x 23 columns]"
      ]
     },
     "execution_count": 46,
     "metadata": {},
     "output_type": "execute_result"
    }
   ],
   "source": [
    "# Сохраним прогнозные значения\n",
    "df['wage_hat'] = ols_log.predict()\n",
    "# Сохраним остатки модели\n",
    "df['resid'] = ols_log.resid\n",
    "# Cоздадим переменную resid2 = resid^2\n",
    "df['resid2'] = ols_log.resid**2\n",
    "df"
   ]
  },
  {
   "cell_type": "code",
   "execution_count": 47,
   "metadata": {
    "colab": {
     "base_uri": "https://localhost:8080/",
     "height": 454
    },
    "id": "KcKsyVkJ-6KU",
    "outputId": "d8b4008d-49ff-4b32-8bba-2a2f2f3a901f"
   },
   "outputs": [
    {
     "name": "stderr",
     "output_type": "stream",
     "text": [
      "/usr/local/lib/python3.8/dist-packages/seaborn/_decorators.py:36: FutureWarning: Pass the following variables as keyword args: x, y. From version 0.12, the only valid positional argument will be `data`, and passing other arguments without an explicit keyword will result in an error or misinterpretation.\n",
      "  warnings.warn(\n"
     ]
    },
    {
     "data": {
      "text/plain": [
       "Text(0, 0.5, 'Residuals')"
      ]
     },
     "execution_count": 47,
     "metadata": {},
     "output_type": "execute_result"
    },
    {
     "data": {
      "image/png": "[encoded data removed]",
      "text/plain": [
       "<Figure size 576x396 with 1 Axes>"
      ]
     },
     "metadata": {},
     "output_type": "display_data"
    }
   ],
   "source": [
    "fig_1 = plt.figure(1)\n",
    "fig_1.axes[0] = sns.residplot(df['wage_hat'], df['log_wage'],\n",
    "                                  lowess=True,\n",
    "                                  scatter_kws={'alpha': 0.6},\n",
    "                                  line_kws={'color': 'red', 'lw': 2, 'alpha': 0.8})\n",
    "fig_1.axes[0].set_title('Residuals vs Fitted')\n",
    "fig_1.axes[0].set_xlabel('Fitted values')\n",
    "fig_1.axes[0].set_ylabel('Residuals')"
   ]
  },
  {
   "cell_type": "markdown",
   "metadata": {
    "id": "2-bhuBHQqEyH"
   },
   "source": [
    "Виден тренд вниз при больших прогнозах, возможно, не учли какие-то переменные или присутствует гетероскедастичность."
   ]
  },
  {
   "cell_type": "markdown",
   "metadata": {
    "id": "1es_RDUnDC2u"
   },
   "source": [
    "## Пункт 10"
   ]
  },
  {
   "cell_type": "code",
   "execution_count": 48,
   "metadata": {
    "colab": {
     "base_uri": "https://localhost:8080/",
     "height": 210
    },
    "id": "kq8Qc1QDCllK",
    "outputId": "4f4ab232-1fed-4240-d611-8dff375f7d6b"
   },
   "outputs": [
    {
     "data": {
      "text/plain": [
       "<seaborn.axisgrid.PairGrid at 0x7fba3c2b8b80>"
      ]
     },
     "execution_count": 48,
     "metadata": {},
     "output_type": "execute_result"
    },
    {
     "data": {
      "image/png": "[encoded data removed]",
      "text/plain": [
       "<Figure size 720x180 with 4 Axes>"
      ]
     },
     "metadata": {},
     "output_type": "display_data"
    }
   ],
   "source": [
    "# Построим графики зависимостей логарифма зарплаты от факторов\n",
    "sns.pairplot(df, x_vars=[\"log_age\", \"male\", \"high\", \"children\"], y_vars=[\"log_wage\"])"
   ]
  },
  {
   "cell_type": "markdown",
   "metadata": {
    "id": "N2X-O_ZWxFY6"
   },
   "source": [
    "# Тест Уайта\n",
    "\n",
    "Зададим гипотезы\n",
    "\n",
    "$H_0$: ошибки гомоскедастичны, то есть дисперсия ошибок одинаковая для всех наблюдений.\n",
    "\n",
    "$H_1$: ошибки гетероскедастичны, дисперсия ошибок неодинаковая для наблюдений"
   ]
  },
  {
   "cell_type": "code",
   "execution_count": 49,
   "metadata": {
    "colab": {
     "base_uri": "https://localhost:8080/"
    },
    "id": "LU6NIJEKGARE",
    "outputId": "49cc767f-9d4a-462d-e56b-a0b55286071b"
   },
   "outputs": [
    {
     "name": "stdout",
     "output_type": "stream",
     "text": [
      "                            OLS Regression Results                            \n",
      "==============================================================================\n",
      "Dep. Variable:                 resid2   R-squared:                       0.145\n",
      "Model:                            OLS   Adj. R-squared:                  0.066\n",
      "Method:                 Least Squares   F-statistic:                     1.831\n",
      "Date:                Thu, 15 Dec 2022   Prob (F-statistic):             0.0494\n",
      "Time:                        12:52:39   Log-Likelihood:                 31.092\n",
      "No. Observations:                 143   AIC:                            -36.18\n",
      "Df Residuals:                     130   BIC:                             2.332\n",
      "Df Model:                          12                                         \n",
      "Covariance Type:            nonrobust                                         \n",
      "==============================================================================\n",
      "                 coef    std err          t      P>|t|      [0.025      0.975]\n",
      "------------------------------------------------------------------------------\n",
      "Intercept      2.1151      3.436      0.615      0.539      -4.683       8.913\n",
      "log_age       -1.5655      2.008     -0.780      0.437      -5.538       2.407\n",
      "high           0.7734      0.298      2.595      0.011       0.184       1.363\n",
      "children       0.6742      0.395      1.707      0.090      -0.107       1.456\n",
      "male          -0.2457      0.545     -0.451      0.653      -1.324       0.833\n",
      "log_age2       0.2918      0.293      0.998      0.320      -0.287       0.871\n",
      "high2          0.7734      0.298      2.595      0.011       0.184       1.363\n",
      "children2      0.0168      0.023      0.719      0.473      -0.029       0.063\n",
      "log_ahigh     -0.4631      0.178     -2.601      0.010      -0.815      -0.111\n",
      "log_achild    -0.2183      0.118     -1.857      0.066      -0.451       0.014\n",
      "log_amale      0.0816      0.160      0.510      0.611      -0.235       0.398\n",
      "highchild      0.0974      0.056      1.754      0.082      -0.012       0.207\n",
      "highmale      -0.0435      0.078     -0.560      0.576      -0.197       0.110\n",
      "childmale      0.0281      0.054      0.517      0.606      -0.080       0.136\n",
      "==============================================================================\n",
      "Omnibus:                       44.410   Durbin-Watson:                   2.285\n",
      "Prob(Omnibus):                  0.000   Jarque-Bera (JB):               91.614\n",
      "Skew:                           1.360   Prob(JB):                     1.28e-20\n",
      "Kurtosis:                       5.825   Cond. No.                     6.39e+17\n",
      "==============================================================================\n",
      "\n",
      "Notes:\n",
      "[1] Standard Errors assume that the covariance matrix of the errors is correctly specified.\n",
      "[2] The smallest eigenvalue is 8.16e-32. This might indicate that there are\n",
      "strong multicollinearity problems or that the design matrix is singular.\n"
     ]
    }
   ],
   "source": [
    "df['log_age2']=df['log_age']**2\n",
    "df['high2']=df['high']**2\n",
    "df['children2']=df['children']**2\n",
    "\n",
    "df['log_ahigh']=df['log_age']*df['high']\n",
    "df['log_achild']=df['log_age']*df['children']\n",
    "df['log_amale']=df['log_age']*df['male']\n",
    "df['highchild']=df['high']*df['children']\n",
    "df['highmale']=df['high']*df['male']\n",
    "df['childmale']=df['children']*df['male']\n",
    "\n",
    "reg_white = smf.ols(\"resid2 ~ 1 + log_age + high + children + male + log_age2 + high2 + children2 + log_ahigh + log_achild + log_amale + highchild + highmale + childmale\", df).fit()\n",
    "print(reg_white.summary())\n",
    "\n",
    "# Модель значима (p-value < 0.05 для F-статистики), следовательно, гипотеза H1 не отвергается, присутствует гетероскедастичность.\n",
    "# Однако тест Уайта не дает нам точную форму гетероскедастичности."
   ]
  },
  {
   "cell_type": "markdown",
   "metadata": {
    "id": "XBc69GKH5Vmu"
   },
   "source": [
    "# Тест Бройша-Пагана (зависимость дисперсии от доп. факторов)\n",
    "\n",
    "гипотезы такие же"
   ]
  },
  {
   "cell_type": "code",
   "execution_count": 57,
   "metadata": {
    "colab": {
     "base_uri": "https://localhost:8080/"
    },
    "id": "5X9B-aupN7I2",
    "outputId": "1626684f-88b7-4341-bcc7-602a0fae3ddb"
   },
   "outputs": [
    {
     "name": "stdout",
     "output_type": "stream",
     "text": [
      "              0             1\n",
      "0  LM statistic  6.936207e+01\n",
      "1       p-value  5.845871e-15\n",
      "2       F-value  3.273221e+01\n",
      "3    F: p-value  3.222325e-19\n"
     ]
    }
   ],
   "source": [
    "from scipy import stats\n",
    "import statsmodels\n",
    "import statsmodels.stats.diagnostic as sm_diagnostic # тест Бройша-Пагана\n",
    "\n",
    "X = df[[\"log_age\", \"high\", \"male\", \"children\"]]\n",
    "BP_test = sm_diagnostic.het_breuschpagan(resid=df['resid'], exog_het=X)\n",
    "from statsmodels.compat import lzip\n",
    "print(pd.DataFrame(lzip(['LM statistic', 'p-value',  'F-value', 'F: p-value'], BP_test)))\n",
    "\n",
    "# Первое из выданных значений - значение тестовой статистики теста Бройша - Пагана, \n",
    "# Второе - значение p-value для выданной тестовой статистики. \n",
    "# Третье и четвёртое - значения тестовой статистики и её p-value для на уровне значимости 5% (табличное). "
   ]
  },
  {
   "cell_type": "markdown",
   "metadata": {
    "id": "AbHEx7gY7KzQ"
   },
   "source": [
    "Так как p-value=0 < 0.05, то гипотеза H1 не отвергается, то есть гетероскедастичность присутствует."
   ]
  },
  {
   "cell_type": "markdown",
   "metadata": {
    "id": "EuZhMyr55nsB"
   },
   "source": [
    "# Тест Голдфелда - Квандта\n",
    "\n",
    "гипотезы такие же"
   ]
  },
  {
   "cell_type": "code",
   "execution_count": 58,
   "metadata": {
    "colab": {
     "base_uri": "https://localhost:8080/"
    },
    "id": "kuVISSeYQI9w",
    "outputId": "192271de-4055-4892-aba8-a1cc6b0bb265"
   },
   "outputs": [
    {
     "data": {
      "text/plain": [
       "(0.6988949559131987, 0.14331226180873124, 'two-sided')"
      ]
     },
     "execution_count": 58,
     "metadata": {},
     "output_type": "execute_result"
    }
   ],
   "source": [
    "sm_diagnostic.het_goldfeldquandt(y = df[\"log_wage\"], x = X, alternative = \"two-sided\")"
   ]
  },
  {
   "cell_type": "markdown",
   "metadata": {
    "id": "OpYIZRzp7S52"
   },
   "source": [
    "Значение p-value > ур-ня значимости 0,05, следовательно, основная гипотеза о гомоскедастичности не отвергается."
   ]
  },
  {
   "cell_type": "markdown",
   "metadata": {
    "id": "uhn3HEDG8flf"
   },
   "source": [
    "Два из трех тестов показали наличие гетероскедастичности, решим эту проблему с помощью робастных ошибок в форме Уайта."
   ]
  },
  {
   "cell_type": "code",
   "execution_count": 60,
   "metadata": {
    "colab": {
     "base_uri": "https://localhost:8080/"
    },
    "id": "PUjBvkI9SHsf",
    "outputId": "19664e30-1597-4653-ce72-eb6a9529b98d"
   },
   "outputs": [
    {
     "name": "stdout",
     "output_type": "stream",
     "text": [
      "                            OLS Regression Results                            \n",
      "==============================================================================\n",
      "Dep. Variable:               log_wage   R-squared:                       0.189\n",
      "Model:                            OLS   Adj. R-squared:                  0.165\n",
      "Method:                 Least Squares   F-statistic:                     9.075\n",
      "Date:                Thu, 15 Dec 2022   Prob (F-statistic):           1.54e-06\n",
      "Time:                        13:23:15   Log-Likelihood:                -85.990\n",
      "No. Observations:                 143   AIC:                             182.0\n",
      "Df Residuals:                     138   BIC:                             196.8\n",
      "Df Model:                           4                                         \n",
      "Covariance Type:                  HC1                                         \n",
      "==============================================================================\n",
      "                 coef    std err          t      P>|t|      [0.025      0.975]\n",
      "------------------------------------------------------------------------------\n",
      "Intercept      9.1998      0.543     16.948      0.000       8.126      10.273\n",
      "log_age        0.1266      0.166      0.763      0.447      -0.201       0.455\n",
      "high           0.2025      0.077      2.626      0.010       0.050       0.355\n",
      "male           0.3806      0.075      5.090      0.000       0.233       0.528\n",
      "urban               0          0        nan        nan           0           0\n",
      "children      -0.1052      0.056     -1.876      0.063      -0.216       0.006\n",
      "==============================================================================\n",
      "Omnibus:                       11.082   Durbin-Watson:                   1.761\n",
      "Prob(Omnibus):                  0.004   Jarque-Bera (JB):                4.501\n",
      "Skew:                           0.123   Prob(JB):                        0.105\n",
      "Kurtosis:                       2.166   Cond. No.                          inf\n",
      "==============================================================================\n",
      "\n",
      "Notes:\n",
      "[1] Standard Errors are heteroscedasticity robust (HC1)\n",
      "[2] The smallest eigenvalue is      0. This might indicate that there are\n",
      "strong multicollinearity problems or that the design matrix is singular.\n"
     ]
    },
    {
     "name": "stderr",
     "output_type": "stream",
     "text": [
      "/usr/local/lib/python3.8/dist-packages/statsmodels/regression/linear_model.py:1860: RuntimeWarning: divide by zero encountered in double_scalars\n",
      "  return np.sqrt(eigvals[0]/eigvals[-1])\n",
      "/usr/local/lib/python3.8/dist-packages/statsmodels/base/model.py:1832: ValueWarning: covariance of constraints does not have full rank. The number of constraints is 5, but rank is 4\n",
      "  warnings.warn('covariance of constraints does not have full '\n"
     ]
    }
   ],
   "source": [
    "reg_robust = ols_log.get_robustcov_results()\n",
    "print(reg_robust.summary())"
   ]
  },
  {
   "cell_type": "markdown",
   "metadata": {
    "id": "WqINZhLt9Fbi"
   },
   "source": [
    "Сравним с обычной моделью"
   ]
  },
  {
   "cell_type": "code",
   "execution_count": 61,
   "metadata": {
    "colab": {
     "base_uri": "https://localhost:8080/"
    },
    "id": "tFdqKvUD8-I5",
    "outputId": "0f6ddc71-447c-4fb7-986e-fe1cd625ec4f"
   },
   "outputs": [
    {
     "name": "stdout",
     "output_type": "stream",
     "text": [
      "                            OLS Regression Results                            \n",
      "==============================================================================\n",
      "Dep. Variable:               log_wage   R-squared:                       0.189\n",
      "Model:                            OLS   Adj. R-squared:                  0.165\n",
      "Method:                 Least Squares   F-statistic:                     8.019\n",
      "Date:                Thu, 15 Dec 2022   Prob (F-statistic):           7.65e-06\n",
      "Time:                        13:24:21   Log-Likelihood:                -85.990\n",
      "No. Observations:                 143   AIC:                             182.0\n",
      "Df Residuals:                     138   BIC:                             196.8\n",
      "Df Model:                           4                                         \n",
      "Covariance Type:            nonrobust                                         \n",
      "==============================================================================\n",
      "                 coef    std err          t      P>|t|      [0.025      0.975]\n",
      "------------------------------------------------------------------------------\n",
      "Intercept      9.1998      0.550     16.733      0.000       8.113      10.287\n",
      "log_age        0.1266      0.161      0.788      0.432      -0.191       0.445\n",
      "high           0.2025      0.082      2.469      0.015       0.040       0.365\n",
      "male           0.3806      0.076      4.982      0.000       0.230       0.532\n",
      "urban               0          0        nan        nan           0           0\n",
      "children      -0.1052      0.052     -2.034      0.044      -0.207      -0.003\n",
      "==============================================================================\n",
      "Omnibus:                       11.082   Durbin-Watson:                   1.761\n",
      "Prob(Omnibus):                  0.004   Jarque-Bera (JB):                4.501\n",
      "Skew:                           0.123   Prob(JB):                        0.105\n",
      "Kurtosis:                       2.166   Cond. No.                          inf\n",
      "==============================================================================\n",
      "\n",
      "Notes:\n",
      "[1] Standard Errors assume that the covariance matrix of the errors is correctly specified.\n",
      "[2] The smallest eigenvalue is      0. This might indicate that there are\n",
      "strong multicollinearity problems or that the design matrix is singular.\n"
     ]
    },
    {
     "name": "stderr",
     "output_type": "stream",
     "text": [
      "/usr/local/lib/python3.8/dist-packages/statsmodels/regression/linear_model.py:1860: RuntimeWarning: divide by zero encountered in double_scalars\n",
      "  return np.sqrt(eigvals[0]/eigvals[-1])\n"
     ]
    }
   ],
   "source": [
    "print(ols_log.summary())"
   ]
  },
  {
   "cell_type": "markdown",
   "metadata": {
    "id": "dPzRxthY_zJq"
   },
   "source": [
    "Как и ожидалось робастные ошибки помогли снизить стандартные ошибки для intercept, high, male, но увеличились для log_age и children. Если гетероскедастичность и присутствовала, то в очень незначительном масштабе, что видно по тестам, поэтому решение сильно не изменило параметры модели"
   ]
  },
  {
   "cell_type": "markdown",
   "metadata": {
    "id": "Wzz6JFWqEfva"
   },
   "source": [
    "## Пункт 11"
   ]
  },
  {
   "cell_type": "markdown",
   "metadata": {
    "id": "XXymEDrZIAit"
   },
   "source": [
    "## Тест Рэмзи"
   ]
  },
  {
   "cell_type": "markdown",
   "metadata": {
    "id": "vcJgPeRpKNk2"
   },
   "source": [
    "$H_0$: выбранная спецификация верна\n",
    "\n",
    "$H_1$: выбранная спецификация не верна"
   ]
  },
  {
   "cell_type": "code",
   "execution_count": 65,
   "metadata": {
    "id": "v4NAimFSGx_e"
   },
   "outputs": [],
   "source": [
    "ols_log = smf.ols('log_wage ~ log_age + high + male + children', data=df).fit()"
   ]
  },
  {
   "cell_type": "code",
   "execution_count": 66,
   "metadata": {
    "colab": {
     "base_uri": "https://localhost:8080/"
    },
    "id": "lX3U83rC9Rlz",
    "outputId": "fb937cf1-b16c-451c-cb69-dc0e8a115d24"
   },
   "outputs": [
    {
     "name": "stdout",
     "output_type": "stream",
     "text": [
      "<F test: F=array([[1.19827023]]), p=0.2755884742114296, df_denom=137, df_num=1>\n"
     ]
    }
   ],
   "source": [
    "import statsmodels.stats.outliers_influence as oi\n",
    "\n",
    "print(oi.reset_ramsey (ols_log, degree = 2))"
   ]
  },
  {
   "cell_type": "markdown",
   "metadata": {
    "id": "emDyCYEmHFXS"
   },
   "source": [
    "Так как p-value = 0.276 > 0.05 то есть уровня значимости, то спецификация модели выбрана верно, гипотеза $H_0$ не отвергается."
   ]
  },
  {
   "cell_type": "markdown",
   "metadata": {
    "id": "WuE2IfwBKHaF"
   },
   "source": [
    "Проведем тест вручную"
   ]
  },
  {
   "cell_type": "markdown",
   "metadata": {
    "id": "Ap8hm61-KwPU"
   },
   "source": [
    "$H_0$: коэффициент при wage_hat2 $= 0$\n",
    "\n",
    "$H_1$: коэффициент при wage_hat2 $\\neq 0$"
   ]
  },
  {
   "cell_type": "code",
   "execution_count": 67,
   "metadata": {
    "id": "w0WFtPCBGpx7"
   },
   "outputs": [],
   "source": [
    "df['wage_hat2'] = df['wage_hat']**2 #вспомогательный регрессор"
   ]
  },
  {
   "cell_type": "code",
   "execution_count": 68,
   "metadata": {
    "colab": {
     "base_uri": "https://localhost:8080/"
    },
    "id": "-vjXdwtTLiNP",
    "outputId": "205741aa-50cd-49b9-a62c-bca53f5434cb"
   },
   "outputs": [
    {
     "data": {
      "text/plain": [
       "27.630417742900477"
      ]
     },
     "execution_count": 68,
     "metadata": {},
     "output_type": "execute_result"
    }
   ],
   "source": [
    "ols_log_ramsey = smf.ols('log_wage ~ log_age + high + male + children + wage_hat2', data=df).fit() # модель со вспомогательным регрессором\n",
    "ols_log_ramsey.ssr # RSS_ur"
   ]
  },
  {
   "cell_type": "code",
   "execution_count": 69,
   "metadata": {
    "colab": {
     "base_uri": "https://localhost:8080/"
    },
    "id": "wINUyZHFLzJ7",
    "outputId": "54ef3134-949a-4768-f0da-3babfe3a8ccf"
   },
   "outputs": [
    {
     "data": {
      "text/plain": [
       "27.872087137526588"
      ]
     },
     "execution_count": 69,
     "metadata": {},
     "output_type": "execute_result"
    }
   ],
   "source": [
    "ols_log.ssr # RSS_r"
   ]
  },
  {
   "cell_type": "markdown",
   "metadata": {
    "id": "o-oxf0j0MnUH"
   },
   "source": [
    "Рассчитаем F-статистику:\n",
    "\n",
    "$F_{stat} = \\frac{(RSS_r - RSS_{ur}) / (m - 1)}{RSS_{ur} / (n - k - m)} = \\frac{(27.872 - 27.63) / (2-1)}{27.63 / (143-4-2)} = 1.2$"
   ]
  },
  {
   "cell_type": "code",
   "execution_count": 70,
   "metadata": {
    "colab": {
     "base_uri": "https://localhost:8080/"
    },
    "id": "1fErX55MMJ1s",
    "outputId": "26def165-52a0-4c01-8b18-a624ca4d6789"
   },
   "outputs": [
    {
     "data": {
      "text/plain": [
       "1.1999276149113327"
      ]
     },
     "execution_count": 70,
     "metadata": {},
     "output_type": "execute_result"
    }
   ],
   "source": [
    "(27.872 - 27.63) / (27.63 / (143-4-2))"
   ]
  },
  {
   "cell_type": "markdown",
   "metadata": {
    "id": "NS7p4F0QNpgb"
   },
   "source": [
    "Найдем F-crit при уровне значимости 0,05 и степенями свободы (1, 137)\n",
    "\n",
    "$F_{crit} = F_{0.95, (1, 137)} = 3.91$"
   ]
  },
  {
   "cell_type": "code",
   "execution_count": 72,
   "metadata": {
    "colab": {
     "base_uri": "https://localhost:8080/"
    },
    "id": "nQjV-OH_NgEp",
    "outputId": "150620ee-d6f3-4fcc-ce4f-b2692ba9a59e"
   },
   "outputs": [
    {
     "data": {
      "text/plain": [
       "3.910234199410577"
      ]
     },
     "execution_count": 72,
     "metadata": {},
     "output_type": "execute_result"
    }
   ],
   "source": [
    "stats.f.ppf(0.95, 1, 137)"
   ]
  },
  {
   "cell_type": "code",
   "execution_count": 73,
   "metadata": {
    "colab": {
     "base_uri": "https://localhost:8080/"
    },
    "id": "RZsbN7pEOdsv",
    "outputId": "4d2156f9-8e09-454b-cdb2-e1e9b24059ba"
   },
   "outputs": [
    {
     "name": "stdout",
     "output_type": "stream",
     "text": [
      "p-value = 0.27524370913547913\n"
     ]
    }
   ],
   "source": [
    "# рассчитаем p-value\n",
    "print(f'p-value = {1 - stats.f.cdf(1.2, 1, 137)}')"
   ]
  },
  {
   "cell_type": "markdown",
   "metadata": {
    "id": "qcKBAZSON5W-"
   },
   "source": [
    "Так как p-value = 0.276 > 0.05 то есть уровня значимости, то гипотеза $H_0$ не отвергается, коэффициент при вспомогательном регрессоре равен нулю, а значит, спецификация модели выбрана верно."
   ]
  },
  {
   "cell_type": "markdown",
   "metadata": {
    "id": "bsR0uFxsUmb1"
   },
   "source": [
    "## Пункт 12"
   ]
  },
  {
   "cell_type": "code",
   "execution_count": 75,
   "metadata": {
    "colab": {
     "base_uri": "https://localhost:8080/"
    },
    "id": "3cZbony3N0H1",
    "outputId": "70e5a353-5179-48c0-c69f-bee42a664ee0"
   },
   "outputs": [
    {
     "name": "stdout",
     "output_type": "stream",
     "text": [
      "                            OLS Regression Results                            \n",
      "==============================================================================\n",
      "Dep. Variable:               log_wage   R-squared:                       0.189\n",
      "Model:                            OLS   Adj. R-squared:                  0.165\n",
      "Method:                 Least Squares   F-statistic:                     8.019\n",
      "Date:                Thu, 15 Dec 2022   Prob (F-statistic):           7.65e-06\n",
      "Time:                        15:39:35   Log-Likelihood:                -85.990\n",
      "No. Observations:                 143   AIC:                             182.0\n",
      "Df Residuals:                     138   BIC:                             196.8\n",
      "Df Model:                           4                                         \n",
      "Covariance Type:            nonrobust                                         \n",
      "==============================================================================\n",
      "                 coef    std err          t      P>|t|      [0.025      0.975]\n",
      "------------------------------------------------------------------------------\n",
      "Intercept      9.1998      0.550     16.733      0.000       8.113      10.287\n",
      "log_age        0.1266      0.161      0.788      0.432      -0.191       0.445\n",
      "high           0.2025      0.082      2.469      0.015       0.040       0.365\n",
      "male           0.3806      0.076      4.982      0.000       0.230       0.532\n",
      "urban               0          0        nan        nan           0           0\n",
      "children      -0.1052      0.052     -2.034      0.044      -0.207      -0.003\n",
      "==============================================================================\n",
      "Omnibus:                       11.082   Durbin-Watson:                   1.761\n",
      "Prob(Omnibus):                  0.004   Jarque-Bera (JB):                4.501\n",
      "Skew:                           0.123   Prob(JB):                        0.105\n",
      "Kurtosis:                       2.166   Cond. No.                          inf\n",
      "==============================================================================\n",
      "\n",
      "Notes:\n",
      "[1] Standard Errors assume that the covariance matrix of the errors is correctly specified.\n",
      "[2] The smallest eigenvalue is      0. This might indicate that there are\n",
      "strong multicollinearity problems or that the design matrix is singular.\n"
     ]
    },
    {
     "name": "stderr",
     "output_type": "stream",
     "text": [
      "/usr/local/lib/python3.8/dist-packages/statsmodels/regression/linear_model.py:1860: RuntimeWarning: divide by zero encountered in double_scalars\n",
      "  return np.sqrt(eigvals[0]/eigvals[-1])\n"
     ]
    }
   ],
   "source": [
    "ols_log = smf.ols('log_wage ~ log_age + high + male + urban + children', data=df).fit()\n",
    "print(ols_log.summary())"
   ]
  },
  {
   "cell_type": "markdown",
   "metadata": {
    "id": "fwDt1BeygDOo"
   },
   "source": [
    "Незначимыми являются кэфы при urban и log_age, так как p-value гипотезы об их незначимости больше уровня значимости 5%."
   ]
  },
  {
   "cell_type": "code",
   "execution_count": 78,
   "metadata": {
    "colab": {
     "base_uri": "https://localhost:8080/"
    },
    "id": "3P_O_2H8gU5Y",
    "outputId": "d456aaeb-09f2-4eb3-e029-2b8970203b27"
   },
   "outputs": [
    {
     "name": "stdout",
     "output_type": "stream",
     "text": [
      "                            OLS Regression Results                            \n",
      "==============================================================================\n",
      "Dep. Variable:               log_wage   R-squared:                       0.185\n",
      "Model:                            OLS   Adj. R-squared:                  0.167\n",
      "Method:                 Least Squares   F-statistic:                     10.51\n",
      "Date:                Thu, 15 Dec 2022   Prob (F-statistic):           2.82e-06\n",
      "Time:                        15:57:46   Log-Likelihood:                -86.311\n",
      "No. Observations:                 143   AIC:                             180.6\n",
      "Df Residuals:                     139   BIC:                             192.5\n",
      "Df Model:                           3                                         \n",
      "Covariance Type:            nonrobust                                         \n",
      "==============================================================================\n",
      "                 coef    std err          t      P>|t|      [0.025      0.975]\n",
      "------------------------------------------------------------------------------\n",
      "Intercept      9.6273      0.088    109.471      0.000       9.453       9.801\n",
      "high           0.1970      0.082      2.414      0.017       0.036       0.358\n",
      "male           0.3833      0.076      5.029      0.000       0.233       0.534\n",
      "children      -0.0841      0.044     -1.904      0.059      -0.171       0.003\n",
      "==============================================================================\n",
      "Omnibus:                        9.023   Durbin-Watson:                   1.771\n",
      "Prob(Omnibus):                  0.011   Jarque-Bera (JB):                4.246\n",
      "Skew:                           0.163   Prob(JB):                        0.120\n",
      "Kurtosis:                       2.221   Cond. No.                         5.72\n",
      "==============================================================================\n",
      "\n",
      "Notes:\n",
      "[1] Standard Errors assume that the covariance matrix of the errors is correctly specified.\n"
     ]
    }
   ],
   "source": [
    "znach_log = smf.ols('log_wage ~ high + male + children', data=df).fit()\n",
    "print(znach_log.summary())"
   ]
  },
  {
   "cell_type": "markdown",
   "metadata": {
    "id": "ZrxBe1y6gbbJ"
   },
   "source": [
    "Коэффициент при children стал незначимым на уровне значимости 5%"
   ]
  },
  {
   "cell_type": "code",
   "execution_count": 84,
   "metadata": {
    "colab": {
     "base_uri": "https://localhost:8080/"
    },
    "id": "gxmJyeUUU_1x",
    "outputId": "7145760f-f3a3-47c3-e5fa-75bc9063a0b3"
   },
   "outputs": [
    {
     "name": "stdout",
     "output_type": "stream",
     "text": [
      "                            OLS Regression Results                            \n",
      "==============================================================================\n",
      "Dep. Variable:               log_wage   R-squared:                       0.164\n",
      "Model:                            OLS   Adj. R-squared:                  0.152\n",
      "Method:                 Least Squares   F-statistic:                     13.70\n",
      "Date:                Thu, 15 Dec 2022   Prob (F-statistic):           3.68e-06\n",
      "Time:                        16:11:26   Log-Likelihood:                -88.152\n",
      "No. Observations:                 143   AIC:                             182.3\n",
      "Df Residuals:                     140   BIC:                             191.2\n",
      "Df Model:                           2                                         \n",
      "Covariance Type:            nonrobust                                         \n",
      "==============================================================================\n",
      "                 coef    std err          t      P>|t|      [0.025      0.975]\n",
      "------------------------------------------------------------------------------\n",
      "Intercept      9.5099      0.063    150.236      0.000       9.385       9.635\n",
      "high           0.2148      0.082      2.625      0.010       0.053       0.377\n",
      "male           0.3772      0.077      4.907      0.000       0.225       0.529\n",
      "==============================================================================\n",
      "Omnibus:                        6.476   Durbin-Watson:                   1.793\n",
      "Prob(Omnibus):                  0.039   Jarque-Bera (JB):                3.443\n",
      "Skew:                           0.139   Prob(JB):                        0.179\n",
      "Kurtosis:                       2.292   Cond. No.                         3.19\n",
      "==============================================================================\n",
      "\n",
      "Notes:\n",
      "[1] Standard Errors assume that the covariance matrix of the errors is correctly specified.\n"
     ]
    }
   ],
   "source": [
    "#модель только с значимыми переменными\n",
    "\n",
    "znach_log = smf.ols('log_wage ~ high + male', data=df).fit()\n",
    "print(znach_log.summary())"
   ]
  },
  {
   "cell_type": "markdown",
   "metadata": {
    "id": "OfGJwh_ZlSwz"
   },
   "source": [
    "**Уравнение оцененной модели:** $ln\\widehat{Wage} = 9.5 + 0.2148 * High + 0.3772 * Male$"
   ]
  },
  {
   "cell_type": "code",
   "execution_count": 79,
   "metadata": {
    "colab": {
     "base_uri": "https://localhost:8080/"
    },
    "id": "8a0ohBlUhxzu",
    "outputId": "75cc4cbe-8d26-4136-9b08-cf4874e2205f"
   },
   "outputs": [
    {
     "name": "stdout",
     "output_type": "stream",
     "text": [
      "                            OLS Regression Results                            \n",
      "==============================================================================\n",
      "Dep. Variable:                   wage   R-squared:                       0.175\n",
      "Model:                            OLS   Adj. R-squared:                  0.151\n",
      "Method:                 Least Squares   F-statistic:                     7.309\n",
      "Date:                Thu, 15 Dec 2022   Prob (F-statistic):           2.28e-05\n",
      "Time:                        16:04:20   Log-Likelihood:                -1510.6\n",
      "No. Observations:                 143   AIC:                             3031.\n",
      "Df Residuals:                     138   BIC:                             3046.\n",
      "Df Model:                           4                                         \n",
      "Covariance Type:            nonrobust                                         \n",
      "==============================================================================\n",
      "                 coef    std err          t      P>|t|      [0.025      0.975]\n",
      "------------------------------------------------------------------------------\n",
      "Intercept   1.292e+04   3274.752      3.944      0.000    6441.128    1.94e+04\n",
      "age          112.2530     89.142      1.259      0.210     -64.007     288.513\n",
      "high        3996.2784   1739.374      2.298      0.023     557.008    7435.549\n",
      "male        7848.9400   1619.498      4.847      0.000    4646.702    1.11e+04\n",
      "urban               0          0        nan        nan           0           0\n",
      "children   -1948.3432   1077.582     -1.808      0.073   -4079.049     182.363\n",
      "==============================================================================\n",
      "Omnibus:                       17.860   Durbin-Watson:                   1.898\n",
      "Prob(Omnibus):                  0.000   Jarque-Bera (JB):               20.470\n",
      "Skew:                           0.896   Prob(JB):                     3.59e-05\n",
      "Kurtosis:                       3.472   Cond. No.                          inf\n",
      "==============================================================================\n",
      "\n",
      "Notes:\n",
      "[1] Standard Errors assume that the covariance matrix of the errors is correctly specified.\n",
      "[2] The smallest eigenvalue is      0. This might indicate that there are\n",
      "strong multicollinearity problems or that the design matrix is singular.\n"
     ]
    },
    {
     "name": "stderr",
     "output_type": "stream",
     "text": [
      "/usr/local/lib/python3.8/dist-packages/statsmodels/regression/linear_model.py:1860: RuntimeWarning: divide by zero encountered in double_scalars\n",
      "  return np.sqrt(eigvals[0]/eigvals[-1])\n"
     ]
    }
   ],
   "source": [
    "ols_1 = smf.ols('wage ~ age + high + male + urban + children', data=df).fit()\n",
    "print(ols_1.summary())"
   ]
  },
  {
   "cell_type": "markdown",
   "metadata": {
    "id": "T4t01g0BgpDa"
   },
   "source": [
    "Так как модель из первого пункта линейная, а текущая полулогарифмическая, можем использовать для сравнения тест Бокса-Кокса, метод Зарембки, PE-тест.\n",
    "\n",
    "Проведем PE-test"
   ]
  },
  {
   "cell_type": "code",
   "execution_count": 80,
   "metadata": {
    "id": "o7LP2no2c9BA"
   },
   "outputs": [],
   "source": [
    "ypred = ols_1.predict() # прогнозы для обычной линейной модели\n",
    "znach_ypred = znach_log.predict() # прогнозы для логарифмической модели\n",
    "\n",
    "# сравним сначала первую и вторую модели\n",
    "df['add3'] = znach_ypred - np.log(ypred)\n",
    "df['add4'] = ypred - np.exp(znach_ypred)"
   ]
  },
  {
   "cell_type": "code",
   "execution_count": 86,
   "metadata": {
    "colab": {
     "base_uri": "https://localhost:8080/"
    },
    "id": "d5IgJ__PiykW",
    "outputId": "2c9c56e1-1899-4565-fa06-10f5e343e918"
   },
   "outputs": [
    {
     "name": "stdout",
     "output_type": "stream",
     "text": [
      "                            OLS Regression Results                            \n",
      "==============================================================================\n",
      "Dep. Variable:                   wage   R-squared:                       0.175\n",
      "Model:                            OLS   Adj. R-squared:                  0.145\n",
      "Method:                 Least Squares   F-statistic:                     5.819\n",
      "Date:                Thu, 15 Dec 2022   Prob (F-statistic):           6.62e-05\n",
      "Time:                        16:12:38   Log-Likelihood:                -1510.6\n",
      "No. Observations:                 143   AIC:                             3033.\n",
      "Df Residuals:                     137   BIC:                             3051.\n",
      "Df Model:                           5                                         \n",
      "Covariance Type:            nonrobust                                         \n",
      "==============================================================================\n",
      "                 coef    std err          t      P>|t|      [0.025      0.975]\n",
      "------------------------------------------------------------------------------\n",
      "Intercept   1.392e+04   5276.418      2.638      0.009    3482.871    2.44e+04\n",
      "age           64.0999    217.930      0.294      0.769    -366.842     495.042\n",
      "high        3926.4546   1768.965      2.220      0.028     428.448    7424.461\n",
      "male        7662.2552   1798.437      4.261      0.000    4105.970    1.12e+04\n",
      "urban       2.929e-13   8.51e-14      3.440      0.001    1.25e-13    4.61e-13\n",
      "children   -1841.8986   1167.107     -1.578      0.117   -4149.772     465.975\n",
      "add3       -8168.4060   3.37e+04     -0.242      0.809   -7.48e+04    5.85e+04\n",
      "==============================================================================\n",
      "Omnibus:                       17.998   Durbin-Watson:                   1.899\n",
      "Prob(Omnibus):                  0.000   Jarque-Bera (JB):               20.652\n",
      "Skew:                           0.898   Prob(JB):                     3.28e-05\n",
      "Kurtosis:                       3.490   Cond. No.                     2.71e+18\n",
      "==============================================================================\n",
      "\n",
      "Notes:\n",
      "[1] Standard Errors assume that the covariance matrix of the errors is correctly specified.\n",
      "[2] The smallest eigenvalue is 3.03e-32. This might indicate that there are\n",
      "strong multicollinearity problems or that the design matrix is singular.\n",
      "                            OLS Regression Results                            \n",
      "==============================================================================\n",
      "Dep. Variable:               log_wage   R-squared:                       0.166\n",
      "Model:                            OLS   Adj. R-squared:                  0.148\n",
      "Method:                 Least Squares   F-statistic:                     9.203\n",
      "Date:                Thu, 15 Dec 2022   Prob (F-statistic):           1.35e-05\n",
      "Time:                        16:12:38   Log-Likelihood:                -87.978\n",
      "No. Observations:                 143   AIC:                             184.0\n",
      "Df Residuals:                     139   BIC:                             195.8\n",
      "Df Model:                           3                                         \n",
      "Covariance Type:            nonrobust                                         \n",
      "==============================================================================\n",
      "                 coef    std err          t      P>|t|      [0.025      0.975]\n",
      "------------------------------------------------------------------------------\n",
      "Intercept      9.4839      0.078    122.128      0.000       9.330       9.637\n",
      "male           0.3558      0.085      4.168      0.000       0.187       0.525\n",
      "high           0.2130      0.082      2.595      0.010       0.051       0.375\n",
      "add4        1.985e-05   3.41e-05      0.582      0.562   -4.76e-05    8.73e-05\n",
      "==============================================================================\n",
      "Omnibus:                        7.515   Durbin-Watson:                   1.787\n",
      "Prob(Omnibus):                  0.023   Jarque-Bera (JB):                3.572\n",
      "Skew:                           0.098   Prob(JB):                        0.168\n",
      "Kurtosis:                       2.251   Cond. No.                     6.03e+03\n",
      "==============================================================================\n",
      "\n",
      "Notes:\n",
      "[1] Standard Errors assume that the covariance matrix of the errors is correctly specified.\n",
      "[2] The condition number is large, 6.03e+03. This might indicate that there are\n",
      "strong multicollinearity or other numerical problems.\n"
     ]
    }
   ],
   "source": [
    "reg3_add = smf.ols(\"wage ~ age + high + male + urban + children + add3\", data = df).fit()\n",
    "print(reg3_add.summary())\n",
    "reg4_add = smf.ols(\"log_wage ~ male + high + add4\", data = df).fit()\n",
    "print(reg4_add.summary())\n",
    "\n",
    "# так как обе доп. переменные оказались незначимы, то не можем сделать выбор между моделями"
   ]
  },
  {
   "cell_type": "markdown",
   "metadata": {
    "id": "Vvum7tU5j6KV"
   },
   "source": [
    "Обе дополнительные переменные оказались незначимыми на ур-не значимости 5%, следовательно, сделать выбор между двумя моделями не сможем."
   ]
  },
  {
   "cell_type": "markdown",
   "metadata": {
    "id": "bzvHBbJZmV61"
   },
   "source": [
    "## Пункт 13"
   ]
  },
  {
   "cell_type": "markdown",
   "metadata": {
    "id": "wmCDQUbFoiET"
   },
   "source": [
    "Существует статистическая взаимосвязь между зп и возрастом, только она не линейная, как делали мы, она квадратическая. То есть до определнного возраста зп работника повышается с каждым годом, перейдя это пороговое значение, она начинает снижаться. Проверим квадратическую взаимосвязь\n",
    "\n",
    "$H_0:$ коэффициенты при $age2 = age =  0$\n",
    "\n",
    "$H_1:$ иначе"
   ]
  },
  {
   "cell_type": "code",
   "execution_count": 87,
   "metadata": {
    "id": "LIoXK0j-jBk6"
   },
   "outputs": [],
   "source": [
    "df['age2'] = df['age'] ** 2"
   ]
  },
  {
   "cell_type": "code",
   "execution_count": 98,
   "metadata": {
    "colab": {
     "base_uri": "https://localhost:8080/"
    },
    "id": "Jk8HB4CdrM7I",
    "outputId": "6eb3a1aa-f53c-49a5-e625-1c967325e436"
   },
   "outputs": [
    {
     "name": "stdout",
     "output_type": "stream",
     "text": [
      "                            OLS Regression Results                            \n",
      "==============================================================================\n",
      "Dep. Variable:               log_wage   R-squared:                       0.166\n",
      "Model:                            OLS   Adj. R-squared:                  0.141\n",
      "Method:                 Least Squares   F-statistic:                     6.843\n",
      "Date:                Thu, 15 Dec 2022   Prob (F-statistic):           4.70e-05\n",
      "Time:                        17:17:54   Log-Likelihood:                -87.996\n",
      "No. Observations:                 143   AIC:                             186.0\n",
      "Df Residuals:                     138   BIC:                             200.8\n",
      "Df Model:                           4                                         \n",
      "Covariance Type:            nonrobust                                         \n",
      "==============================================================================\n",
      "                 coef    std err          t      P>|t|      [0.025      0.975]\n",
      "------------------------------------------------------------------------------\n",
      "Intercept      9.3702      0.545     17.205      0.000       8.293      10.447\n",
      "age            0.0091      0.028      0.322      0.748      -0.047       0.065\n",
      "age2          -0.0001      0.000     -0.377      0.707      -0.001       0.001\n",
      "male           0.3757      0.078      4.832      0.000       0.222       0.529\n",
      "high           0.2130      0.083      2.557      0.012       0.048       0.378\n",
      "==============================================================================\n",
      "Omnibus:                        5.130   Durbin-Watson:                   1.794\n",
      "Prob(Omnibus):                  0.077   Jarque-Bera (JB):                3.112\n",
      "Skew:                           0.159   Prob(JB):                        0.211\n",
      "Kurtosis:                       2.351   Cond. No.                     2.52e+04\n",
      "==============================================================================\n",
      "\n",
      "Notes:\n",
      "[1] Standard Errors assume that the covariance matrix of the errors is correctly specified.\n",
      "[2] The condition number is large, 2.52e+04. This might indicate that there are\n",
      "strong multicollinearity or other numerical problems.\n"
     ]
    }
   ],
   "source": [
    "age2_ols = smf.ols(\"log_wage ~ age + age2 + male + high\", data = df).fit() # модель с квадратической связью\n",
    "print(age2_ols.summary())"
   ]
  },
  {
   "cell_type": "code",
   "execution_count": 91,
   "metadata": {
    "colab": {
     "base_uri": "https://localhost:8080/"
    },
    "id": "e_QFPCXrsV4S",
    "outputId": "10ae1106-64b1-4952-f1b4-f401149da070"
   },
   "outputs": [
    {
     "data": {
      "text/plain": [
       "28.665048918419597"
      ]
     },
     "execution_count": 91,
     "metadata": {},
     "output_type": "execute_result"
    }
   ],
   "source": [
    "age2_ols.ssr # RSS_ur модели с кв.связью"
   ]
  },
  {
   "cell_type": "code",
   "execution_count": 92,
   "metadata": {
    "colab": {
     "base_uri": "https://localhost:8080/"
    },
    "id": "dasMR7XPrpl6",
    "outputId": "fecb4c3a-0234-4967-ef59-3bc964e7a8f3"
   },
   "outputs": [
    {
     "data": {
      "text/plain": [
       "28.72779703293811"
      ]
     },
     "execution_count": 92,
     "metadata": {},
     "output_type": "execute_result"
    }
   ],
   "source": [
    "znach_log.ssr # RSS_r основной модели"
   ]
  },
  {
   "cell_type": "markdown",
   "metadata": {
    "id": "8mkDQgebsNxm"
   },
   "source": [
    "Посчитаем F-stat\n",
    "\n",
    "$F_{stat} = \\frac{(RSS_r - RSS_{ur}) / q}{RSS_{ur} / (n-k-1)} = \\frac{(28.728 - 28.665) / 2}{28.665 / (143-4-1)} = 0.15$"
   ]
  },
  {
   "cell_type": "code",
   "execution_count": 94,
   "metadata": {
    "colab": {
     "base_uri": "https://localhost:8080/"
    },
    "id": "f4sP8X-ptc7A",
    "outputId": "f14880f4-871e-4872-c463-1370bf1a564b"
   },
   "outputs": [
    {
     "data": {
      "text/plain": [
       "0.15114259930671103"
      ]
     },
     "execution_count": 94,
     "metadata": {},
     "output_type": "execute_result"
    }
   ],
   "source": [
    "((28.72779-28.6650) / 2) / (28.6650489/138)"
   ]
  },
  {
   "cell_type": "markdown",
   "metadata": {
    "id": "eyUJpXYito4k"
   },
   "source": [
    "Найдем F-crit при уровне значимости 0,05 и степенями свободы (2, 138)\n",
    "\n",
    "$F_{crit} = F_{0.95, (2, 138)} = 3,06$"
   ]
  },
  {
   "cell_type": "code",
   "execution_count": 93,
   "metadata": {
    "colab": {
     "base_uri": "https://localhost:8080/"
    },
    "id": "zBRHvSByto4k",
    "outputId": "1a1b2c9a-377a-41cf-9ca8-fcb272761cba"
   },
   "outputs": [
    {
     "data": {
      "text/plain": [
       "3.0617156997722694"
      ]
     },
     "execution_count": 93,
     "metadata": {},
     "output_type": "execute_result"
    }
   ],
   "source": [
    "stats.f.ppf(0.95, 2, 138)"
   ]
  },
  {
   "cell_type": "code",
   "execution_count": 95,
   "metadata": {
    "colab": {
     "base_uri": "https://localhost:8080/"
    },
    "id": "Pn1kpFXtto4l",
    "outputId": "54d8d24a-2563-45a0-a940-0729b00515f1"
   },
   "outputs": [
    {
     "name": "stdout",
     "output_type": "stream",
     "text": [
      "p-value = 1.0\n"
     ]
    }
   ],
   "source": [
    "# рассчитаем p-value\n",
    "print(f'p-value = {1 - stats.f.cdf(0,15, 2, 138)}')"
   ]
  },
  {
   "cell_type": "markdown",
   "metadata": {
    "id": "TUdKdVPCto4l"
   },
   "source": [
    "Так как критическое значение больше наблюдаемого, и P-value больше уровня значимости, можем заключить то, что гипотеза $H_0$ о незначимости коэффициентов не отвергается. Следовательно, в нашей модели нет квадратической зависимости логарифма зп от возраста."
   ]
  },
  {
   "cell_type": "markdown",
   "metadata": {
    "id": "ntTAtE09xdkA"
   },
   "source": [
    "## Пункт 14\n",
    "\n",
    "Итоговая модель\n",
    "\n",
    "**Уравнение оцененной модели:** $ln\\widehat{Wage} = 9.5 + 0.2148 * High + 0.3772 * Male$"
   ]
  },
  {
   "cell_type": "code",
   "execution_count": 96,
   "metadata": {
    "colab": {
     "base_uri": "https://localhost:8080/"
    },
    "id": "ftMqlaIuvV90",
    "outputId": "657c6b21-c21d-488d-c614-659d62462ce5"
   },
   "outputs": [
    {
     "name": "stdout",
     "output_type": "stream",
     "text": [
      "                            OLS Regression Results                            \n",
      "==============================================================================\n",
      "Dep. Variable:               log_wage   R-squared:                       0.164\n",
      "Model:                            OLS   Adj. R-squared:                  0.152\n",
      "Method:                 Least Squares   F-statistic:                     13.70\n",
      "Date:                Thu, 15 Dec 2022   Prob (F-statistic):           3.68e-06\n",
      "Time:                        17:15:04   Log-Likelihood:                -88.152\n",
      "No. Observations:                 143   AIC:                             182.3\n",
      "Df Residuals:                     140   BIC:                             191.2\n",
      "Df Model:                           2                                         \n",
      "Covariance Type:            nonrobust                                         \n",
      "==============================================================================\n",
      "                 coef    std err          t      P>|t|      [0.025      0.975]\n",
      "------------------------------------------------------------------------------\n",
      "Intercept      9.5099      0.063    150.236      0.000       9.385       9.635\n",
      "high           0.2148      0.082      2.625      0.010       0.053       0.377\n",
      "male           0.3772      0.077      4.907      0.000       0.225       0.529\n",
      "==============================================================================\n",
      "Omnibus:                        6.476   Durbin-Watson:                   1.793\n",
      "Prob(Omnibus):                  0.039   Jarque-Bera (JB):                3.443\n",
      "Skew:                           0.139   Prob(JB):                        0.179\n",
      "Kurtosis:                       2.292   Cond. No.                         3.19\n",
      "==============================================================================\n",
      "\n",
      "Notes:\n",
      "[1] Standard Errors assume that the covariance matrix of the errors is correctly specified.\n"
     ]
    }
   ],
   "source": [
    "znach_log = smf.ols('log_wage ~ high + male', data=df).fit()\n",
    "print(znach_log.summary())"
   ]
  },
  {
   "cell_type": "markdown",
   "metadata": {
    "id": "v_GGGrtI8JRl"
   },
   "source": [
    "# Проблемы\n",
    "\n",
    "1) Слишком мало объектов в выборке. 144 объекта - очень мало для построения адекватной модели. С учетом большого разброса значений достигнуть высокого качества модели очень сложно.\n",
    "\n",
    "2) Пропуск важной переменной. Проверяется с помощью теста Рэмси, в работе проверяли только один вспомогательный регрессор, этого недостаточно. Нужно проверить больше регрессоров тестом Рэмси.\n",
    "\n",
    "3) Включение лишних переменных. Проблема приводит к неэффективности оценок коэффициентов, диагностика с помощью F теста на группу незначимых переменных.\n",
    "\n",
    "4) Дамми-переменная пола является своего рода частью константы (intercept) и не определяет наклон графика модели, тогда как в теории участие пола в наклоне графика зп весьма очевидно. \n",
    "\n",
    "5) Не стали разбивать выборку отдельно на мужчин и на женщин, хотя, как выяснилось, они принадлежат разным генеральным совокупностям."
   ]
  }
 ],
 "metadata": {
  "colab": {
   "provenance": []
  },
  "kernelspec": {
   "display_name": "Python 3",
   "language": "python",
   "name": "python3"
  },
  "language_info": {
   "codemirror_mode": {
    "name": "ipython",
    "version": 3
   },
   "file_extension": ".py",
   "mimetype": "text/x-python",
   "name": "python",
   "nbconvert_exporter": "python",
   "pygments_lexer": "ipython3",
   "version": "3.8.5"
  }
 },
 "nbformat": 4,
 "nbformat_minor": 1
}
